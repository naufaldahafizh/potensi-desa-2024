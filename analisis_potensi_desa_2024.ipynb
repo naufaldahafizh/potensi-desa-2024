{
 "cells": [
  {
   "cell_type": "markdown",
   "id": "402e549f",
   "metadata": {},
   "source": [
    "# Analisis Eksploratif Potensi Desa di Indonesia"
   ]
  },
  {
   "cell_type": "markdown",
   "id": "94a3a747",
   "metadata": {},
   "source": [
    "## Tujuan"
   ]
  },
  {
   "cell_type": "markdown",
   "id": "5b9049ad",
   "metadata": {},
   "source": [
    "Tujuan dari analisis ini adalah mendapatkan insight terkait potensi desa di Indonesia dalam berbagai bidang, seperti kependudukan, fasilitas, ekonomi, dan infrastruktur.\n",
    "\n",
    "Sumber yang digunakan yaitu data Badan Pusat Statistik (BPS) dan Portal Data Kementerian Desa (Kemendesa)"
   ]
  },
  {
   "cell_type": "code",
   "execution_count": 1,
   "id": "1fe5adee",
   "metadata": {},
   "outputs": [],
   "source": [
    "# Import Libraries\n",
    "import os\n",
    "import glob\n",
    "import pandas as pd\n",
    "import matplotlib.pyplot as plt\n",
    "import seaborn as sns"
   ]
  },
  {
   "cell_type": "markdown",
   "id": "3157664a",
   "metadata": {},
   "source": [
    "## 1. Pengumpulan Data"
   ]
  },
  {
   "cell_type": "markdown",
   "id": "043e5249",
   "metadata": {},
   "source": [
    "Pengumpulan data berdasarkan sumber dengan mengunduh file terkait potensi desa dalam format .csv dan telah diunduh 26 file dari 22 data yang tersedia publik"
   ]
  },
  {
   "cell_type": "code",
   "execution_count": 8,
   "id": "7d195bc4",
   "metadata": {},
   "outputs": [
    {
     "name": "stdout",
     "output_type": "stream",
     "text": [
      "26\n",
      "['c:\\\\Users\\\\ACER\\\\potensi-desa-2024\\\\data\\\\10_Banyaknya Desa_Kelurahan yang Menerima Sinyal Telepon Selular Menurut Provinsi (Sinyal Lemah), 2021.csv', 'c:\\\\Users\\\\ACER\\\\potensi-desa-2024\\\\data\\\\11_Banyaknya Desa_Kelurahan yang Tidak Memiliki Menara BTS Menurut Provinsi dan Penerimaan Sinyal Telepon Selular (Perdesaan), 2021.csv', 'c:\\\\Users\\\\ACER\\\\potensi-desa-2024\\\\data\\\\12_Jumlah Desa_Kelurahan Menurut Provinsi, 2024.csv', 'c:\\\\Users\\\\ACER\\\\potensi-desa-2024\\\\data\\\\13_jumlah-pendamping-desa-yang-diberdayakan.csv', 'c:\\\\Users\\\\ACER\\\\potensi-desa-2024\\\\data\\\\14_data-jumlah-masyarakat-desa-yang-diberikan-pelatihan-tahun-2024.csv', 'c:\\\\Users\\\\ACER\\\\potensi-desa-2024\\\\data\\\\15_jumlah-jenis-usaha-dan-status-badan-hukum-bumdesa-bumdesa-bersama.csv', 'c:\\\\Users\\\\ACER\\\\potensi-desa-2024\\\\data\\\\16_jumlah-bumdesa-dan-bumdesa-bersama-yang-berbadan-hukum.csv', 'c:\\\\Users\\\\ACER\\\\potensi-desa-2024\\\\data\\\\17_bumdesa-kategori-usaha.csv', 'c:\\\\Users\\\\ACER\\\\potensi-desa-2024\\\\data\\\\18_jumlah-tenaga-kerja-di-badan-usaha-milik-desa-bumdes.csv', 'c:\\\\Users\\\\ACER\\\\potensi-desa-2024\\\\data\\\\19_jumlah-bumdesa-dan-bumdesa-bersama-nasional.csv', 'c:\\\\Users\\\\ACER\\\\potensi-desa-2024\\\\data\\\\1_Jumlah Desa Mandiri Menurut Provinsi, 2019.csv', 'c:\\\\Users\\\\ACER\\\\potensi-desa-2024\\\\data\\\\1_Jumlah Desa Mandiri Menurut Provinsi, 2020.csv', 'c:\\\\Users\\\\ACER\\\\potensi-desa-2024\\\\data\\\\1_Jumlah Desa Mandiri Menurut Provinsi, 2021.csv', 'c:\\\\Users\\\\ACER\\\\potensi-desa-2024\\\\data\\\\20_jumlah-desa-penerima-bantuan-pow.csv', 'c:\\\\Users\\\\ACER\\\\potensi-desa-2024\\\\data\\\\21_Jumlah Desa Manfaat SP.csv', 'c:\\\\Users\\\\ACER\\\\potensi-desa-2024\\\\data\\\\22_Jumlah Desa Status Kemajuan.csv', 'c:\\\\Users\\\\ACER\\\\potensi-desa-2024\\\\data\\\\2_Jumlah Desa Tertinggal menurut Provinsi, 2019.csv', 'c:\\\\Users\\\\ACER\\\\potensi-desa-2024\\\\data\\\\2_Jumlah Desa Tertinggal menurut Provinsi, 2020.csv', 'c:\\\\Users\\\\ACER\\\\potensi-desa-2024\\\\data\\\\2_Jumlah Desa Tertinggal menurut Provinsi, 2021.csv', 'c:\\\\Users\\\\ACER\\\\potensi-desa-2024\\\\data\\\\3_Jumlah Desa Menurut Provinsi dan Letak Geografi, 2024.csv', 'c:\\\\Users\\\\ACER\\\\potensi-desa-2024\\\\data\\\\4_Jumlah Desa yang Memiliki Fasilitas Sekolah Menurut Provinsi dan Tingkat Pendidikan, 2024.csv', 'c:\\\\Users\\\\ACER\\\\potensi-desa-2024\\\\data\\\\5_Jumlah Desa_Kelurahan Yang Memiliki Sarana Kesehatan Menurut Provinsi, 2018.csv', 'c:\\\\Users\\\\ACER\\\\potensi-desa-2024\\\\data\\\\6_Banyaknya Desa_Kelurahan yang Memiliki Fasilitas Internet di Kantor Desa_Lurah menurut Provinsi dan Klasifikasi Daerah, 2021.csv', 'c:\\\\Users\\\\ACER\\\\potensi-desa-2024\\\\data\\\\7_Banyaknya Desa_Kelurahan yang Memiliki Menara Base Transceiver Station (BTS) menurut Provinsi dan Klasifikasi Daerah, 2021.csv', 'c:\\\\Users\\\\ACER\\\\potensi-desa-2024\\\\data\\\\8_Banyaknya Desa_Kelurahan yang Memiliki Menara BTS Menurut Provinsi dan Penerimaan Sinyal Telepon Selular (Perdesaan), 2021.csv', 'c:\\\\Users\\\\ACER\\\\potensi-desa-2024\\\\data\\\\9_Banyaknya Desa_Kelurahan yang Menerima Sinyal Telepon Selular Menurut Provinsi (Sinyal Kuat), 2021.csv']\n"
     ]
    }
   ],
   "source": [
    "# Membuat daftar file csv yang telah diunduh\n",
    "script_dir = os.getcwd()\n",
    "csv_files = glob.glob(os.path.join(script_dir, 'data', '*.csv'))\n",
    "print(len(csv_files))\n",
    "print(csv_files)"
   ]
  },
  {
   "cell_type": "code",
   "execution_count": 9,
   "id": "dd62660d",
   "metadata": {},
   "outputs": [
    {
     "name": "stdout",
     "output_type": "stream",
     "text": [
      "DataFrame: 10_Banyaknya Desa_Kelurahan yang Menerima Sinyal Telepon Selular Menurut Provinsi (Sinyal Lemah), 2021, Shape: (42, 4)\n",
      "DataFrame: 11_Banyaknya Desa_Kelurahan yang Tidak Memiliki Menara BTS Menurut Provinsi dan Penerimaan Sinyal Telepon Selular (Perdesaan), 2021, Shape: (42, 4)\n",
      "DataFrame: 12_Jumlah Desa_Kelurahan Menurut Provinsi, 2024, Shape: (42, 2)\n",
      "DataFrame: 13_jumlah-pendamping-desa-yang-diberdayakan, Shape: (39, 9)\n",
      "DataFrame: 14_data-jumlah-masyarakat-desa-yang-diberikan-pelatihan-tahun-2024, Shape: (772, 13)\n",
      "DataFrame: 15_jumlah-jenis-usaha-dan-status-badan-hukum-bumdesa-bumdesa-bersama, Shape: (167025, 8)\n",
      "DataFrame: 16_jumlah-bumdesa-dan-bumdesa-bersama-yang-berbadan-hukum, Shape: (21709, 7)\n",
      "DataFrame: 17_bumdesa-kategori-usaha, Shape: (167025, 7)\n",
      "DataFrame: 18_jumlah-tenaga-kerja-di-badan-usaha-milik-desa-bumdes, Shape: (18245, 8)\n",
      "DataFrame: 19_jumlah-bumdesa-dan-bumdesa-bersama-nasional, Shape: (21709, 7)\n",
      "DataFrame: 1_Jumlah Desa Mandiri Menurut Provinsi, 2019, Shape: (41, 2)\n",
      "DataFrame: 1_Jumlah Desa Mandiri Menurut Provinsi, 2020, Shape: (41, 2)\n",
      "DataFrame: 1_Jumlah Desa Mandiri Menurut Provinsi, 2021, Shape: (41, 2)\n",
      "DataFrame: 20_jumlah-desa-penerima-bantuan-pow, Shape: (98, 7)\n",
      "DataFrame: 21_Jumlah Desa Manfaat SP, Shape: (37, 69)\n",
      "DataFrame: 22_Jumlah Desa Status Kemajuan, Shape: (435, 12)\n",
      "DataFrame: 2_Jumlah Desa Tertinggal menurut Provinsi, 2019, Shape: (42, 4)\n",
      "DataFrame: 2_Jumlah Desa Tertinggal menurut Provinsi, 2020, Shape: (42, 4)\n",
      "DataFrame: 2_Jumlah Desa Tertinggal menurut Provinsi, 2021, Shape: (42, 4)\n",
      "DataFrame: 3_Jumlah Desa Menurut Provinsi dan Letak Geografi, 2024, Shape: (42, 3)\n",
      "DataFrame: 4_Jumlah Desa yang Memiliki Fasilitas Sekolah Menurut Provinsi dan Tingkat Pendidikan, 2024, Shape: (42, 6)\n",
      "DataFrame: 5_Jumlah Desa_Kelurahan Yang Memiliki Sarana Kesehatan Menurut Provinsi, 2018, Shape: (42, 7)\n",
      "DataFrame: 6_Banyaknya Desa_Kelurahan yang Memiliki Fasilitas Internet di Kantor Desa_Lurah menurut Provinsi dan Klasifikasi Daerah, 2021, Shape: (42, 4)\n",
      "DataFrame: 7_Banyaknya Desa_Kelurahan yang Memiliki Menara Base Transceiver Station (BTS) menurut Provinsi dan Klasifikasi Daerah, 2021, Shape: (42, 4)\n",
      "DataFrame: 8_Banyaknya Desa_Kelurahan yang Memiliki Menara BTS Menurut Provinsi dan Penerimaan Sinyal Telepon Selular (Perdesaan), 2021, Shape: (42, 4)\n",
      "DataFrame: 9_Banyaknya Desa_Kelurahan yang Menerima Sinyal Telepon Selular Menurut Provinsi (Sinyal Kuat), 2021, Shape: (42, 4)\n"
     ]
    }
   ],
   "source": [
    "# Membuka file CSV dan disimpan dalam dataframe\n",
    "dataframes = {}\n",
    "\n",
    "for file_path in csv_files:\n",
    "    file_name = os.path.splitext(os.path.basename(file_path))[0]\n",
    "    df = pd.read_csv(file_path, encoding='latin1')\n",
    "    dataframes[file_name] = df\n",
    "\n",
    "for name, df in dataframes.items():\n",
    "    print(f\"DataFrame: {name}, Shape: {df.shape}\")"
   ]
  },
  {
   "cell_type": "markdown",
   "id": "e6845e54",
   "metadata": {},
   "source": [
    "## 2. Analisis Data (EDA)"
   ]
  },
  {
   "cell_type": "markdown",
   "id": "ebede7fa",
   "metadata": {},
   "source": []
  }
 ],
 "metadata": {
  "kernelspec": {
   "display_name": "base",
   "language": "python",
   "name": "python3"
  },
  "language_info": {
   "codemirror_mode": {
    "name": "ipython",
    "version": 3
   },
   "file_extension": ".py",
   "mimetype": "text/x-python",
   "name": "python",
   "nbconvert_exporter": "python",
   "pygments_lexer": "ipython3",
   "version": "3.13.5"
  }
 },
 "nbformat": 4,
 "nbformat_minor": 5
}
