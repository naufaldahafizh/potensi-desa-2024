{
 "cells": [
  {
   "cell_type": "markdown",
   "id": "402e549f",
   "metadata": {},
   "source": [
    "# Analisis Eksploratif Potensi Desa di Indonesia"
   ]
  },
  {
   "cell_type": "markdown",
   "id": "94a3a747",
   "metadata": {},
   "source": [
    "## Tujuan"
   ]
  },
  {
   "cell_type": "markdown",
   "id": "5b9049ad",
   "metadata": {},
   "source": [
    "Tujuan dari analisis ini adalah mendapatkan insight terkait potensi desa di Indonesia dalam berbagai bidang, seperti kependudukan, fasilitas, ekonomi, dan infrastruktur.\n",
    "\n",
    "Sumber yang digunakan yaitu data Badan Pusat Statistik (BPS) dan Portal Data Kementerian Desa (Kemendesa)"
   ]
  },
  {
   "cell_type": "code",
   "execution_count": 1,
   "id": "1fe5adee",
   "metadata": {},
   "outputs": [],
   "source": [
    "# Import Libraries\n",
    "import os\n",
    "import glob\n",
    "import pandas as pd\n",
    "import matplotlib.pyplot as plt\n",
    "import seaborn as sns"
   ]
  },
  {
   "cell_type": "markdown",
   "id": "3157664a",
   "metadata": {},
   "source": [
    "## 1. Pengumpulan Data"
   ]
  },
  {
   "cell_type": "markdown",
   "id": "043e5249",
   "metadata": {},
   "source": [
    "Pengumpulan data berdasarkan sumber dengan mengunduh file terkait potensi desa dalam format .csv dan telah diunduh 26 file dari 22 data yang tersedia publik"
   ]
  },
  {
   "cell_type": "code",
   "execution_count": 8,
   "id": "7d195bc4",
   "metadata": {},
   "outputs": [
    {
     "name": "stdout",
     "output_type": "stream",
     "text": [
      "26\n",
      "['c:\\\\Users\\\\ACER\\\\potensi-desa-2024\\\\data\\\\10_Banyaknya Desa_Kelurahan yang Menerima Sinyal Telepon Selular Menurut Provinsi (Sinyal Lemah), 2021.csv', 'c:\\\\Users\\\\ACER\\\\potensi-desa-2024\\\\data\\\\11_Banyaknya Desa_Kelurahan yang Tidak Memiliki Menara BTS Menurut Provinsi dan Penerimaan Sinyal Telepon Selular (Perdesaan), 2021.csv', 'c:\\\\Users\\\\ACER\\\\potensi-desa-2024\\\\data\\\\12_Jumlah Desa_Kelurahan Menurut Provinsi, 2024.csv', 'c:\\\\Users\\\\ACER\\\\potensi-desa-2024\\\\data\\\\13_jumlah-pendamping-desa-yang-diberdayakan.csv', 'c:\\\\Users\\\\ACER\\\\potensi-desa-2024\\\\data\\\\14_data-jumlah-masyarakat-desa-yang-diberikan-pelatihan-tahun-2024.csv', 'c:\\\\Users\\\\ACER\\\\potensi-desa-2024\\\\data\\\\15_jumlah-jenis-usaha-dan-status-badan-hukum-bumdesa-bumdesa-bersama.csv', 'c:\\\\Users\\\\ACER\\\\potensi-desa-2024\\\\data\\\\16_jumlah-bumdesa-dan-bumdesa-bersama-yang-berbadan-hukum.csv', 'c:\\\\Users\\\\ACER\\\\potensi-desa-2024\\\\data\\\\17_bumdesa-kategori-usaha.csv', 'c:\\\\Users\\\\ACER\\\\potensi-desa-2024\\\\data\\\\18_jumlah-tenaga-kerja-di-badan-usaha-milik-desa-bumdes.csv', 'c:\\\\Users\\\\ACER\\\\potensi-desa-2024\\\\data\\\\19_jumlah-bumdesa-dan-bumdesa-bersama-nasional.csv', 'c:\\\\Users\\\\ACER\\\\potensi-desa-2024\\\\data\\\\1_Jumlah Desa Mandiri Menurut Provinsi, 2019.csv', 'c:\\\\Users\\\\ACER\\\\potensi-desa-2024\\\\data\\\\1_Jumlah Desa Mandiri Menurut Provinsi, 2020.csv', 'c:\\\\Users\\\\ACER\\\\potensi-desa-2024\\\\data\\\\1_Jumlah Desa Mandiri Menurut Provinsi, 2021.csv', 'c:\\\\Users\\\\ACER\\\\potensi-desa-2024\\\\data\\\\20_jumlah-desa-penerima-bantuan-pow.csv', 'c:\\\\Users\\\\ACER\\\\potensi-desa-2024\\\\data\\\\21_Jumlah Desa Manfaat SP.csv', 'c:\\\\Users\\\\ACER\\\\potensi-desa-2024\\\\data\\\\22_Jumlah Desa Status Kemajuan.csv', 'c:\\\\Users\\\\ACER\\\\potensi-desa-2024\\\\data\\\\2_Jumlah Desa Tertinggal menurut Provinsi, 2019.csv', 'c:\\\\Users\\\\ACER\\\\potensi-desa-2024\\\\data\\\\2_Jumlah Desa Tertinggal menurut Provinsi, 2020.csv', 'c:\\\\Users\\\\ACER\\\\potensi-desa-2024\\\\data\\\\2_Jumlah Desa Tertinggal menurut Provinsi, 2021.csv', 'c:\\\\Users\\\\ACER\\\\potensi-desa-2024\\\\data\\\\3_Jumlah Desa Menurut Provinsi dan Letak Geografi, 2024.csv', 'c:\\\\Users\\\\ACER\\\\potensi-desa-2024\\\\data\\\\4_Jumlah Desa yang Memiliki Fasilitas Sekolah Menurut Provinsi dan Tingkat Pendidikan, 2024.csv', 'c:\\\\Users\\\\ACER\\\\potensi-desa-2024\\\\data\\\\5_Jumlah Desa_Kelurahan Yang Memiliki Sarana Kesehatan Menurut Provinsi, 2018.csv', 'c:\\\\Users\\\\ACER\\\\potensi-desa-2024\\\\data\\\\6_Banyaknya Desa_Kelurahan yang Memiliki Fasilitas Internet di Kantor Desa_Lurah menurut Provinsi dan Klasifikasi Daerah, 2021.csv', 'c:\\\\Users\\\\ACER\\\\potensi-desa-2024\\\\data\\\\7_Banyaknya Desa_Kelurahan yang Memiliki Menara Base Transceiver Station (BTS) menurut Provinsi dan Klasifikasi Daerah, 2021.csv', 'c:\\\\Users\\\\ACER\\\\potensi-desa-2024\\\\data\\\\8_Banyaknya Desa_Kelurahan yang Memiliki Menara BTS Menurut Provinsi dan Penerimaan Sinyal Telepon Selular (Perdesaan), 2021.csv', 'c:\\\\Users\\\\ACER\\\\potensi-desa-2024\\\\data\\\\9_Banyaknya Desa_Kelurahan yang Menerima Sinyal Telepon Selular Menurut Provinsi (Sinyal Kuat), 2021.csv']\n"
     ]
    }
   ],
   "source": [
    "# Membuat daftar file csv yang telah diunduh\n",
    "script_dir = os.getcwd()\n",
    "csv_files = glob.glob(os.path.join(script_dir, 'data', '*.csv'))\n",
    "print(len(csv_files))\n",
    "print(csv_files)"
   ]
  },
  {
   "cell_type": "code",
   "execution_count": 9,
   "id": "dd62660d",
   "metadata": {},
   "outputs": [
    {
     "name": "stdout",
     "output_type": "stream",
     "text": [
      "DataFrame: 10_Banyaknya Desa_Kelurahan yang Menerima Sinyal Telepon Selular Menurut Provinsi (Sinyal Lemah), 2021, Shape: (42, 4)\n",
      "DataFrame: 11_Banyaknya Desa_Kelurahan yang Tidak Memiliki Menara BTS Menurut Provinsi dan Penerimaan Sinyal Telepon Selular (Perdesaan), 2021, Shape: (42, 4)\n",
      "DataFrame: 12_Jumlah Desa_Kelurahan Menurut Provinsi, 2024, Shape: (42, 2)\n",
      "DataFrame: 13_jumlah-pendamping-desa-yang-diberdayakan, Shape: (39, 9)\n",
      "DataFrame: 14_data-jumlah-masyarakat-desa-yang-diberikan-pelatihan-tahun-2024, Shape: (772, 13)\n",
      "DataFrame: 15_jumlah-jenis-usaha-dan-status-badan-hukum-bumdesa-bumdesa-bersama, Shape: (167025, 8)\n",
      "DataFrame: 16_jumlah-bumdesa-dan-bumdesa-bersama-yang-berbadan-hukum, Shape: (21709, 7)\n",
      "DataFrame: 17_bumdesa-kategori-usaha, Shape: (167025, 7)\n",
      "DataFrame: 18_jumlah-tenaga-kerja-di-badan-usaha-milik-desa-bumdes, Shape: (18245, 8)\n",
      "DataFrame: 19_jumlah-bumdesa-dan-bumdesa-bersama-nasional, Shape: (21709, 7)\n",
      "DataFrame: 1_Jumlah Desa Mandiri Menurut Provinsi, 2019, Shape: (41, 2)\n",
      "DataFrame: 1_Jumlah Desa Mandiri Menurut Provinsi, 2020, Shape: (41, 2)\n",
      "DataFrame: 1_Jumlah Desa Mandiri Menurut Provinsi, 2021, Shape: (41, 2)\n",
      "DataFrame: 20_jumlah-desa-penerima-bantuan-pow, Shape: (98, 7)\n",
      "DataFrame: 21_Jumlah Desa Manfaat SP, Shape: (37, 69)\n",
      "DataFrame: 22_Jumlah Desa Status Kemajuan, Shape: (435, 12)\n",
      "DataFrame: 2_Jumlah Desa Tertinggal menurut Provinsi, 2019, Shape: (42, 4)\n",
      "DataFrame: 2_Jumlah Desa Tertinggal menurut Provinsi, 2020, Shape: (42, 4)\n",
      "DataFrame: 2_Jumlah Desa Tertinggal menurut Provinsi, 2021, Shape: (42, 4)\n",
      "DataFrame: 3_Jumlah Desa Menurut Provinsi dan Letak Geografi, 2024, Shape: (42, 3)\n",
      "DataFrame: 4_Jumlah Desa yang Memiliki Fasilitas Sekolah Menurut Provinsi dan Tingkat Pendidikan, 2024, Shape: (42, 6)\n",
      "DataFrame: 5_Jumlah Desa_Kelurahan Yang Memiliki Sarana Kesehatan Menurut Provinsi, 2018, Shape: (42, 7)\n",
      "DataFrame: 6_Banyaknya Desa_Kelurahan yang Memiliki Fasilitas Internet di Kantor Desa_Lurah menurut Provinsi dan Klasifikasi Daerah, 2021, Shape: (42, 4)\n",
      "DataFrame: 7_Banyaknya Desa_Kelurahan yang Memiliki Menara Base Transceiver Station (BTS) menurut Provinsi dan Klasifikasi Daerah, 2021, Shape: (42, 4)\n",
      "DataFrame: 8_Banyaknya Desa_Kelurahan yang Memiliki Menara BTS Menurut Provinsi dan Penerimaan Sinyal Telepon Selular (Perdesaan), 2021, Shape: (42, 4)\n",
      "DataFrame: 9_Banyaknya Desa_Kelurahan yang Menerima Sinyal Telepon Selular Menurut Provinsi (Sinyal Kuat), 2021, Shape: (42, 4)\n"
     ]
    }
   ],
   "source": [
    "# Membuka file CSV dan disimpan dalam dataframe\n",
    "dataframes = {}\n",
    "\n",
    "for file_path in csv_files:\n",
    "    file_name = os.path.splitext(os.path.basename(file_path))[0]\n",
    "    df = pd.read_csv(file_path, encoding='latin1')\n",
    "    dataframes[file_name] = df\n",
    "\n",
    "for name, df in dataframes.items():\n",
    "    print(f\"DataFrame: {name}, Shape: {df.shape}\")"
   ]
  },
  {
   "cell_type": "markdown",
   "id": "e6845e54",
   "metadata": {},
   "source": [
    "## 2. Analisis Data (EDA)"
   ]
  },
  {
   "cell_type": "markdown",
   "id": "ebede7fa",
   "metadata": {},
<<<<<<< HEAD
   "source": [
    "### Data Cleaning"
   ]
  },
  {
   "cell_type": "code",
   "execution_count": 45,
   "id": "4a4842af",
   "metadata": {},
   "outputs": [],
   "source": [
    "# Mapping untuk mengubah nama kolom\n",
    "peta_kolom = {\n",
    "    '01_Jumlah Desa Mandiri Menurut Provinsi, 2019': {\n",
    "        'ï»¿38 Provinsi': 'Provinsi',\n",
    "        'Unnamed: 1': 'Jumlah Desa Mandiri Menurut Provinsi (Desa)_2019'\n",
    "    },\n",
    "    '01_Jumlah Desa Mandiri Menurut Provinsi, 2020': {\n",
    "        'ï»¿38 Provinsi': 'Provinsi',\n",
    "        'Unnamed: 1': 'Jumlah Desa Mandiri Menurut Provinsi (Desa)_2020'\n",
    "    },\n",
    "    '01_Jumlah Desa Mandiri Menurut Provinsi, 2021': {\n",
    "        'ï»¿38 Provinsi': 'Provinsi',\n",
    "        'Unnamed: 1': 'Jumlah Desa Mandiri Menurut Provinsi (Desa)_2021'\n",
    "    },\n",
    "    '02_Jumlah Desa Tertinggal menurut Provinsi, 2019': {\n",
    "        'ï»¿38 Provinsi': 'Provinsi',\n",
    "        'Unnamed: 1': 'Desa Sangat Tertinggal_2019',\n",
    "        'Unnamed: 2': 'Desa Tertinggal_2019',\n",
    "        'Unnamed: 3': 'Jumlah_2019'\n",
    "    },\n",
    "    '02_Jumlah Desa Tertinggal menurut Provinsi, 2020': {\n",
    "        'ï»¿38 Provinsi': 'Provinsi',\n",
    "        'Unnamed: 1': 'Desa Sangat Tertinggal_2020',\n",
    "        'Unnamed: 2': 'Desa Tertinggal_2020',\n",
    "        'Unnamed: 3': 'Jumlah_2020'\n",
    "    },\n",
    "    '02_Jumlah Desa Tertinggal menurut Provinsi, 2021': {\n",
    "        'ï»¿38 Provinsi': 'Provinsi',\n",
    "        'Unnamed: 1': 'Desa Sangat Tertinggal_2021',\n",
    "        'Unnamed: 2': 'Desa Tertinggal_2021',\n",
    "        'Unnamed: 3': 'Jumlah_2021'\n",
    "    },\n",
    "    '03_Jumlah Desa Menurut Provinsi dan Letak Geografi, 2024': {\n",
    "        'ï»¿38 Provinsi': 'Provinsi',\n",
    "        'Unnamed: 1': 'Tepi Laut_2024',\n",
    "        'Unnamed: 2': 'Bukan Tepi Laut_2024'\n",
    "    },\n",
    "    '04_Jumlah Desa yang Memiliki Fasilitas Sekolah Menurut Provinsi dan Tingkat Pendidikan, 2024': {\n",
    "        'ï»¿38 Provinsi': 'Provinsi',\n",
    "        'Unnamed: 1': 'SD_2024',\n",
    "        'Unnamed: 2': 'SMP_2024',\n",
    "        'Unnamed: 3': 'SMU_2024',\n",
    "        'Unnamed: 4': 'SMK_2024',\n",
    "        'Unnamed: 5': 'Perguruan Tinggi_2024'\n",
    "    },\n",
    "    '05_Jumlah Desa_Kelurahan Yang Memiliki Sarana Kesehatan Menurut Provinsi, 2018': {\n",
    "        'ï»¿38 Provinsi': 'Provinsi',\n",
    "        'Unnamed: 1': 'Rumah Sakit_2018',\n",
    "        'Unnamed: 2': 'Rumah Sakit Bersalin_2018',\n",
    "        'Unnamed: 3': 'Poliklinik_2018',\n",
    "        'Unnamed: 4': 'Puskesmas_2018',\n",
    "        'Unnamed: 5': 'Puskesmas Pembantu_2018',\n",
    "        'Unnamed: 6': 'Apotek_2018'\n",
    "    },\n",
    "    '06_Banyaknya Desa_Kelurahan yang Memiliki Fasilitas Internet di Kantor Desa_Lurah menurut Provinsi dan Klasifikasi Daerah, 2021': {\n",
    "        'ï»¿38 Provinsi': 'Provinsi',\n",
    "        'Unnamed: 1': 'Perkotaan_2021',\n",
    "        'Unnamed: 2': 'Pedesaan_2021',\n",
    "        'Unnamed: 3': 'Perkotaan+Perdesaan_2021'\n",
    "    },\n",
    "    '07_Banyaknya Desa_Kelurahan yang Memiliki Menara Base Transceiver Station (BTS) menurut Provinsi dan Klasifikasi Daerah, 2021': {\n",
    "        'ï»¿38 Provinsi': 'Provinsi',\n",
    "        'Unnamed: 1': 'Perkotaan_2021',\n",
    "        'Unnamed: 2': 'Pedesaan_2021',\n",
    "        'Unnamed: 3': 'Perkotaan+Perdesaan_2021'\n",
    "    },\n",
    "    '08_Banyaknya Desa_Kelurahan yang Memiliki Menara BTS Menurut Provinsi dan Penerimaan Sinyal Telepon Selular (Perdesaan), 2021': {\n",
    "        'ï»¿38 Provinsi': 'Provinsi',\n",
    "        'Unnamed: 1': 'Ada Sinyal Kuat_2021',\n",
    "        'Unnamed: 2': 'Ada Sinyal Lemah_2021',\n",
    "        'Unnamed: 3': 'Tidak Ada Sinyal_2021'\n",
    "    },\n",
    "    '09_Banyaknya Desa_Kelurahan yang Menerima Sinyal Telepon Selular Menurut Provinsi (Sinyal Kuat), 2021': {\n",
    "        'ï»¿38 Provinsi': 'Provinsi',\n",
    "        'Unnamed: 1': 'Perkotaan_2021',\n",
    "        'Unnamed: 2': 'Pedesaan_2021',\n",
    "        'Unnamed: 3': 'Perkotaan+Perdesaan_2021'\n",
    "    },\n",
    "    '10_Banyaknya Desa_Kelurahan yang Menerima Sinyal Telepon Selular Menurut Provinsi (Sinyal Lemah), 2021': {\n",
    "        'ï»¿38 Provinsi': 'Provinsi',\n",
    "        'Unnamed: 1': 'Perkotaan_2021',\n",
    "        'Unnamed: 2': 'Pedesaan_2021',\n",
    "        'Unnamed: 3': 'Perkotaan+Perdesaan_2021'\n",
    "    },\n",
    "    '11_Banyaknya Desa_Kelurahan yang Tidak Memiliki Menara BTS Menurut Provinsi dan Penerimaan Sinyal Telepon Selular (Perdesaan), 2021': {\n",
    "        'ï»¿38 Provinsi': 'Provinsi',\n",
    "        'Unnamed: 1': 'Ada Sinyal Kuat_2021',\n",
    "        'Unnamed: 2': 'Ada Sinyal Lemah_2021',\n",
    "        'Unnamed: 3': 'Tidak Ada Sinyal_2021'\n",
    "    },\n",
    "    '12_Jumlah Desa_Kelurahan Menurut Provinsi, 2024': {\n",
    "        'ï»¿Provinsi': 'Provinsi',\n",
    "        'Jumlah Desa': 'Jumlah Desa_2024'\n",
    "    },\n",
    "    '13_jumlah-pendamping-desa-yang-diberdayakan': {\n",
    "        '\\nTAPM_Kabupaten_Kota': 'TAPM_Kabupaten_Kota',\n",
    "        '\\nPD': 'PD',\n",
    "        '\\n PLD': 'PLD'\n",
    "    },\n",
    "    '21_Jumlah Desa Manfaat SP': {\n",
    "        'ï»¿_id': 'id',\n",
    "    },\n",
    "    '22_Jumlah Desa Status Kemajuan': {\n",
    "        'ï»¿_id': 'id',\n",
    "        'DESA\\nMANDIRI': 'DESA MANDIRI',\n",
    "        'DESA\\nMAJU': 'DESA MAJU',\n",
    "        'DESA\\nBERKEMBANG': 'DESA BERKEMBANG',\n",
    "        'DESA\\nTERTINGGAL': 'DESA TERTINGGAL'\n",
    "    }\n",
    "}"
   ]
  },
  {
   "cell_type": "code",
   "execution_count": 46,
   "id": "5ff89b0c",
   "metadata": {},
   "outputs": [
    {
     "name": "stdout",
     "output_type": "stream",
     "text": [
      "Kolom untuk DataFrame '01_Jumlah Desa Mandiri Menurut Provinsi, 2019' berhasil diubah.\n",
      "Kolom untuk DataFrame '01_Jumlah Desa Mandiri Menurut Provinsi, 2020' berhasil diubah.\n",
      "Kolom untuk DataFrame '01_Jumlah Desa Mandiri Menurut Provinsi, 2021' berhasil diubah.\n",
      "Kolom untuk DataFrame '02_Jumlah Desa Tertinggal menurut Provinsi, 2019' berhasil diubah.\n",
      "Kolom untuk DataFrame '02_Jumlah Desa Tertinggal menurut Provinsi, 2020' berhasil diubah.\n",
      "Kolom untuk DataFrame '02_Jumlah Desa Tertinggal menurut Provinsi, 2021' berhasil diubah.\n",
      "Kolom untuk DataFrame '03_Jumlah Desa Menurut Provinsi dan Letak Geografi, 2024' berhasil diubah.\n",
      "Kolom untuk DataFrame '04_Jumlah Desa yang Memiliki Fasilitas Sekolah Menurut Provinsi dan Tingkat Pendidikan, 2024' berhasil diubah.\n",
      "Kolom untuk DataFrame '05_Jumlah Desa_Kelurahan Yang Memiliki Sarana Kesehatan Menurut Provinsi, 2018' berhasil diubah.\n",
      "Kolom untuk DataFrame '06_Banyaknya Desa_Kelurahan yang Memiliki Fasilitas Internet di Kantor Desa_Lurah menurut Provinsi dan Klasifikasi Daerah, 2021' berhasil diubah.\n",
      "Kolom untuk DataFrame '07_Banyaknya Desa_Kelurahan yang Memiliki Menara Base Transceiver Station (BTS) menurut Provinsi dan Klasifikasi Daerah, 2021' berhasil diubah.\n",
      "Kolom untuk DataFrame '08_Banyaknya Desa_Kelurahan yang Memiliki Menara BTS Menurut Provinsi dan Penerimaan Sinyal Telepon Selular (Perdesaan), 2021' berhasil diubah.\n",
      "Kolom untuk DataFrame '09_Banyaknya Desa_Kelurahan yang Menerima Sinyal Telepon Selular Menurut Provinsi (Sinyal Kuat), 2021' berhasil diubah.\n",
      "Kolom untuk DataFrame '10_Banyaknya Desa_Kelurahan yang Menerima Sinyal Telepon Selular Menurut Provinsi (Sinyal Lemah), 2021' berhasil diubah.\n",
      "Kolom untuk DataFrame '11_Banyaknya Desa_Kelurahan yang Tidak Memiliki Menara BTS Menurut Provinsi dan Penerimaan Sinyal Telepon Selular (Perdesaan), 2021' berhasil diubah.\n",
      "Kolom untuk DataFrame '12_Jumlah Desa_Kelurahan Menurut Provinsi, 2024' berhasil diubah.\n",
      "Kolom untuk DataFrame '13_jumlah-pendamping-desa-yang-diberdayakan' berhasil diubah.\n",
      "Kolom untuk DataFrame '21_Jumlah Desa Manfaat SP' berhasil diubah.\n",
      "Kolom untuk DataFrame '22_Jumlah Desa Status Kemajuan' berhasil diubah.\n"
     ]
    }
   ],
   "source": [
    "# Penggantian nama kolom untuk setiap dataframe\n",
    "for nama, df in dataframes.items():\n",
    "    if nama in peta_kolom:\n",
    "        df.rename(columns=peta_kolom[nama], inplace=True)\n",
    "        print(f\"Kolom untuk DataFrame '{nama}' berhasil diubah.\")"
   ]
  },
  {
   "cell_type": "code",
   "execution_count": 47,
   "id": "0816e1f2",
   "metadata": {},
   "outputs": [
    {
     "name": "stdout",
     "output_type": "stream",
     "text": [
      "Tipe Data untuk df 01_Jumlah Desa Mandiri Menurut Provinsi, 2019:\n"
     ]
    },
    {
     "data": {
      "text/plain": [
       "Provinsi                                            object\n",
       "Jumlah Desa Mandiri Menurut Provinsi (Desa)_2019    object\n",
       "dtype: object"
      ]
     },
     "metadata": {},
     "output_type": "display_data"
    },
    {
     "name": "stdout",
     "output_type": "stream",
     "text": [
      "Tipe Data untuk df 01_Jumlah Desa Mandiri Menurut Provinsi, 2020:\n"
     ]
    },
    {
     "data": {
      "text/plain": [
       "Provinsi                                            object\n",
       "Jumlah Desa Mandiri Menurut Provinsi (Desa)_2020    object\n",
       "dtype: object"
      ]
     },
     "metadata": {},
     "output_type": "display_data"
    },
    {
     "name": "stdout",
     "output_type": "stream",
     "text": [
      "Tipe Data untuk df 01_Jumlah Desa Mandiri Menurut Provinsi, 2021:\n"
     ]
    },
    {
     "data": {
      "text/plain": [
       "Provinsi                                            object\n",
       "Jumlah Desa Mandiri Menurut Provinsi (Desa)_2021    object\n",
       "dtype: object"
      ]
     },
     "metadata": {},
     "output_type": "display_data"
    },
    {
     "name": "stdout",
     "output_type": "stream",
     "text": [
      "Tipe Data untuk df 02_Jumlah Desa Tertinggal menurut Provinsi, 2019:\n"
     ]
    },
    {
     "data": {
      "text/plain": [
       "Provinsi                       object\n",
       "Desa Sangat Tertinggal_2019    object\n",
       "Desa Tertinggal_2019           object\n",
       "Jumlah_2019                    object\n",
       "dtype: object"
      ]
     },
     "metadata": {},
     "output_type": "display_data"
    },
    {
     "name": "stdout",
     "output_type": "stream",
     "text": [
      "Tipe Data untuk df 02_Jumlah Desa Tertinggal menurut Provinsi, 2020:\n"
     ]
    },
    {
     "data": {
      "text/plain": [
       "Provinsi                       object\n",
       "Desa Sangat Tertinggal_2020    object\n",
       "Desa Tertinggal_2020           object\n",
       "Jumlah_2020                    object\n",
       "dtype: object"
      ]
     },
     "metadata": {},
     "output_type": "display_data"
    },
    {
     "name": "stdout",
     "output_type": "stream",
     "text": [
      "Tipe Data untuk df 02_Jumlah Desa Tertinggal menurut Provinsi, 2021:\n"
     ]
    },
    {
     "data": {
      "text/plain": [
       "Provinsi                       object\n",
       "Desa Sangat Tertinggal_2021    object\n",
       "Desa Tertinggal_2021           object\n",
       "Jumlah_2021                    object\n",
       "dtype: object"
      ]
     },
     "metadata": {},
     "output_type": "display_data"
    },
    {
     "name": "stdout",
     "output_type": "stream",
     "text": [
      "Tipe Data untuk df 03_Jumlah Desa Menurut Provinsi dan Letak Geografi, 2024:\n"
     ]
    },
    {
     "data": {
      "text/plain": [
       "Provinsi                object\n",
       "Tepi Laut_2024          object\n",
       "Bukan Tepi Laut_2024    object\n",
       "dtype: object"
      ]
     },
     "metadata": {},
     "output_type": "display_data"
    },
    {
     "name": "stdout",
     "output_type": "stream",
     "text": [
      "Tipe Data untuk df 04_Jumlah Desa yang Memiliki Fasilitas Sekolah Menurut Provinsi dan Tingkat Pendidikan, 2024:\n"
     ]
    },
    {
     "data": {
      "text/plain": [
       "Provinsi                 object\n",
       "SD_2024                  object\n",
       "SMP_2024                 object\n",
       "SMU_2024                 object\n",
       "SMK_2024                 object\n",
       "Perguruan Tinggi_2024    object\n",
       "dtype: object"
      ]
     },
     "metadata": {},
     "output_type": "display_data"
    },
    {
     "name": "stdout",
     "output_type": "stream",
     "text": [
      "Tipe Data untuk df 05_Jumlah Desa_Kelurahan Yang Memiliki Sarana Kesehatan Menurut Provinsi, 2018:\n"
     ]
    },
    {
     "data": {
      "text/plain": [
       "Provinsi                     object\n",
       "Rumah Sakit_2018             object\n",
       "Rumah Sakit Bersalin_2018    object\n",
       "Poliklinik_2018              object\n",
       "Puskesmas_2018               object\n",
       "Puskesmas Pembantu_2018      object\n",
       "Apotek_2018                  object\n",
       "dtype: object"
      ]
     },
     "metadata": {},
     "output_type": "display_data"
    },
    {
     "name": "stdout",
     "output_type": "stream",
     "text": [
      "Tipe Data untuk df 06_Banyaknya Desa_Kelurahan yang Memiliki Fasilitas Internet di Kantor Desa_Lurah menurut Provinsi dan Klasifikasi Daerah, 2021:\n"
     ]
    },
    {
     "data": {
      "text/plain": [
       "Provinsi                    object\n",
       "Perkotaan_2021              object\n",
       "Pedesaan_2021               object\n",
       "Perkotaan+Perdesaan_2021    object\n",
       "dtype: object"
      ]
     },
     "metadata": {},
     "output_type": "display_data"
    },
    {
     "name": "stdout",
     "output_type": "stream",
     "text": [
      "Tipe Data untuk df 07_Banyaknya Desa_Kelurahan yang Memiliki Menara Base Transceiver Station (BTS) menurut Provinsi dan Klasifikasi Daerah, 2021:\n"
     ]
    },
    {
     "data": {
      "text/plain": [
       "Provinsi                    object\n",
       "Perkotaan_2021              object\n",
       "Pedesaan_2021               object\n",
       "Perkotaan+Perdesaan_2021    object\n",
       "dtype: object"
      ]
     },
     "metadata": {},
     "output_type": "display_data"
    },
    {
     "name": "stdout",
     "output_type": "stream",
     "text": [
      "Tipe Data untuk df 08_Banyaknya Desa_Kelurahan yang Memiliki Menara BTS Menurut Provinsi dan Penerimaan Sinyal Telepon Selular (Perdesaan), 2021:\n"
     ]
    },
    {
     "data": {
      "text/plain": [
       "Provinsi                 object\n",
       "Ada Sinyal Kuat_2021     object\n",
       "Ada Sinyal Lemah_2021    object\n",
       "Tidak Ada Sinyal_2021    object\n",
       "dtype: object"
      ]
     },
     "metadata": {},
     "output_type": "display_data"
    },
    {
     "name": "stdout",
     "output_type": "stream",
     "text": [
      "Tipe Data untuk df 09_Banyaknya Desa_Kelurahan yang Menerima Sinyal Telepon Selular Menurut Provinsi (Sinyal Kuat), 2021:\n"
     ]
    },
    {
     "data": {
      "text/plain": [
       "Provinsi                    object\n",
       "Perkotaan_2021              object\n",
       "Pedesaan_2021               object\n",
       "Perkotaan+Perdesaan_2021    object\n",
       "dtype: object"
      ]
     },
     "metadata": {},
     "output_type": "display_data"
    },
    {
     "name": "stdout",
     "output_type": "stream",
     "text": [
      "Tipe Data untuk df 10_Banyaknya Desa_Kelurahan yang Menerima Sinyal Telepon Selular Menurut Provinsi (Sinyal Lemah), 2021:\n"
     ]
    },
    {
     "data": {
      "text/plain": [
       "Provinsi                    object\n",
       "Perkotaan_2021              object\n",
       "Pedesaan_2021               object\n",
       "Perkotaan+Perdesaan_2021    object\n",
       "dtype: object"
      ]
     },
     "metadata": {},
     "output_type": "display_data"
    },
    {
     "name": "stdout",
     "output_type": "stream",
     "text": [
      "Tipe Data untuk df 11_Banyaknya Desa_Kelurahan yang Tidak Memiliki Menara BTS Menurut Provinsi dan Penerimaan Sinyal Telepon Selular (Perdesaan), 2021:\n"
     ]
    },
    {
     "data": {
      "text/plain": [
       "Provinsi                 object\n",
       "Ada Sinyal Kuat_2021     object\n",
       "Ada Sinyal Lemah_2021    object\n",
       "Tidak Ada Sinyal_2021    object\n",
       "dtype: object"
      ]
     },
     "metadata": {},
     "output_type": "display_data"
    },
    {
     "name": "stdout",
     "output_type": "stream",
     "text": [
      "Tipe Data untuk df 12_Jumlah Desa_Kelurahan Menurut Provinsi, 2024:\n"
     ]
    },
    {
     "data": {
      "text/plain": [
       "Provinsi             object\n",
       "Jumlah Desa_2024    float64\n",
       "dtype: object"
      ]
     },
     "metadata": {},
     "output_type": "display_data"
    },
    {
     "name": "stdout",
     "output_type": "stream",
     "text": [
      "Tipe Data untuk df 13_jumlah-pendamping-desa-yang-diberdayakan:\n"
     ]
    },
    {
     "data": {
      "text/plain": [
       "No                      object\n",
       "Provinsi                object\n",
       "Waktu                   object\n",
       " TAPM_Pusat            float64\n",
       " TAPM_Provinsi         float64\n",
       "TAPM_Kabupaten_Kota     object\n",
       "PD                      object\n",
       "PLD                     object\n",
       "Total                   object\n",
       "dtype: object"
      ]
     },
     "metadata": {},
     "output_type": "display_data"
    },
    {
     "name": "stdout",
     "output_type": "stream",
     "text": [
      "Tipe Data untuk df 14_data-jumlah-masyarakat-desa-yang-diberikan-pelatihan-tahun-2024:\n"
     ]
    },
    {
     "data": {
      "text/plain": [
       "NO                     int64\n",
       "NAMA_BALAI            object\n",
       "JENIS_PELATIHAN       object\n",
       "WAKTU_PELAKSANAAN     object\n",
       "ID_PROVINSI            int64\n",
       "PROVINSI              object\n",
       "ID_KABUPATEN         float64\n",
       "KABUPATEN             object\n",
       "ID_KECAMATAN         float64\n",
       "KECAMATAN             object\n",
       "ID_DESA              float64\n",
       "DESA                  object\n",
       " JUMLAH                int64\n",
       "dtype: object"
      ]
     },
     "metadata": {},
     "output_type": "display_data"
    },
    {
     "name": "stdout",
     "output_type": "stream",
     "text": [
      "Tipe Data untuk df 15_jumlah-jenis-usaha-dan-status-badan-hukum-bumdesa-bumdesa-bersama:\n"
     ]
    },
    {
     "data": {
      "text/plain": [
       "Provinsi       object\n",
       "Kabupaten      object\n",
       "Kecamatan      object\n",
       "Desa           object\n",
       "Nama_BUMDes    object\n",
       "ket_kbli       object\n",
       "status         object\n",
       "Tipe_BUMDes    object\n",
       "dtype: object"
      ]
     },
     "metadata": {},
     "output_type": "display_data"
    },
    {
     "name": "stdout",
     "output_type": "stream",
     "text": [
      "Tipe Data untuk df 16_jumlah-bumdesa-dan-bumdesa-bersama-yang-berbadan-hukum:\n"
     ]
    },
    {
     "data": {
      "text/plain": [
       "Nama_BUMDes    object\n",
       "Provinsi       object\n",
       "Kabupaten      object\n",
       "Kecamatan      object\n",
       "Desa           object\n",
       "Status         object\n",
       "Kategori       object\n",
       "dtype: object"
      ]
     },
     "metadata": {},
     "output_type": "display_data"
    },
    {
     "name": "stdout",
     "output_type": "stream",
     "text": [
      "Tipe Data untuk df 17_bumdesa-kategori-usaha:\n"
     ]
    },
    {
     "data": {
      "text/plain": [
       "Provinsi       object\n",
       "Kabupaten      object\n",
       "Kecamatan      object\n",
       "Desa           object\n",
       "Nama_BUMDes    object\n",
       "ket_kbli       object\n",
       "Tipe_BUMDes    object\n",
       "dtype: object"
      ]
     },
     "metadata": {},
     "output_type": "display_data"
    },
    {
     "name": "stdout",
     "output_type": "stream",
     "text": [
      "Tipe Data untuk df 18_jumlah-tenaga-kerja-di-badan-usaha-milik-desa-bumdes:\n"
     ]
    },
    {
     "data": {
      "text/plain": [
       "Kode_Prov       float64\n",
       "PROVINSI         object\n",
       "KABUPATEN        object\n",
       "KECAMATAN        object\n",
       "Kode_Desa       float64\n",
       "DESA             object\n",
       "NAMA_BUMDESA     object\n",
       "Tenaga_Kerja    float64\n",
       "dtype: object"
      ]
     },
     "metadata": {},
     "output_type": "display_data"
    },
    {
     "name": "stdout",
     "output_type": "stream",
     "text": [
      "Tipe Data untuk df 19_jumlah-bumdesa-dan-bumdesa-bersama-nasional:\n"
     ]
    },
    {
     "data": {
      "text/plain": [
       "Nama_BUMDes    object\n",
       "Provinsi       object\n",
       "Kabupaten      object\n",
       "Kecamatan      object\n",
       "Desa           object\n",
       "Status         object\n",
       "Kategori       object\n",
       "dtype: object"
      ]
     },
     "metadata": {},
     "output_type": "display_data"
    },
    {
     "name": "stdout",
     "output_type": "stream",
     "text": [
      "Tipe Data untuk df 20_jumlah-desa-penerima-bantuan-pow:\n"
     ]
    },
    {
     "data": {
      "text/plain": [
       "KODE_PROVINSI      float64\n",
       "NAMA_PROVINSI       object\n",
       "KODE_KAB           float64\n",
       "NAMA_KABUPATEN      object\n",
       "JUMLAH_DESA        float64\n",
       "NOMINAL_BANTUAN     object\n",
       "JENIS_BANTUAN       object\n",
       "dtype: object"
      ]
     },
     "metadata": {},
     "output_type": "display_data"
    },
    {
     "name": "stdout",
     "output_type": "stream",
     "text": [
      "Tipe Data untuk df 21_Jumlah Desa Manfaat SP:\n"
     ]
    },
    {
     "data": {
      "text/plain": [
       "id                                    int64\n",
       "Id_prov                              object\n",
       "Nama_prov                            object\n",
       "Bak/Tong Sampah                     float64\n",
       "Balai Kemasyarakatan                  int64\n",
       "                                     ...   \n",
       "Tembok Penahan Tanah                float64\n",
       "Tempat Pembuangan Sampah            float64\n",
       "Tempat Pengolahan Sampah            float64\n",
       "Tempat Penjemuran Tanaman Pangan    float64\n",
       "Grand Total                           int64\n",
       "Length: 69, dtype: object"
      ]
     },
     "metadata": {},
     "output_type": "display_data"
    },
    {
     "name": "stdout",
     "output_type": "stream",
     "text": [
      "Tipe Data untuk df 22_Jumlah Desa Status Kemajuan:\n"
     ]
    },
    {
     "data": {
      "text/plain": [
       "id                                                                   int64\n",
       "KODE PROVINSI                                                      float64\n",
       "NAMA PROVINSI                                                       object\n",
       "KODE KAB                                                           float64\n",
       "NAMA KABUPATEN                                                      object\n",
       "DESA MANDIRI                                                       float64\n",
       "DESA MAJU                                                          float64\n",
       "DESA BERKEMBANG                                                    float64\n",
       "DESA TERTINGGAL                                                    float64\n",
       "DESA SANGAT TERTINGGAL                                             float64\n",
       "TIDAK MEMENUHI KRITERIA (tidak melakukan pengukuran berdasarkan      int64\n",
       "TOTAL DESA                                                         float64\n",
       "dtype: object"
      ]
     },
     "metadata": {},
     "output_type": "display_data"
    }
   ],
   "source": [
    "# Cek Tipe Data\n",
    "for name, df in dataframes.items():\n",
    "    print(f\"Tipe Data untuk df {name}:\")\n",
    "    display(df.dtypes)"
   ]
  },
  {
   "cell_type": "markdown",
   "id": "2ebbe5d2",
   "metadata": {},
=======
>>>>>>> parent of ffffcf9 (fix column name)
   "source": []
  }
 ],
 "metadata": {
  "kernelspec": {
   "display_name": "base",
   "language": "python",
   "name": "python3"
  },
  "language_info": {
   "codemirror_mode": {
    "name": "ipython",
    "version": 3
   },
   "file_extension": ".py",
   "mimetype": "text/x-python",
   "name": "python",
   "nbconvert_exporter": "python",
   "pygments_lexer": "ipython3",
   "version": "3.13.5"
  }
 },
 "nbformat": 4,
 "nbformat_minor": 5
}
