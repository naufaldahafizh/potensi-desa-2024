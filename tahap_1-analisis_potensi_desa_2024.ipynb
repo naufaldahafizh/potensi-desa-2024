{
 "cells": [
  {
   "cell_type": "markdown",
   "id": "402e549f",
   "metadata": {},
   "source": [
    "# Analisis Eksploratif Potensi Desa di Indonesia"
   ]
  },
  {
   "cell_type": "markdown",
   "id": "94a3a747",
   "metadata": {},
   "source": [
    "## Tujuan"
   ]
  },
  {
   "cell_type": "markdown",
   "id": "5b9049ad",
   "metadata": {},
   "source": [
    "Tujuan dari analisis ini adalah mendapatkan insight terkait potensi desa di Indonesia dalam berbagai bidang, seperti kependudukan, fasilitas, ekonomi, dan infrastruktur.\n",
    "\n",
    "Sumber yang digunakan yaitu data Badan Pusat Statistik (BPS) dan Portal Data Kementerian Desa (Kemendesa)"
   ]
  },
  {
   "cell_type": "code",
   "execution_count": 1,
   "id": "1fe5adee",
   "metadata": {},
   "outputs": [],
   "source": [
    "# Import Libraries\n",
    "import os\n",
    "import glob\n",
    "import numpy as np\n",
    "import pandas as pd\n",
    "import matplotlib.pyplot as plt\n",
    "import seaborn as sns"
   ]
  },
  {
   "cell_type": "markdown",
   "id": "3157664a",
   "metadata": {},
   "source": [
    "## 1. Pengumpulan Data"
   ]
  },
  {
   "cell_type": "markdown",
   "id": "043e5249",
   "metadata": {},
   "source": [
    "Pengumpulan data berdasarkan sumber dengan mengunduh file terkait potensi desa dalam format .csv dan telah diunduh 26 file dari 22 data yang tersedia publik"
   ]
  },
  {
   "cell_type": "code",
   "execution_count": 2,
   "id": "7d195bc4",
   "metadata": {},
   "outputs": [
    {
     "name": "stdout",
     "output_type": "stream",
     "text": [
      "26\n"
     ]
    }
   ],
   "source": [
    "# Membuat daftar file csv yang telah diunduh\n",
    "script_dir = os.getcwd()\n",
    "csv_files = glob.glob(os.path.join(script_dir, 'data', '*.csv'))\n",
    "print(len(csv_files))"
   ]
  },
  {
   "cell_type": "code",
   "execution_count": 3,
   "id": "dd62660d",
   "metadata": {},
   "outputs": [
    {
     "name": "stdout",
     "output_type": "stream",
     "text": [
      "DataFrame: 01_Jumlah Desa Mandiri Menurut Provinsi, 2019, Shape: (41, 2)\n",
      "DataFrame: 01_Jumlah Desa Mandiri Menurut Provinsi, 2020, Shape: (41, 2)\n",
      "DataFrame: 01_Jumlah Desa Mandiri Menurut Provinsi, 2021, Shape: (41, 2)\n",
      "DataFrame: 02_Jumlah Desa Tertinggal menurut Provinsi, 2019, Shape: (42, 4)\n",
      "DataFrame: 02_Jumlah Desa Tertinggal menurut Provinsi, 2020, Shape: (42, 4)\n",
      "DataFrame: 02_Jumlah Desa Tertinggal menurut Provinsi, 2021, Shape: (42, 4)\n",
      "DataFrame: 03_Jumlah Desa Menurut Provinsi dan Letak Geografi, 2024, Shape: (42, 3)\n",
      "DataFrame: 04_Jumlah Desa yang Memiliki Fasilitas Sekolah Menurut Provinsi dan Tingkat Pendidikan, 2024, Shape: (42, 6)\n",
      "DataFrame: 05_Jumlah Desa_Kelurahan Yang Memiliki Sarana Kesehatan Menurut Provinsi, 2018, Shape: (42, 7)\n",
      "DataFrame: 06_Banyaknya Desa_Kelurahan yang Memiliki Fasilitas Internet di Kantor Desa_Lurah menurut Provinsi dan Klasifikasi Daerah, 2021, Shape: (42, 4)\n",
      "DataFrame: 07_Banyaknya Desa_Kelurahan yang Memiliki Menara Base Transceiver Station (BTS) menurut Provinsi dan Klasifikasi Daerah, 2021, Shape: (42, 4)\n",
      "DataFrame: 08_Banyaknya Desa_Kelurahan yang Memiliki Menara BTS Menurut Provinsi dan Penerimaan Sinyal Telepon Selular (Perdesaan), 2021, Shape: (42, 4)\n",
      "DataFrame: 09_Banyaknya Desa_Kelurahan yang Menerima Sinyal Telepon Selular Menurut Provinsi (Sinyal Kuat), 2021, Shape: (42, 4)\n",
      "DataFrame: 10_Banyaknya Desa_Kelurahan yang Menerima Sinyal Telepon Selular Menurut Provinsi (Sinyal Lemah), 2021, Shape: (42, 4)\n",
      "DataFrame: 11_Banyaknya Desa_Kelurahan yang Tidak Memiliki Menara BTS Menurut Provinsi dan Penerimaan Sinyal Telepon Selular (Perdesaan), 2021, Shape: (42, 4)\n",
      "DataFrame: 12_Jumlah Desa_Kelurahan Menurut Provinsi, 2024, Shape: (42, 2)\n",
      "DataFrame: 13_jumlah-pendamping-desa-yang-diberdayakan, Shape: (39, 9)\n",
      "DataFrame: 14_data-jumlah-masyarakat-desa-yang-diberikan-pelatihan-tahun-2024, Shape: (772, 13)\n",
      "DataFrame: 15_jumlah-jenis-usaha-dan-status-badan-hukum-bumdesa-bumdesa-bersama, Shape: (167025, 8)\n",
      "DataFrame: 16_jumlah-bumdesa-dan-bumdesa-bersama-yang-berbadan-hukum, Shape: (21709, 7)\n",
      "DataFrame: 17_bumdesa-kategori-usaha, Shape: (167025, 7)\n",
      "DataFrame: 18_jumlah-tenaga-kerja-di-badan-usaha-milik-desa-bumdes, Shape: (18245, 8)\n",
      "DataFrame: 19_jumlah-bumdesa-dan-bumdesa-bersama-nasional, Shape: (21709, 7)\n",
      "DataFrame: 20_jumlah-desa-penerima-bantuan-pow, Shape: (98, 7)\n",
      "DataFrame: 21_Jumlah Desa Manfaat SP, Shape: (37, 69)\n",
      "DataFrame: 22_Jumlah Desa Status Kemajuan, Shape: (435, 12)\n"
     ]
    }
   ],
   "source": [
    "# Membuka file CSV dan disimpan dalam dataframe\n",
    "dataframes = {}\n",
    "\n",
    "for file_path in csv_files:\n",
    "    file_name = os.path.splitext(os.path.basename(file_path))[0]\n",
    "    df = pd.read_csv(file_path, encoding='latin1')\n",
    "    dataframes[file_name] = df\n",
    "\n",
    "for name, df in dataframes.items():\n",
    "    print(f\"DataFrame: {name}, Shape: {df.shape}\")"
   ]
  },
  {
   "cell_type": "code",
   "execution_count": 4,
   "id": "8de33b2d",
   "metadata": {},
   "outputs": [
    {
     "name": "stdout",
     "output_type": "stream",
     "text": [
      "DataFrame: 01_Jumlah Desa Mandiri Menurut Provinsi, 2019\n"
     ]
    },
    {
     "data": {
      "text/html": [
       "<div>\n",
       "<style scoped>\n",
       "    .dataframe tbody tr th:only-of-type {\n",
       "        vertical-align: middle;\n",
       "    }\n",
       "\n",
       "    .dataframe tbody tr th {\n",
       "        vertical-align: top;\n",
       "    }\n",
       "\n",
       "    .dataframe thead th {\n",
       "        text-align: right;\n",
       "    }\n",
       "</style>\n",
       "<table border=\"1\" class=\"dataframe\">\n",
       "  <thead>\n",
       "    <tr style=\"text-align: right;\">\n",
       "      <th></th>\n",
       "      <th>ï»¿38 Provinsi</th>\n",
       "      <th>Unnamed: 1</th>\n",
       "    </tr>\n",
       "  </thead>\n",
       "  <tbody>\n",
       "    <tr>\n",
       "      <th>0</th>\n",
       "      <td>NaN</td>\n",
       "      <td>Jumlah Desa Mandiri Menurut Provinsi (Desa)</td>\n",
       "    </tr>\n",
       "    <tr>\n",
       "      <th>1</th>\n",
       "      <td>NaN</td>\n",
       "      <td>2019</td>\n",
       "    </tr>\n",
       "    <tr>\n",
       "      <th>2</th>\n",
       "      <td>ACEH</td>\n",
       "      <td>25</td>\n",
       "    </tr>\n",
       "    <tr>\n",
       "      <th>3</th>\n",
       "      <td>SUMATERA UTARA</td>\n",
       "      <td>6</td>\n",
       "    </tr>\n",
       "    <tr>\n",
       "      <th>4</th>\n",
       "      <td>SUMATERA BARAT</td>\n",
       "      <td>32</td>\n",
       "    </tr>\n",
       "  </tbody>\n",
       "</table>\n",
       "</div>"
      ],
      "text/plain": [
       "   ï»¿38 Provinsi                                   Unnamed: 1\n",
       "0             NaN  Jumlah Desa Mandiri Menurut Provinsi (Desa)\n",
       "1             NaN                                         2019\n",
       "2            ACEH                                           25\n",
       "3  SUMATERA UTARA                                            6\n",
       "4  SUMATERA BARAT                                           32"
      ]
     },
     "metadata": {},
     "output_type": "display_data"
    },
    {
     "name": "stdout",
     "output_type": "stream",
     "text": [
      "\n",
      "\n",
      "DataFrame: 01_Jumlah Desa Mandiri Menurut Provinsi, 2020\n"
     ]
    },
    {
     "data": {
      "text/html": [
       "<div>\n",
       "<style scoped>\n",
       "    .dataframe tbody tr th:only-of-type {\n",
       "        vertical-align: middle;\n",
       "    }\n",
       "\n",
       "    .dataframe tbody tr th {\n",
       "        vertical-align: top;\n",
       "    }\n",
       "\n",
       "    .dataframe thead th {\n",
       "        text-align: right;\n",
       "    }\n",
       "</style>\n",
       "<table border=\"1\" class=\"dataframe\">\n",
       "  <thead>\n",
       "    <tr style=\"text-align: right;\">\n",
       "      <th></th>\n",
       "      <th>ï»¿38 Provinsi</th>\n",
       "      <th>Unnamed: 1</th>\n",
       "    </tr>\n",
       "  </thead>\n",
       "  <tbody>\n",
       "    <tr>\n",
       "      <th>0</th>\n",
       "      <td>NaN</td>\n",
       "      <td>Jumlah Desa Mandiri Menurut Provinsi (Desa)</td>\n",
       "    </tr>\n",
       "    <tr>\n",
       "      <th>1</th>\n",
       "      <td>NaN</td>\n",
       "      <td>2020</td>\n",
       "    </tr>\n",
       "    <tr>\n",
       "      <th>2</th>\n",
       "      <td>ACEH</td>\n",
       "      <td>30</td>\n",
       "    </tr>\n",
       "    <tr>\n",
       "      <th>3</th>\n",
       "      <td>SUMATERA UTARA</td>\n",
       "      <td>8</td>\n",
       "    </tr>\n",
       "    <tr>\n",
       "      <th>4</th>\n",
       "      <td>SUMATERA BARAT</td>\n",
       "      <td>40</td>\n",
       "    </tr>\n",
       "  </tbody>\n",
       "</table>\n",
       "</div>"
      ],
      "text/plain": [
       "   ï»¿38 Provinsi                                   Unnamed: 1\n",
       "0             NaN  Jumlah Desa Mandiri Menurut Provinsi (Desa)\n",
       "1             NaN                                         2020\n",
       "2            ACEH                                           30\n",
       "3  SUMATERA UTARA                                            8\n",
       "4  SUMATERA BARAT                                           40"
      ]
     },
     "metadata": {},
     "output_type": "display_data"
    },
    {
     "name": "stdout",
     "output_type": "stream",
     "text": [
      "\n",
      "\n",
      "DataFrame: 01_Jumlah Desa Mandiri Menurut Provinsi, 2021\n"
     ]
    },
    {
     "data": {
      "text/html": [
       "<div>\n",
       "<style scoped>\n",
       "    .dataframe tbody tr th:only-of-type {\n",
       "        vertical-align: middle;\n",
       "    }\n",
       "\n",
       "    .dataframe tbody tr th {\n",
       "        vertical-align: top;\n",
       "    }\n",
       "\n",
       "    .dataframe thead th {\n",
       "        text-align: right;\n",
       "    }\n",
       "</style>\n",
       "<table border=\"1\" class=\"dataframe\">\n",
       "  <thead>\n",
       "    <tr style=\"text-align: right;\">\n",
       "      <th></th>\n",
       "      <th>ï»¿38 Provinsi</th>\n",
       "      <th>Unnamed: 1</th>\n",
       "    </tr>\n",
       "  </thead>\n",
       "  <tbody>\n",
       "    <tr>\n",
       "      <th>0</th>\n",
       "      <td>NaN</td>\n",
       "      <td>Jumlah Desa Mandiri Menurut Provinsi (Desa)</td>\n",
       "    </tr>\n",
       "    <tr>\n",
       "      <th>1</th>\n",
       "      <td>NaN</td>\n",
       "      <td>2021</td>\n",
       "    </tr>\n",
       "    <tr>\n",
       "      <th>2</th>\n",
       "      <td>ACEH</td>\n",
       "      <td>34</td>\n",
       "    </tr>\n",
       "    <tr>\n",
       "      <th>3</th>\n",
       "      <td>SUMATERA UTARA</td>\n",
       "      <td>9</td>\n",
       "    </tr>\n",
       "    <tr>\n",
       "      <th>4</th>\n",
       "      <td>SUMATERA BARAT</td>\n",
       "      <td>65</td>\n",
       "    </tr>\n",
       "  </tbody>\n",
       "</table>\n",
       "</div>"
      ],
      "text/plain": [
       "   ï»¿38 Provinsi                                   Unnamed: 1\n",
       "0             NaN  Jumlah Desa Mandiri Menurut Provinsi (Desa)\n",
       "1             NaN                                         2021\n",
       "2            ACEH                                           34\n",
       "3  SUMATERA UTARA                                            9\n",
       "4  SUMATERA BARAT                                           65"
      ]
     },
     "metadata": {},
     "output_type": "display_data"
    },
    {
     "name": "stdout",
     "output_type": "stream",
     "text": [
      "\n",
      "\n",
      "DataFrame: 02_Jumlah Desa Tertinggal menurut Provinsi, 2019\n"
     ]
    },
    {
     "data": {
      "text/html": [
       "<div>\n",
       "<style scoped>\n",
       "    .dataframe tbody tr th:only-of-type {\n",
       "        vertical-align: middle;\n",
       "    }\n",
       "\n",
       "    .dataframe tbody tr th {\n",
       "        vertical-align: top;\n",
       "    }\n",
       "\n",
       "    .dataframe thead th {\n",
       "        text-align: right;\n",
       "    }\n",
       "</style>\n",
       "<table border=\"1\" class=\"dataframe\">\n",
       "  <thead>\n",
       "    <tr style=\"text-align: right;\">\n",
       "      <th></th>\n",
       "      <th>ï»¿38 Provinsi</th>\n",
       "      <th>Unnamed: 1</th>\n",
       "      <th>Unnamed: 2</th>\n",
       "      <th>Unnamed: 3</th>\n",
       "    </tr>\n",
       "  </thead>\n",
       "  <tbody>\n",
       "    <tr>\n",
       "      <th>0</th>\n",
       "      <td>NaN</td>\n",
       "      <td>Jumlah Desa Tertinggal menurut Provinsi (Desa)</td>\n",
       "      <td>NaN</td>\n",
       "      <td>NaN</td>\n",
       "    </tr>\n",
       "    <tr>\n",
       "      <th>1</th>\n",
       "      <td>NaN</td>\n",
       "      <td>Desa Sangat Tertinggal</td>\n",
       "      <td>Desa Tertinggal</td>\n",
       "      <td>Jumlah</td>\n",
       "    </tr>\n",
       "    <tr>\n",
       "      <th>2</th>\n",
       "      <td>NaN</td>\n",
       "      <td>2019</td>\n",
       "      <td>2019</td>\n",
       "      <td>2019</td>\n",
       "    </tr>\n",
       "    <tr>\n",
       "      <th>3</th>\n",
       "      <td>ACEH</td>\n",
       "      <td>57</td>\n",
       "      <td>1653</td>\n",
       "      <td>1710</td>\n",
       "    </tr>\n",
       "    <tr>\n",
       "      <th>4</th>\n",
       "      <td>SUMATERA UTARA</td>\n",
       "      <td>605</td>\n",
       "      <td>1930</td>\n",
       "      <td>2535</td>\n",
       "    </tr>\n",
       "  </tbody>\n",
       "</table>\n",
       "</div>"
      ],
      "text/plain": [
       "   ï»¿38 Provinsi                                      Unnamed: 1  \\\n",
       "0             NaN  Jumlah Desa Tertinggal menurut Provinsi (Desa)   \n",
       "1             NaN                          Desa Sangat Tertinggal   \n",
       "2             NaN                                            2019   \n",
       "3            ACEH                                              57   \n",
       "4  SUMATERA UTARA                                             605   \n",
       "\n",
       "        Unnamed: 2 Unnamed: 3  \n",
       "0              NaN        NaN  \n",
       "1  Desa Tertinggal     Jumlah  \n",
       "2             2019       2019  \n",
       "3             1653       1710  \n",
       "4             1930       2535  "
      ]
     },
     "metadata": {},
     "output_type": "display_data"
    },
    {
     "name": "stdout",
     "output_type": "stream",
     "text": [
      "\n",
      "\n",
      "DataFrame: 02_Jumlah Desa Tertinggal menurut Provinsi, 2020\n"
     ]
    },
    {
     "data": {
      "text/html": [
       "<div>\n",
       "<style scoped>\n",
       "    .dataframe tbody tr th:only-of-type {\n",
       "        vertical-align: middle;\n",
       "    }\n",
       "\n",
       "    .dataframe tbody tr th {\n",
       "        vertical-align: top;\n",
       "    }\n",
       "\n",
       "    .dataframe thead th {\n",
       "        text-align: right;\n",
       "    }\n",
       "</style>\n",
       "<table border=\"1\" class=\"dataframe\">\n",
       "  <thead>\n",
       "    <tr style=\"text-align: right;\">\n",
       "      <th></th>\n",
       "      <th>ï»¿38 Provinsi</th>\n",
       "      <th>Unnamed: 1</th>\n",
       "      <th>Unnamed: 2</th>\n",
       "      <th>Unnamed: 3</th>\n",
       "    </tr>\n",
       "  </thead>\n",
       "  <tbody>\n",
       "    <tr>\n",
       "      <th>0</th>\n",
       "      <td>NaN</td>\n",
       "      <td>Jumlah Desa Tertinggal menurut Provinsi (Desa)</td>\n",
       "      <td>NaN</td>\n",
       "      <td>NaN</td>\n",
       "    </tr>\n",
       "    <tr>\n",
       "      <th>1</th>\n",
       "      <td>NaN</td>\n",
       "      <td>Desa Sangat Tertinggal</td>\n",
       "      <td>Desa Tertinggal</td>\n",
       "      <td>Jumlah</td>\n",
       "    </tr>\n",
       "    <tr>\n",
       "      <th>2</th>\n",
       "      <td>NaN</td>\n",
       "      <td>2020</td>\n",
       "      <td>2020</td>\n",
       "      <td>2020</td>\n",
       "    </tr>\n",
       "    <tr>\n",
       "      <th>3</th>\n",
       "      <td>ACEH</td>\n",
       "      <td>21</td>\n",
       "      <td>894</td>\n",
       "      <td>915</td>\n",
       "    </tr>\n",
       "    <tr>\n",
       "      <th>4</th>\n",
       "      <td>SUMATERA UTARA</td>\n",
       "      <td>401</td>\n",
       "      <td>1765</td>\n",
       "      <td>2166</td>\n",
       "    </tr>\n",
       "  </tbody>\n",
       "</table>\n",
       "</div>"
      ],
      "text/plain": [
       "   ï»¿38 Provinsi                                      Unnamed: 1  \\\n",
       "0             NaN  Jumlah Desa Tertinggal menurut Provinsi (Desa)   \n",
       "1             NaN                          Desa Sangat Tertinggal   \n",
       "2             NaN                                            2020   \n",
       "3            ACEH                                              21   \n",
       "4  SUMATERA UTARA                                             401   \n",
       "\n",
       "        Unnamed: 2 Unnamed: 3  \n",
       "0              NaN        NaN  \n",
       "1  Desa Tertinggal     Jumlah  \n",
       "2             2020       2020  \n",
       "3              894        915  \n",
       "4             1765       2166  "
      ]
     },
     "metadata": {},
     "output_type": "display_data"
    },
    {
     "name": "stdout",
     "output_type": "stream",
     "text": [
      "\n",
      "\n",
      "DataFrame: 02_Jumlah Desa Tertinggal menurut Provinsi, 2021\n"
     ]
    },
    {
     "data": {
      "text/html": [
       "<div>\n",
       "<style scoped>\n",
       "    .dataframe tbody tr th:only-of-type {\n",
       "        vertical-align: middle;\n",
       "    }\n",
       "\n",
       "    .dataframe tbody tr th {\n",
       "        vertical-align: top;\n",
       "    }\n",
       "\n",
       "    .dataframe thead th {\n",
       "        text-align: right;\n",
       "    }\n",
       "</style>\n",
       "<table border=\"1\" class=\"dataframe\">\n",
       "  <thead>\n",
       "    <tr style=\"text-align: right;\">\n",
       "      <th></th>\n",
       "      <th>ï»¿38 Provinsi</th>\n",
       "      <th>Unnamed: 1</th>\n",
       "      <th>Unnamed: 2</th>\n",
       "      <th>Unnamed: 3</th>\n",
       "    </tr>\n",
       "  </thead>\n",
       "  <tbody>\n",
       "    <tr>\n",
       "      <th>0</th>\n",
       "      <td>NaN</td>\n",
       "      <td>Jumlah Desa Tertinggal menurut Provinsi (Desa)</td>\n",
       "      <td>NaN</td>\n",
       "      <td>NaN</td>\n",
       "    </tr>\n",
       "    <tr>\n",
       "      <th>1</th>\n",
       "      <td>NaN</td>\n",
       "      <td>Desa Sangat Tertinggal</td>\n",
       "      <td>Desa Tertinggal</td>\n",
       "      <td>Jumlah</td>\n",
       "    </tr>\n",
       "    <tr>\n",
       "      <th>2</th>\n",
       "      <td>NaN</td>\n",
       "      <td>2021</td>\n",
       "      <td>2021</td>\n",
       "      <td>2021</td>\n",
       "    </tr>\n",
       "    <tr>\n",
       "      <th>3</th>\n",
       "      <td>ACEH</td>\n",
       "      <td>20</td>\n",
       "      <td>688</td>\n",
       "      <td>708</td>\n",
       "    </tr>\n",
       "    <tr>\n",
       "      <th>4</th>\n",
       "      <td>SUMATERA UTARA</td>\n",
       "      <td>321</td>\n",
       "      <td>1527</td>\n",
       "      <td>1848</td>\n",
       "    </tr>\n",
       "  </tbody>\n",
       "</table>\n",
       "</div>"
      ],
      "text/plain": [
       "   ï»¿38 Provinsi                                      Unnamed: 1  \\\n",
       "0             NaN  Jumlah Desa Tertinggal menurut Provinsi (Desa)   \n",
       "1             NaN                          Desa Sangat Tertinggal   \n",
       "2             NaN                                            2021   \n",
       "3            ACEH                                              20   \n",
       "4  SUMATERA UTARA                                             321   \n",
       "\n",
       "        Unnamed: 2 Unnamed: 3  \n",
       "0              NaN        NaN  \n",
       "1  Desa Tertinggal     Jumlah  \n",
       "2             2021       2021  \n",
       "3              688        708  \n",
       "4             1527       1848  "
      ]
     },
     "metadata": {},
     "output_type": "display_data"
    },
    {
     "name": "stdout",
     "output_type": "stream",
     "text": [
      "\n",
      "\n",
      "DataFrame: 03_Jumlah Desa Menurut Provinsi dan Letak Geografi, 2024\n"
     ]
    },
    {
     "data": {
      "text/html": [
       "<div>\n",
       "<style scoped>\n",
       "    .dataframe tbody tr th:only-of-type {\n",
       "        vertical-align: middle;\n",
       "    }\n",
       "\n",
       "    .dataframe tbody tr th {\n",
       "        vertical-align: top;\n",
       "    }\n",
       "\n",
       "    .dataframe thead th {\n",
       "        text-align: right;\n",
       "    }\n",
       "</style>\n",
       "<table border=\"1\" class=\"dataframe\">\n",
       "  <thead>\n",
       "    <tr style=\"text-align: right;\">\n",
       "      <th></th>\n",
       "      <th>ï»¿38 Provinsi</th>\n",
       "      <th>Unnamed: 1</th>\n",
       "      <th>Unnamed: 2</th>\n",
       "    </tr>\n",
       "  </thead>\n",
       "  <tbody>\n",
       "    <tr>\n",
       "      <th>0</th>\n",
       "      <td>NaN</td>\n",
       "      <td>Jumlah Desa Menurut Provinsi dan Letak Geografi</td>\n",
       "      <td>NaN</td>\n",
       "    </tr>\n",
       "    <tr>\n",
       "      <th>1</th>\n",
       "      <td>NaN</td>\n",
       "      <td>Tepi Laut</td>\n",
       "      <td>Bukan Tepi Laut</td>\n",
       "    </tr>\n",
       "    <tr>\n",
       "      <th>2</th>\n",
       "      <td>NaN</td>\n",
       "      <td>2024</td>\n",
       "      <td>2024</td>\n",
       "    </tr>\n",
       "    <tr>\n",
       "      <th>3</th>\n",
       "      <td>ACEH</td>\n",
       "      <td>724</td>\n",
       "      <td>5792</td>\n",
       "    </tr>\n",
       "    <tr>\n",
       "      <th>4</th>\n",
       "      <td>SUMATERA UTARA</td>\n",
       "      <td>430</td>\n",
       "      <td>5683</td>\n",
       "    </tr>\n",
       "  </tbody>\n",
       "</table>\n",
       "</div>"
      ],
      "text/plain": [
       "   ï»¿38 Provinsi                                       Unnamed: 1  \\\n",
       "0             NaN  Jumlah Desa Menurut Provinsi dan Letak Geografi   \n",
       "1             NaN                                        Tepi Laut   \n",
       "2             NaN                                             2024   \n",
       "3            ACEH                                              724   \n",
       "4  SUMATERA UTARA                                              430   \n",
       "\n",
       "        Unnamed: 2  \n",
       "0              NaN  \n",
       "1  Bukan Tepi Laut  \n",
       "2             2024  \n",
       "3             5792  \n",
       "4             5683  "
      ]
     },
     "metadata": {},
     "output_type": "display_data"
    },
    {
     "name": "stdout",
     "output_type": "stream",
     "text": [
      "\n",
      "\n",
      "DataFrame: 04_Jumlah Desa yang Memiliki Fasilitas Sekolah Menurut Provinsi dan Tingkat Pendidikan, 2024\n"
     ]
    },
    {
     "data": {
      "text/html": [
       "<div>\n",
       "<style scoped>\n",
       "    .dataframe tbody tr th:only-of-type {\n",
       "        vertical-align: middle;\n",
       "    }\n",
       "\n",
       "    .dataframe tbody tr th {\n",
       "        vertical-align: top;\n",
       "    }\n",
       "\n",
       "    .dataframe thead th {\n",
       "        text-align: right;\n",
       "    }\n",
       "</style>\n",
       "<table border=\"1\" class=\"dataframe\">\n",
       "  <thead>\n",
       "    <tr style=\"text-align: right;\">\n",
       "      <th></th>\n",
       "      <th>ï»¿38 Provinsi</th>\n",
       "      <th>Unnamed: 1</th>\n",
       "      <th>Unnamed: 2</th>\n",
       "      <th>Unnamed: 3</th>\n",
       "      <th>Unnamed: 4</th>\n",
       "      <th>Unnamed: 5</th>\n",
       "    </tr>\n",
       "  </thead>\n",
       "  <tbody>\n",
       "    <tr>\n",
       "      <th>0</th>\n",
       "      <td>NaN</td>\n",
       "      <td>Jumlah Desa yang Memiliki Fasilitas Sekolah Me...</td>\n",
       "      <td>NaN</td>\n",
       "      <td>NaN</td>\n",
       "      <td>NaN</td>\n",
       "      <td>NaN</td>\n",
       "    </tr>\n",
       "    <tr>\n",
       "      <th>1</th>\n",
       "      <td>NaN</td>\n",
       "      <td>SD</td>\n",
       "      <td>SMP</td>\n",
       "      <td>SMU</td>\n",
       "      <td>SMK</td>\n",
       "      <td>Perguruan Tinggi</td>\n",
       "    </tr>\n",
       "    <tr>\n",
       "      <th>2</th>\n",
       "      <td>NaN</td>\n",
       "      <td>2024</td>\n",
       "      <td>2024</td>\n",
       "      <td>2024</td>\n",
       "      <td>2024</td>\n",
       "      <td>2024</td>\n",
       "    </tr>\n",
       "    <tr>\n",
       "      <th>3</th>\n",
       "      <td>ACEH</td>\n",
       "      <td>3382</td>\n",
       "      <td>1421</td>\n",
       "      <td>735</td>\n",
       "      <td>205</td>\n",
       "      <td>119</td>\n",
       "    </tr>\n",
       "    <tr>\n",
       "      <th>4</th>\n",
       "      <td>SUMATERA UTARA</td>\n",
       "      <td>5003</td>\n",
       "      <td>2319</td>\n",
       "      <td>1147</td>\n",
       "      <td>712</td>\n",
       "      <td>202</td>\n",
       "    </tr>\n",
       "  </tbody>\n",
       "</table>\n",
       "</div>"
      ],
      "text/plain": [
       "   ï»¿38 Provinsi                                         Unnamed: 1  \\\n",
       "0             NaN  Jumlah Desa yang Memiliki Fasilitas Sekolah Me...   \n",
       "1             NaN                                                 SD   \n",
       "2             NaN                                               2024   \n",
       "3            ACEH                                               3382   \n",
       "4  SUMATERA UTARA                                               5003   \n",
       "\n",
       "  Unnamed: 2 Unnamed: 3 Unnamed: 4        Unnamed: 5  \n",
       "0        NaN        NaN        NaN               NaN  \n",
       "1        SMP        SMU        SMK  Perguruan Tinggi  \n",
       "2       2024       2024       2024              2024  \n",
       "3       1421        735        205               119  \n",
       "4       2319       1147        712               202  "
      ]
     },
     "metadata": {},
     "output_type": "display_data"
    },
    {
     "name": "stdout",
     "output_type": "stream",
     "text": [
      "\n",
      "\n",
      "DataFrame: 05_Jumlah Desa_Kelurahan Yang Memiliki Sarana Kesehatan Menurut Provinsi, 2018\n"
     ]
    },
    {
     "data": {
      "text/html": [
       "<div>\n",
       "<style scoped>\n",
       "    .dataframe tbody tr th:only-of-type {\n",
       "        vertical-align: middle;\n",
       "    }\n",
       "\n",
       "    .dataframe tbody tr th {\n",
       "        vertical-align: top;\n",
       "    }\n",
       "\n",
       "    .dataframe thead th {\n",
       "        text-align: right;\n",
       "    }\n",
       "</style>\n",
       "<table border=\"1\" class=\"dataframe\">\n",
       "  <thead>\n",
       "    <tr style=\"text-align: right;\">\n",
       "      <th></th>\n",
       "      <th>ï»¿38 Provinsi</th>\n",
       "      <th>Unnamed: 1</th>\n",
       "      <th>Unnamed: 2</th>\n",
       "      <th>Unnamed: 3</th>\n",
       "      <th>Unnamed: 4</th>\n",
       "      <th>Unnamed: 5</th>\n",
       "      <th>Unnamed: 6</th>\n",
       "    </tr>\n",
       "  </thead>\n",
       "  <tbody>\n",
       "    <tr>\n",
       "      <th>0</th>\n",
       "      <td>NaN</td>\n",
       "      <td>Jumlah Desa/Kelurahan Yang Memiliki Sarana Kes...</td>\n",
       "      <td>NaN</td>\n",
       "      <td>NaN</td>\n",
       "      <td>NaN</td>\n",
       "      <td>NaN</td>\n",
       "      <td>NaN</td>\n",
       "    </tr>\n",
       "    <tr>\n",
       "      <th>1</th>\n",
       "      <td>NaN</td>\n",
       "      <td>Rumah Sakit</td>\n",
       "      <td>Rumah Sakit Bersalin</td>\n",
       "      <td>Poliklinik</td>\n",
       "      <td>Puskesmas</td>\n",
       "      <td>Puskesmas Pembantu</td>\n",
       "      <td>Apotek</td>\n",
       "    </tr>\n",
       "    <tr>\n",
       "      <th>2</th>\n",
       "      <td>NaN</td>\n",
       "      <td>2018</td>\n",
       "      <td>2018</td>\n",
       "      <td>2018</td>\n",
       "      <td>2018</td>\n",
       "      <td>2018</td>\n",
       "      <td>2018</td>\n",
       "    </tr>\n",
       "    <tr>\n",
       "      <th>3</th>\n",
       "      <td>ACEH</td>\n",
       "      <td>64</td>\n",
       "      <td>225</td>\n",
       "      <td>258</td>\n",
       "      <td>395</td>\n",
       "      <td>971</td>\n",
       "      <td>346</td>\n",
       "    </tr>\n",
       "    <tr>\n",
       "      <th>4</th>\n",
       "      <td>SUMATERA UTARA</td>\n",
       "      <td>199</td>\n",
       "      <td>441</td>\n",
       "      <td>800</td>\n",
       "      <td>661</td>\n",
       "      <td>1887</td>\n",
       "      <td>740</td>\n",
       "    </tr>\n",
       "  </tbody>\n",
       "</table>\n",
       "</div>"
      ],
      "text/plain": [
       "   ï»¿38 Provinsi                                         Unnamed: 1  \\\n",
       "0             NaN  Jumlah Desa/Kelurahan Yang Memiliki Sarana Kes...   \n",
       "1             NaN                                        Rumah Sakit   \n",
       "2             NaN                                               2018   \n",
       "3            ACEH                                                 64   \n",
       "4  SUMATERA UTARA                                                199   \n",
       "\n",
       "             Unnamed: 2  Unnamed: 3 Unnamed: 4          Unnamed: 5 Unnamed: 6  \n",
       "0                   NaN         NaN        NaN                 NaN        NaN  \n",
       "1  Rumah Sakit Bersalin  Poliklinik  Puskesmas  Puskesmas Pembantu     Apotek  \n",
       "2                  2018        2018       2018                2018       2018  \n",
       "3                   225         258        395                 971        346  \n",
       "4                   441         800        661                1887        740  "
      ]
     },
     "metadata": {},
     "output_type": "display_data"
    },
    {
     "name": "stdout",
     "output_type": "stream",
     "text": [
      "\n",
      "\n",
      "DataFrame: 06_Banyaknya Desa_Kelurahan yang Memiliki Fasilitas Internet di Kantor Desa_Lurah menurut Provinsi dan Klasifikasi Daerah, 2021\n"
     ]
    },
    {
     "data": {
      "text/html": [
       "<div>\n",
       "<style scoped>\n",
       "    .dataframe tbody tr th:only-of-type {\n",
       "        vertical-align: middle;\n",
       "    }\n",
       "\n",
       "    .dataframe tbody tr th {\n",
       "        vertical-align: top;\n",
       "    }\n",
       "\n",
       "    .dataframe thead th {\n",
       "        text-align: right;\n",
       "    }\n",
       "</style>\n",
       "<table border=\"1\" class=\"dataframe\">\n",
       "  <thead>\n",
       "    <tr style=\"text-align: right;\">\n",
       "      <th></th>\n",
       "      <th>ï»¿38 Provinsi</th>\n",
       "      <th>Unnamed: 1</th>\n",
       "      <th>Unnamed: 2</th>\n",
       "      <th>Unnamed: 3</th>\n",
       "    </tr>\n",
       "  </thead>\n",
       "  <tbody>\n",
       "    <tr>\n",
       "      <th>0</th>\n",
       "      <td>NaN</td>\n",
       "      <td>Banyaknya Desa/Kelurahan yang Memiliki Fasilit...</td>\n",
       "      <td>NaN</td>\n",
       "      <td>NaN</td>\n",
       "    </tr>\n",
       "    <tr>\n",
       "      <th>1</th>\n",
       "      <td>NaN</td>\n",
       "      <td>Perkotaan</td>\n",
       "      <td>Perdesaan</td>\n",
       "      <td>Perkotaan+Perdesaan</td>\n",
       "    </tr>\n",
       "    <tr>\n",
       "      <th>2</th>\n",
       "      <td>NaN</td>\n",
       "      <td>2021</td>\n",
       "      <td>2021</td>\n",
       "      <td>2021</td>\n",
       "    </tr>\n",
       "    <tr>\n",
       "      <th>3</th>\n",
       "      <td>ACEH</td>\n",
       "      <td>576</td>\n",
       "      <td>2429</td>\n",
       "      <td>3005</td>\n",
       "    </tr>\n",
       "    <tr>\n",
       "      <th>4</th>\n",
       "      <td>SUMATERA UTARA</td>\n",
       "      <td>756</td>\n",
       "      <td>2131</td>\n",
       "      <td>2887</td>\n",
       "    </tr>\n",
       "  </tbody>\n",
       "</table>\n",
       "</div>"
      ],
      "text/plain": [
       "   ï»¿38 Provinsi                                         Unnamed: 1  \\\n",
       "0             NaN  Banyaknya Desa/Kelurahan yang Memiliki Fasilit...   \n",
       "1             NaN                                          Perkotaan   \n",
       "2             NaN                                               2021   \n",
       "3            ACEH                                                576   \n",
       "4  SUMATERA UTARA                                                756   \n",
       "\n",
       "  Unnamed: 2           Unnamed: 3  \n",
       "0        NaN                  NaN  \n",
       "1  Perdesaan  Perkotaan+Perdesaan  \n",
       "2       2021                 2021  \n",
       "3       2429                 3005  \n",
       "4       2131                 2887  "
      ]
     },
     "metadata": {},
     "output_type": "display_data"
    },
    {
     "name": "stdout",
     "output_type": "stream",
     "text": [
      "\n",
      "\n",
      "DataFrame: 07_Banyaknya Desa_Kelurahan yang Memiliki Menara Base Transceiver Station (BTS) menurut Provinsi dan Klasifikasi Daerah, 2021\n"
     ]
    },
    {
     "data": {
      "text/html": [
       "<div>\n",
       "<style scoped>\n",
       "    .dataframe tbody tr th:only-of-type {\n",
       "        vertical-align: middle;\n",
       "    }\n",
       "\n",
       "    .dataframe tbody tr th {\n",
       "        vertical-align: top;\n",
       "    }\n",
       "\n",
       "    .dataframe thead th {\n",
       "        text-align: right;\n",
       "    }\n",
       "</style>\n",
       "<table border=\"1\" class=\"dataframe\">\n",
       "  <thead>\n",
       "    <tr style=\"text-align: right;\">\n",
       "      <th></th>\n",
       "      <th>ï»¿38 Provinsi</th>\n",
       "      <th>Unnamed: 1</th>\n",
       "      <th>Unnamed: 2</th>\n",
       "      <th>Unnamed: 3</th>\n",
       "    </tr>\n",
       "  </thead>\n",
       "  <tbody>\n",
       "    <tr>\n",
       "      <th>0</th>\n",
       "      <td>NaN</td>\n",
       "      <td>Banyaknya Desa/Kelurahan yang Memiliki Menara ...</td>\n",
       "      <td>NaN</td>\n",
       "      <td>NaN</td>\n",
       "    </tr>\n",
       "    <tr>\n",
       "      <th>1</th>\n",
       "      <td>NaN</td>\n",
       "      <td>Perkotaan</td>\n",
       "      <td>Perdesaan</td>\n",
       "      <td>Perkotaan+Perdesaan</td>\n",
       "    </tr>\n",
       "    <tr>\n",
       "      <th>2</th>\n",
       "      <td>NaN</td>\n",
       "      <td>2021</td>\n",
       "      <td>2021</td>\n",
       "      <td>2021</td>\n",
       "    </tr>\n",
       "    <tr>\n",
       "      <th>3</th>\n",
       "      <td>ACEH</td>\n",
       "      <td>441</td>\n",
       "      <td>1152</td>\n",
       "      <td>1593</td>\n",
       "    </tr>\n",
       "    <tr>\n",
       "      <th>4</th>\n",
       "      <td>SUMATERA UTARA</td>\n",
       "      <td>814</td>\n",
       "      <td>1811</td>\n",
       "      <td>2625</td>\n",
       "    </tr>\n",
       "  </tbody>\n",
       "</table>\n",
       "</div>"
      ],
      "text/plain": [
       "   ï»¿38 Provinsi                                         Unnamed: 1  \\\n",
       "0             NaN  Banyaknya Desa/Kelurahan yang Memiliki Menara ...   \n",
       "1             NaN                                          Perkotaan   \n",
       "2             NaN                                               2021   \n",
       "3            ACEH                                                441   \n",
       "4  SUMATERA UTARA                                                814   \n",
       "\n",
       "  Unnamed: 2           Unnamed: 3  \n",
       "0        NaN                  NaN  \n",
       "1  Perdesaan  Perkotaan+Perdesaan  \n",
       "2       2021                 2021  \n",
       "3       1152                 1593  \n",
       "4       1811                 2625  "
      ]
     },
     "metadata": {},
     "output_type": "display_data"
    },
    {
     "name": "stdout",
     "output_type": "stream",
     "text": [
      "\n",
      "\n",
      "DataFrame: 08_Banyaknya Desa_Kelurahan yang Memiliki Menara BTS Menurut Provinsi dan Penerimaan Sinyal Telepon Selular (Perdesaan), 2021\n"
     ]
    },
    {
     "data": {
      "text/html": [
       "<div>\n",
       "<style scoped>\n",
       "    .dataframe tbody tr th:only-of-type {\n",
       "        vertical-align: middle;\n",
       "    }\n",
       "\n",
       "    .dataframe tbody tr th {\n",
       "        vertical-align: top;\n",
       "    }\n",
       "\n",
       "    .dataframe thead th {\n",
       "        text-align: right;\n",
       "    }\n",
       "</style>\n",
       "<table border=\"1\" class=\"dataframe\">\n",
       "  <thead>\n",
       "    <tr style=\"text-align: right;\">\n",
       "      <th></th>\n",
       "      <th>ï»¿38 Provinsi</th>\n",
       "      <th>Unnamed: 1</th>\n",
       "      <th>Unnamed: 2</th>\n",
       "      <th>Unnamed: 3</th>\n",
       "    </tr>\n",
       "  </thead>\n",
       "  <tbody>\n",
       "    <tr>\n",
       "      <th>0</th>\n",
       "      <td>NaN</td>\n",
       "      <td>Banyaknya Desa/Kelurahan yang Memiliki Menara ...</td>\n",
       "      <td>NaN</td>\n",
       "      <td>NaN</td>\n",
       "    </tr>\n",
       "    <tr>\n",
       "      <th>1</th>\n",
       "      <td>NaN</td>\n",
       "      <td>Ada Sinyal Kuat</td>\n",
       "      <td>Ada Sinyal Lemah</td>\n",
       "      <td>Tidak Ada Sinyal</td>\n",
       "    </tr>\n",
       "    <tr>\n",
       "      <th>2</th>\n",
       "      <td>NaN</td>\n",
       "      <td>2021</td>\n",
       "      <td>2021</td>\n",
       "      <td>2021</td>\n",
       "    </tr>\n",
       "    <tr>\n",
       "      <th>3</th>\n",
       "      <td>ACEH</td>\n",
       "      <td>1036</td>\n",
       "      <td>115</td>\n",
       "      <td>1</td>\n",
       "    </tr>\n",
       "    <tr>\n",
       "      <th>4</th>\n",
       "      <td>SUMATERA UTARA</td>\n",
       "      <td>1614</td>\n",
       "      <td>195</td>\n",
       "      <td>2</td>\n",
       "    </tr>\n",
       "  </tbody>\n",
       "</table>\n",
       "</div>"
      ],
      "text/plain": [
       "   ï»¿38 Provinsi                                         Unnamed: 1  \\\n",
       "0             NaN  Banyaknya Desa/Kelurahan yang Memiliki Menara ...   \n",
       "1             NaN                                    Ada Sinyal Kuat   \n",
       "2             NaN                                               2021   \n",
       "3            ACEH                                               1036   \n",
       "4  SUMATERA UTARA                                               1614   \n",
       "\n",
       "         Unnamed: 2        Unnamed: 3  \n",
       "0               NaN               NaN  \n",
       "1  Ada Sinyal Lemah  Tidak Ada Sinyal  \n",
       "2              2021              2021  \n",
       "3               115                 1  \n",
       "4               195                 2  "
      ]
     },
     "metadata": {},
     "output_type": "display_data"
    },
    {
     "name": "stdout",
     "output_type": "stream",
     "text": [
      "\n",
      "\n",
      "DataFrame: 09_Banyaknya Desa_Kelurahan yang Menerima Sinyal Telepon Selular Menurut Provinsi (Sinyal Kuat), 2021\n"
     ]
    },
    {
     "data": {
      "text/html": [
       "<div>\n",
       "<style scoped>\n",
       "    .dataframe tbody tr th:only-of-type {\n",
       "        vertical-align: middle;\n",
       "    }\n",
       "\n",
       "    .dataframe tbody tr th {\n",
       "        vertical-align: top;\n",
       "    }\n",
       "\n",
       "    .dataframe thead th {\n",
       "        text-align: right;\n",
       "    }\n",
       "</style>\n",
       "<table border=\"1\" class=\"dataframe\">\n",
       "  <thead>\n",
       "    <tr style=\"text-align: right;\">\n",
       "      <th></th>\n",
       "      <th>ï»¿38 Provinsi</th>\n",
       "      <th>Unnamed: 1</th>\n",
       "      <th>Unnamed: 2</th>\n",
       "      <th>Unnamed: 3</th>\n",
       "    </tr>\n",
       "  </thead>\n",
       "  <tbody>\n",
       "    <tr>\n",
       "      <th>0</th>\n",
       "      <td>NaN</td>\n",
       "      <td>Banyaknya Desa/Kelurahan yang Menerima Sinyal ...</td>\n",
       "      <td>NaN</td>\n",
       "      <td>NaN</td>\n",
       "    </tr>\n",
       "    <tr>\n",
       "      <th>1</th>\n",
       "      <td>NaN</td>\n",
       "      <td>Perkotaan</td>\n",
       "      <td>Perdesaan</td>\n",
       "      <td>Perkotaan+Perdesaan</td>\n",
       "    </tr>\n",
       "    <tr>\n",
       "      <th>2</th>\n",
       "      <td>NaN</td>\n",
       "      <td>2021</td>\n",
       "      <td>2021</td>\n",
       "      <td>2021</td>\n",
       "    </tr>\n",
       "    <tr>\n",
       "      <th>3</th>\n",
       "      <td>ACEH</td>\n",
       "      <td>725</td>\n",
       "      <td>4541</td>\n",
       "      <td>5266</td>\n",
       "    </tr>\n",
       "    <tr>\n",
       "      <th>4</th>\n",
       "      <td>SUMATERA UTARA</td>\n",
       "      <td>1004</td>\n",
       "      <td>3407</td>\n",
       "      <td>4411</td>\n",
       "    </tr>\n",
       "  </tbody>\n",
       "</table>\n",
       "</div>"
      ],
      "text/plain": [
       "   ï»¿38 Provinsi                                         Unnamed: 1  \\\n",
       "0             NaN  Banyaknya Desa/Kelurahan yang Menerima Sinyal ...   \n",
       "1             NaN                                          Perkotaan   \n",
       "2             NaN                                               2021   \n",
       "3            ACEH                                                725   \n",
       "4  SUMATERA UTARA                                               1004   \n",
       "\n",
       "  Unnamed: 2           Unnamed: 3  \n",
       "0        NaN                  NaN  \n",
       "1  Perdesaan  Perkotaan+Perdesaan  \n",
       "2       2021                 2021  \n",
       "3       4541                 5266  \n",
       "4       3407                 4411  "
      ]
     },
     "metadata": {},
     "output_type": "display_data"
    },
    {
     "name": "stdout",
     "output_type": "stream",
     "text": [
      "\n",
      "\n",
      "DataFrame: 10_Banyaknya Desa_Kelurahan yang Menerima Sinyal Telepon Selular Menurut Provinsi (Sinyal Lemah), 2021\n"
     ]
    },
    {
     "data": {
      "text/html": [
       "<div>\n",
       "<style scoped>\n",
       "    .dataframe tbody tr th:only-of-type {\n",
       "        vertical-align: middle;\n",
       "    }\n",
       "\n",
       "    .dataframe tbody tr th {\n",
       "        vertical-align: top;\n",
       "    }\n",
       "\n",
       "    .dataframe thead th {\n",
       "        text-align: right;\n",
       "    }\n",
       "</style>\n",
       "<table border=\"1\" class=\"dataframe\">\n",
       "  <thead>\n",
       "    <tr style=\"text-align: right;\">\n",
       "      <th></th>\n",
       "      <th>ï»¿38 Provinsi</th>\n",
       "      <th>Unnamed: 1</th>\n",
       "      <th>Unnamed: 2</th>\n",
       "      <th>Unnamed: 3</th>\n",
       "    </tr>\n",
       "  </thead>\n",
       "  <tbody>\n",
       "    <tr>\n",
       "      <th>0</th>\n",
       "      <td>NaN</td>\n",
       "      <td>Banyaknya Desa/Kelurahan yang Menerima Sinyal ...</td>\n",
       "      <td>NaN</td>\n",
       "      <td>NaN</td>\n",
       "    </tr>\n",
       "    <tr>\n",
       "      <th>1</th>\n",
       "      <td>NaN</td>\n",
       "      <td>Perkotaan</td>\n",
       "      <td>Perdesaan</td>\n",
       "      <td>Perkotaan+Perdesaan</td>\n",
       "    </tr>\n",
       "    <tr>\n",
       "      <th>2</th>\n",
       "      <td>NaN</td>\n",
       "      <td>2021</td>\n",
       "      <td>2021</td>\n",
       "      <td>2021</td>\n",
       "    </tr>\n",
       "    <tr>\n",
       "      <th>3</th>\n",
       "      <td>ACEH</td>\n",
       "      <td>23</td>\n",
       "      <td>1145</td>\n",
       "      <td>1168</td>\n",
       "    </tr>\n",
       "    <tr>\n",
       "      <th>4</th>\n",
       "      <td>SUMATERA UTARA</td>\n",
       "      <td>29</td>\n",
       "      <td>1542</td>\n",
       "      <td>1571</td>\n",
       "    </tr>\n",
       "  </tbody>\n",
       "</table>\n",
       "</div>"
      ],
      "text/plain": [
       "   ï»¿38 Provinsi                                         Unnamed: 1  \\\n",
       "0             NaN  Banyaknya Desa/Kelurahan yang Menerima Sinyal ...   \n",
       "1             NaN                                          Perkotaan   \n",
       "2             NaN                                               2021   \n",
       "3            ACEH                                                 23   \n",
       "4  SUMATERA UTARA                                                 29   \n",
       "\n",
       "  Unnamed: 2           Unnamed: 3  \n",
       "0        NaN                  NaN  \n",
       "1  Perdesaan  Perkotaan+Perdesaan  \n",
       "2       2021                 2021  \n",
       "3       1145                 1168  \n",
       "4       1542                 1571  "
      ]
     },
     "metadata": {},
     "output_type": "display_data"
    },
    {
     "name": "stdout",
     "output_type": "stream",
     "text": [
      "\n",
      "\n",
      "DataFrame: 11_Banyaknya Desa_Kelurahan yang Tidak Memiliki Menara BTS Menurut Provinsi dan Penerimaan Sinyal Telepon Selular (Perdesaan), 2021\n"
     ]
    },
    {
     "data": {
      "text/html": [
       "<div>\n",
       "<style scoped>\n",
       "    .dataframe tbody tr th:only-of-type {\n",
       "        vertical-align: middle;\n",
       "    }\n",
       "\n",
       "    .dataframe tbody tr th {\n",
       "        vertical-align: top;\n",
       "    }\n",
       "\n",
       "    .dataframe thead th {\n",
       "        text-align: right;\n",
       "    }\n",
       "</style>\n",
       "<table border=\"1\" class=\"dataframe\">\n",
       "  <thead>\n",
       "    <tr style=\"text-align: right;\">\n",
       "      <th></th>\n",
       "      <th>ï»¿38 Provinsi</th>\n",
       "      <th>Unnamed: 1</th>\n",
       "      <th>Unnamed: 2</th>\n",
       "      <th>Unnamed: 3</th>\n",
       "    </tr>\n",
       "  </thead>\n",
       "  <tbody>\n",
       "    <tr>\n",
       "      <th>0</th>\n",
       "      <td>NaN</td>\n",
       "      <td>Banyaknya Desa/Kelurahan yang Tidak Memiliki M...</td>\n",
       "      <td>NaN</td>\n",
       "      <td>NaN</td>\n",
       "    </tr>\n",
       "    <tr>\n",
       "      <th>1</th>\n",
       "      <td>NaN</td>\n",
       "      <td>Ada Sinyal Kuat</td>\n",
       "      <td>Ada Sinyal Lemah</td>\n",
       "      <td>Tidak Ada Sinyal</td>\n",
       "    </tr>\n",
       "    <tr>\n",
       "      <th>2</th>\n",
       "      <td>NaN</td>\n",
       "      <td>2021</td>\n",
       "      <td>2021</td>\n",
       "      <td>2021</td>\n",
       "    </tr>\n",
       "    <tr>\n",
       "      <th>3</th>\n",
       "      <td>ACEH</td>\n",
       "      <td>3505</td>\n",
       "      <td>1030</td>\n",
       "      <td>78</td>\n",
       "    </tr>\n",
       "    <tr>\n",
       "      <th>4</th>\n",
       "      <td>SUMATERA UTARA</td>\n",
       "      <td>1793</td>\n",
       "      <td>1347</td>\n",
       "      <td>148</td>\n",
       "    </tr>\n",
       "  </tbody>\n",
       "</table>\n",
       "</div>"
      ],
      "text/plain": [
       "   ï»¿38 Provinsi                                         Unnamed: 1  \\\n",
       "0             NaN  Banyaknya Desa/Kelurahan yang Tidak Memiliki M...   \n",
       "1             NaN                                    Ada Sinyal Kuat   \n",
       "2             NaN                                               2021   \n",
       "3            ACEH                                               3505   \n",
       "4  SUMATERA UTARA                                               1793   \n",
       "\n",
       "         Unnamed: 2        Unnamed: 3  \n",
       "0               NaN               NaN  \n",
       "1  Ada Sinyal Lemah  Tidak Ada Sinyal  \n",
       "2              2021              2021  \n",
       "3              1030                78  \n",
       "4              1347               148  "
      ]
     },
     "metadata": {},
     "output_type": "display_data"
    },
    {
     "name": "stdout",
     "output_type": "stream",
     "text": [
      "\n",
      "\n",
      "DataFrame: 12_Jumlah Desa_Kelurahan Menurut Provinsi, 2024\n"
     ]
    },
    {
     "data": {
      "text/html": [
       "<div>\n",
       "<style scoped>\n",
       "    .dataframe tbody tr th:only-of-type {\n",
       "        vertical-align: middle;\n",
       "    }\n",
       "\n",
       "    .dataframe tbody tr th {\n",
       "        vertical-align: top;\n",
       "    }\n",
       "\n",
       "    .dataframe thead th {\n",
       "        text-align: right;\n",
       "    }\n",
       "</style>\n",
       "<table border=\"1\" class=\"dataframe\">\n",
       "  <thead>\n",
       "    <tr style=\"text-align: right;\">\n",
       "      <th></th>\n",
       "      <th>ï»¿Provinsi</th>\n",
       "      <th>Jumlah Desa</th>\n",
       "    </tr>\n",
       "  </thead>\n",
       "  <tbody>\n",
       "    <tr>\n",
       "      <th>0</th>\n",
       "      <td>Aceh</td>\n",
       "      <td>6516.0</td>\n",
       "    </tr>\n",
       "    <tr>\n",
       "      <th>1</th>\n",
       "      <td>Sumatera Utara</td>\n",
       "      <td>6113.0</td>\n",
       "    </tr>\n",
       "    <tr>\n",
       "      <th>2</th>\n",
       "      <td>Sumatera Barat</td>\n",
       "      <td>1265.0</td>\n",
       "    </tr>\n",
       "    <tr>\n",
       "      <th>3</th>\n",
       "      <td>Riau</td>\n",
       "      <td>1867.0</td>\n",
       "    </tr>\n",
       "    <tr>\n",
       "      <th>4</th>\n",
       "      <td>Jambi</td>\n",
       "      <td>1585.0</td>\n",
       "    </tr>\n",
       "  </tbody>\n",
       "</table>\n",
       "</div>"
      ],
      "text/plain": [
       "      ï»¿Provinsi  Jumlah Desa\n",
       "0            Aceh       6516.0\n",
       "1  Sumatera Utara       6113.0\n",
       "2  Sumatera Barat       1265.0\n",
       "3            Riau       1867.0\n",
       "4           Jambi       1585.0"
      ]
     },
     "metadata": {},
     "output_type": "display_data"
    },
    {
     "name": "stdout",
     "output_type": "stream",
     "text": [
      "\n",
      "\n",
      "DataFrame: 13_jumlah-pendamping-desa-yang-diberdayakan\n"
     ]
    },
    {
     "data": {
      "text/html": [
       "<div>\n",
       "<style scoped>\n",
       "    .dataframe tbody tr th:only-of-type {\n",
       "        vertical-align: middle;\n",
       "    }\n",
       "\n",
       "    .dataframe tbody tr th {\n",
       "        vertical-align: top;\n",
       "    }\n",
       "\n",
       "    .dataframe thead th {\n",
       "        text-align: right;\n",
       "    }\n",
       "</style>\n",
       "<table border=\"1\" class=\"dataframe\">\n",
       "  <thead>\n",
       "    <tr style=\"text-align: right;\">\n",
       "      <th></th>\n",
       "      <th>No</th>\n",
       "      <th>Provinsi</th>\n",
       "      <th>Waktu</th>\n",
       "      <th>TAPM_Pusat</th>\n",
       "      <th>TAPM_Provinsi</th>\n",
       "      <th>\\nTAPM_Kabupaten_Kota</th>\n",
       "      <th>\\nPD</th>\n",
       "      <th>\\n PLD</th>\n",
       "      <th>Total</th>\n",
       "    </tr>\n",
       "  </thead>\n",
       "  <tbody>\n",
       "    <tr>\n",
       "      <th>0</th>\n",
       "      <td>0</td>\n",
       "      <td>JAKARTA/PUSAT</td>\n",
       "      <td>Juni 2024</td>\n",
       "      <td>37.0</td>\n",
       "      <td>NaN</td>\n",
       "      <td>NaN</td>\n",
       "      <td>NaN</td>\n",
       "      <td>NaN</td>\n",
       "      <td>37</td>\n",
       "    </tr>\n",
       "    <tr>\n",
       "      <th>1</th>\n",
       "      <td>1</td>\n",
       "      <td>ACEH</td>\n",
       "      <td>Juni 2024</td>\n",
       "      <td>NaN</td>\n",
       "      <td>9.0</td>\n",
       "      <td>112</td>\n",
       "      <td>856</td>\n",
       "      <td>1,573</td>\n",
       "      <td>2,550</td>\n",
       "    </tr>\n",
       "    <tr>\n",
       "      <th>2</th>\n",
       "      <td>2</td>\n",
       "      <td>SUMATERA UTARA</td>\n",
       "      <td>Juni 2024</td>\n",
       "      <td>NaN</td>\n",
       "      <td>8.0</td>\n",
       "      <td>138</td>\n",
       "      <td>891</td>\n",
       "      <td>1,402</td>\n",
       "      <td>2,439</td>\n",
       "    </tr>\n",
       "    <tr>\n",
       "      <th>3</th>\n",
       "      <td>3</td>\n",
       "      <td>SUMATERA BARAT</td>\n",
       "      <td>Juni 2024</td>\n",
       "      <td>NaN</td>\n",
       "      <td>6.0</td>\n",
       "      <td>76</td>\n",
       "      <td>271</td>\n",
       "      <td>305</td>\n",
       "      <td>658</td>\n",
       "    </tr>\n",
       "    <tr>\n",
       "      <th>4</th>\n",
       "      <td>4</td>\n",
       "      <td>RIAU</td>\n",
       "      <td>Juni 2024</td>\n",
       "      <td>NaN</td>\n",
       "      <td>6.0</td>\n",
       "      <td>54</td>\n",
       "      <td>277</td>\n",
       "      <td>412</td>\n",
       "      <td>749</td>\n",
       "    </tr>\n",
       "  </tbody>\n",
       "</table>\n",
       "</div>"
      ],
      "text/plain": [
       "  No        Provinsi      Waktu    TAPM_Pusat    TAPM_Provinsi   \\\n",
       "0   0   JAKARTA/PUSAT  Juni 2024          37.0              NaN   \n",
       "1   1            ACEH  Juni 2024           NaN              9.0   \n",
       "2   2  SUMATERA UTARA  Juni 2024           NaN              8.0   \n",
       "3   3  SUMATERA BARAT  Juni 2024           NaN              6.0   \n",
       "4   4            RIAU  Juni 2024           NaN              6.0   \n",
       "\n",
       "  \\nTAPM_Kabupaten_Kota \\nPD \\n PLD Total   \n",
       "0                   NaN  NaN    NaN     37  \n",
       "1                   112  856  1,573  2,550  \n",
       "2                   138  891  1,402  2,439  \n",
       "3                    76  271    305    658  \n",
       "4                    54  277    412    749  "
      ]
     },
     "metadata": {},
     "output_type": "display_data"
    },
    {
     "name": "stdout",
     "output_type": "stream",
     "text": [
      "\n",
      "\n",
      "DataFrame: 14_data-jumlah-masyarakat-desa-yang-diberikan-pelatihan-tahun-2024\n"
     ]
    },
    {
     "data": {
      "text/html": [
       "<div>\n",
       "<style scoped>\n",
       "    .dataframe tbody tr th:only-of-type {\n",
       "        vertical-align: middle;\n",
       "    }\n",
       "\n",
       "    .dataframe tbody tr th {\n",
       "        vertical-align: top;\n",
       "    }\n",
       "\n",
       "    .dataframe thead th {\n",
       "        text-align: right;\n",
       "    }\n",
       "</style>\n",
       "<table border=\"1\" class=\"dataframe\">\n",
       "  <thead>\n",
       "    <tr style=\"text-align: right;\">\n",
       "      <th></th>\n",
       "      <th>NO</th>\n",
       "      <th>NAMA_BALAI</th>\n",
       "      <th>JENIS_PELATIHAN</th>\n",
       "      <th>WAKTU_PELAKSANAAN</th>\n",
       "      <th>ID_PROVINSI</th>\n",
       "      <th>PROVINSI</th>\n",
       "      <th>ID_KABUPATEN</th>\n",
       "      <th>KABUPATEN</th>\n",
       "      <th>ID_KECAMATAN</th>\n",
       "      <th>KECAMATAN</th>\n",
       "      <th>ID_DESA</th>\n",
       "      <th>DESA</th>\n",
       "      <th>JUMLAH</th>\n",
       "    </tr>\n",
       "  </thead>\n",
       "  <tbody>\n",
       "    <tr>\n",
       "      <th>0</th>\n",
       "      <td>1</td>\n",
       "      <td>Jakarta</td>\n",
       "      <td>BUM Desa</td>\n",
       "      <td>31 Januari - 3 Februari 2024</td>\n",
       "      <td>32</td>\n",
       "      <td>JAWA BARAT</td>\n",
       "      <td>3216.0</td>\n",
       "      <td>BEKASI</td>\n",
       "      <td>321620.0</td>\n",
       "      <td>CIKARANG PUSAT</td>\n",
       "      <td>3.216202e+09</td>\n",
       "      <td>HEGARMUKTI</td>\n",
       "      <td>2</td>\n",
       "    </tr>\n",
       "    <tr>\n",
       "      <th>1</th>\n",
       "      <td>2</td>\n",
       "      <td>Jakarta</td>\n",
       "      <td>BUM Desa</td>\n",
       "      <td>31 Januari - 3 Februari 2024</td>\n",
       "      <td>32</td>\n",
       "      <td>JAWA BARAT</td>\n",
       "      <td>3216.0</td>\n",
       "      <td>BEKASI</td>\n",
       "      <td>321602.0</td>\n",
       "      <td>BABELAN</td>\n",
       "      <td>3.216022e+09</td>\n",
       "      <td>HURIP JAYA</td>\n",
       "      <td>2</td>\n",
       "    </tr>\n",
       "    <tr>\n",
       "      <th>2</th>\n",
       "      <td>3</td>\n",
       "      <td>Jakarta</td>\n",
       "      <td>BUM Desa</td>\n",
       "      <td>31 Januari - 3 Februari 2024</td>\n",
       "      <td>32</td>\n",
       "      <td>JAWA BARAT</td>\n",
       "      <td>3216.0</td>\n",
       "      <td>BEKASI</td>\n",
       "      <td>321621.0</td>\n",
       "      <td>SERANG BARU</td>\n",
       "      <td>3.212022e+09</td>\n",
       "      <td>JAYAMULYA</td>\n",
       "      <td>2</td>\n",
       "    </tr>\n",
       "    <tr>\n",
       "      <th>3</th>\n",
       "      <td>4</td>\n",
       "      <td>Jakarta</td>\n",
       "      <td>BUM Desa</td>\n",
       "      <td>31 Januari - 3 Februari 2024</td>\n",
       "      <td>32</td>\n",
       "      <td>JAWA BARAT</td>\n",
       "      <td>3216.0</td>\n",
       "      <td>BEKASI</td>\n",
       "      <td>321611.0</td>\n",
       "      <td>CIKARANG TIMUR</td>\n",
       "      <td>1.810052e+09</td>\n",
       "      <td>KARANGSARI</td>\n",
       "      <td>2</td>\n",
       "    </tr>\n",
       "    <tr>\n",
       "      <th>4</th>\n",
       "      <td>5</td>\n",
       "      <td>Jakarta</td>\n",
       "      <td>BUM Desa</td>\n",
       "      <td>31 Januari - 3 Februari 2024</td>\n",
       "      <td>32</td>\n",
       "      <td>JAWA BARAT</td>\n",
       "      <td>3216.0</td>\n",
       "      <td>BEKASI</td>\n",
       "      <td>321618.0</td>\n",
       "      <td>SETU</td>\n",
       "      <td>3.206192e+09</td>\n",
       "      <td>KERTARAHAYU</td>\n",
       "      <td>2</td>\n",
       "    </tr>\n",
       "  </tbody>\n",
       "</table>\n",
       "</div>"
      ],
      "text/plain": [
       "   NO NAMA_BALAI JENIS_PELATIHAN             WAKTU_PELAKSANAAN  ID_PROVINSI  \\\n",
       "0   1    Jakarta        BUM Desa  31 Januari - 3 Februari 2024           32   \n",
       "1   2    Jakarta        BUM Desa  31 Januari - 3 Februari 2024           32   \n",
       "2   3    Jakarta        BUM Desa  31 Januari - 3 Februari 2024           32   \n",
       "3   4    Jakarta        BUM Desa  31 Januari - 3 Februari 2024           32   \n",
       "4   5    Jakarta        BUM Desa  31 Januari - 3 Februari 2024           32   \n",
       "\n",
       "     PROVINSI  ID_KABUPATEN KABUPATEN  ID_KECAMATAN       KECAMATAN  \\\n",
       "0  JAWA BARAT        3216.0    BEKASI      321620.0  CIKARANG PUSAT   \n",
       "1  JAWA BARAT        3216.0    BEKASI      321602.0         BABELAN   \n",
       "2  JAWA BARAT        3216.0    BEKASI      321621.0     SERANG BARU   \n",
       "3  JAWA BARAT        3216.0    BEKASI      321611.0  CIKARANG TIMUR   \n",
       "4  JAWA BARAT        3216.0    BEKASI      321618.0            SETU   \n",
       "\n",
       "        ID_DESA         DESA   JUMLAH   \n",
       "0  3.216202e+09   HEGARMUKTI         2  \n",
       "1  3.216022e+09   HURIP JAYA         2  \n",
       "2  3.212022e+09    JAYAMULYA         2  \n",
       "3  1.810052e+09   KARANGSARI         2  \n",
       "4  3.206192e+09  KERTARAHAYU         2  "
      ]
     },
     "metadata": {},
     "output_type": "display_data"
    },
    {
     "name": "stdout",
     "output_type": "stream",
     "text": [
      "\n",
      "\n",
      "DataFrame: 15_jumlah-jenis-usaha-dan-status-badan-hukum-bumdesa-bumdesa-bersama\n"
     ]
    },
    {
     "data": {
      "text/html": [
       "<div>\n",
       "<style scoped>\n",
       "    .dataframe tbody tr th:only-of-type {\n",
       "        vertical-align: middle;\n",
       "    }\n",
       "\n",
       "    .dataframe tbody tr th {\n",
       "        vertical-align: top;\n",
       "    }\n",
       "\n",
       "    .dataframe thead th {\n",
       "        text-align: right;\n",
       "    }\n",
       "</style>\n",
       "<table border=\"1\" class=\"dataframe\">\n",
       "  <thead>\n",
       "    <tr style=\"text-align: right;\">\n",
       "      <th></th>\n",
       "      <th>Provinsi</th>\n",
       "      <th>Kabupaten</th>\n",
       "      <th>Kecamatan</th>\n",
       "      <th>Desa</th>\n",
       "      <th>Nama_BUMDes</th>\n",
       "      <th>ket_kbli</th>\n",
       "      <th>status</th>\n",
       "      <th>Tipe_BUMDes</th>\n",
       "    </tr>\n",
       "  </thead>\n",
       "  <tbody>\n",
       "    <tr>\n",
       "      <th>0</th>\n",
       "      <td>ACEH</td>\n",
       "      <td>ACEH SELATAN</td>\n",
       "      <td>KLUET UTARA</td>\n",
       "      <td>KAMPUNG PAYA</td>\n",
       "      <td>BUM Desa MUTIARA JAYA KAMPUNG PAYA</td>\n",
       "      <td>PENAMPUNGAN DAN PENYALURAN AIR BAKU 244</td>\n",
       "      <td>Terverifikasi Dokumen</td>\n",
       "      <td>BUM Desa</td>\n",
       "    </tr>\n",
       "    <tr>\n",
       "      <th>1</th>\n",
       "      <td>ACEH</td>\n",
       "      <td>ACEH SELATAN</td>\n",
       "      <td>KLUET UTARA</td>\n",
       "      <td>KAMPUNG PAYA</td>\n",
       "      <td>BUM Desa MUTIARA JAYA KAMPUNG PAYA</td>\n",
       "      <td>AKTIVITAS PENYEWAAN DAN SEWA GUNA USAHA TANPA ...</td>\n",
       "      <td>Terverifikasi Dokumen</td>\n",
       "      <td>BUM Desa</td>\n",
       "    </tr>\n",
       "    <tr>\n",
       "      <th>2</th>\n",
       "      <td>ACEH</td>\n",
       "      <td>ACEH SELATAN</td>\n",
       "      <td>KLUET UTARA</td>\n",
       "      <td>PASI KUALA BA'U</td>\n",
       "      <td>BUM Desa MADAT LAMKUTA PASI KUALA BA'U</td>\n",
       "      <td>PERDAGANGAN ECERAN KOPI, GULA PASIR DAN GULA M...</td>\n",
       "      <td>Terverifikasi Dokumen</td>\n",
       "      <td>BUM Desa</td>\n",
       "    </tr>\n",
       "    <tr>\n",
       "      <th>3</th>\n",
       "      <td>ACEH</td>\n",
       "      <td>ACEH SELATAN</td>\n",
       "      <td>KLUET UTARA</td>\n",
       "      <td>PASI KUALA BA'U</td>\n",
       "      <td>BUM Desa MADAT LAMKUTA PASI KUALA BA'U</td>\n",
       "      <td>UNIT SIMPAN PINJAM KOPERASI PRIMER (USP KOPERA...</td>\n",
       "      <td>Terverifikasi Dokumen</td>\n",
       "      <td>BUM Desa</td>\n",
       "    </tr>\n",
       "    <tr>\n",
       "      <th>4</th>\n",
       "      <td>ACEH</td>\n",
       "      <td>ACEH SELATAN</td>\n",
       "      <td>KLUET SELATAN</td>\n",
       "      <td>KAPEH</td>\n",
       "      <td>BUM Desa Makmue Meutani KAPEH</td>\n",
       "      <td>INDUSTRI PENGGILINGAN PADI DAN PENYOSOHAN BERA...</td>\n",
       "      <td>Terverifikasi Dokumen</td>\n",
       "      <td>BUM Desa</td>\n",
       "    </tr>\n",
       "  </tbody>\n",
       "</table>\n",
       "</div>"
      ],
      "text/plain": [
       "  Provinsi     Kabupaten      Kecamatan             Desa  \\\n",
       "0     ACEH  ACEH SELATAN    KLUET UTARA     KAMPUNG PAYA   \n",
       "1     ACEH  ACEH SELATAN    KLUET UTARA     KAMPUNG PAYA   \n",
       "2     ACEH  ACEH SELATAN    KLUET UTARA  PASI KUALA BA'U   \n",
       "3     ACEH  ACEH SELATAN    KLUET UTARA  PASI KUALA BA'U   \n",
       "4     ACEH  ACEH SELATAN  KLUET SELATAN            KAPEH   \n",
       "\n",
       "                              Nama_BUMDes  \\\n",
       "0      BUM Desa MUTIARA JAYA KAMPUNG PAYA   \n",
       "1      BUM Desa MUTIARA JAYA KAMPUNG PAYA   \n",
       "2  BUM Desa MADAT LAMKUTA PASI KUALA BA'U   \n",
       "3  BUM Desa MADAT LAMKUTA PASI KUALA BA'U   \n",
       "4           BUM Desa Makmue Meutani KAPEH   \n",
       "\n",
       "                                            ket_kbli                 status  \\\n",
       "0            PENAMPUNGAN DAN PENYALURAN AIR BAKU 244  Terverifikasi Dokumen   \n",
       "1  AKTIVITAS PENYEWAAN DAN SEWA GUNA USAHA TANPA ...  Terverifikasi Dokumen   \n",
       "2  PERDAGANGAN ECERAN KOPI, GULA PASIR DAN GULA M...  Terverifikasi Dokumen   \n",
       "3  UNIT SIMPAN PINJAM KOPERASI PRIMER (USP KOPERA...  Terverifikasi Dokumen   \n",
       "4  INDUSTRI PENGGILINGAN PADI DAN PENYOSOHAN BERA...  Terverifikasi Dokumen   \n",
       "\n",
       "  Tipe_BUMDes  \n",
       "0    BUM Desa  \n",
       "1    BUM Desa  \n",
       "2    BUM Desa  \n",
       "3    BUM Desa  \n",
       "4    BUM Desa  "
      ]
     },
     "metadata": {},
     "output_type": "display_data"
    },
    {
     "name": "stdout",
     "output_type": "stream",
     "text": [
      "\n",
      "\n",
      "DataFrame: 16_jumlah-bumdesa-dan-bumdesa-bersama-yang-berbadan-hukum\n"
     ]
    },
    {
     "data": {
      "text/html": [
       "<div>\n",
       "<style scoped>\n",
       "    .dataframe tbody tr th:only-of-type {\n",
       "        vertical-align: middle;\n",
       "    }\n",
       "\n",
       "    .dataframe tbody tr th {\n",
       "        vertical-align: top;\n",
       "    }\n",
       "\n",
       "    .dataframe thead th {\n",
       "        text-align: right;\n",
       "    }\n",
       "</style>\n",
       "<table border=\"1\" class=\"dataframe\">\n",
       "  <thead>\n",
       "    <tr style=\"text-align: right;\">\n",
       "      <th></th>\n",
       "      <th>Nama_BUMDes</th>\n",
       "      <th>Provinsi</th>\n",
       "      <th>Kabupaten</th>\n",
       "      <th>Kecamatan</th>\n",
       "      <th>Desa</th>\n",
       "      <th>Status</th>\n",
       "      <th>Kategori</th>\n",
       "    </tr>\n",
       "  </thead>\n",
       "  <tbody>\n",
       "    <tr>\n",
       "      <th>0</th>\n",
       "      <td>BUM DESA MUTIARA JAYA KAMPUNG PAYA</td>\n",
       "      <td>ACEH</td>\n",
       "      <td>ACEH SELATAN</td>\n",
       "      <td>KLUET UTARA</td>\n",
       "      <td>KAMPUNG PAYA</td>\n",
       "      <td>Dokumen Badan Hukum Terverifikasi</td>\n",
       "      <td>BUM Desa</td>\n",
       "    </tr>\n",
       "    <tr>\n",
       "      <th>1</th>\n",
       "      <td>BUM DESA MADAT LAMKUTA PASI KUALA BA'U</td>\n",
       "      <td>ACEH</td>\n",
       "      <td>ACEH SELATAN</td>\n",
       "      <td>KLUET UTARA</td>\n",
       "      <td>PASI KUALA BA'U</td>\n",
       "      <td>Dokumen Badan Hukum Terverifikasi</td>\n",
       "      <td>BUM Desa</td>\n",
       "    </tr>\n",
       "    <tr>\n",
       "      <th>2</th>\n",
       "      <td>BUM DESA MAKMUE MEUTANI KAPEH</td>\n",
       "      <td>ACEH</td>\n",
       "      <td>ACEH SELATAN</td>\n",
       "      <td>KLUET SELATAN</td>\n",
       "      <td>KAPEH</td>\n",
       "      <td>Dokumen Badan Hukum Terverifikasi</td>\n",
       "      <td>BUM Desa</td>\n",
       "    </tr>\n",
       "    <tr>\n",
       "      <th>3</th>\n",
       "      <td>BUM DESA GASEH BEUSAJAN PULO IE</td>\n",
       "      <td>ACEH</td>\n",
       "      <td>ACEH SELATAN</td>\n",
       "      <td>KLUET SELATAN</td>\n",
       "      <td>PULO IE</td>\n",
       "      <td>Dokumen Badan Hukum Terverifikasi</td>\n",
       "      <td>BUM Desa</td>\n",
       "    </tr>\n",
       "    <tr>\n",
       "      <th>4</th>\n",
       "      <td>BUM DESA USAHA BARU GAMPONG PASI MEURAPAT</td>\n",
       "      <td>ACEH</td>\n",
       "      <td>ACEH SELATAN</td>\n",
       "      <td>KLUET SELATAN</td>\n",
       "      <td>PASI MEURAPAT</td>\n",
       "      <td>Dokumen Badan Hukum Terverifikasi</td>\n",
       "      <td>BUM Desa</td>\n",
       "    </tr>\n",
       "  </tbody>\n",
       "</table>\n",
       "</div>"
      ],
      "text/plain": [
       "                                 Nama_BUMDes Provinsi     Kabupaten  \\\n",
       "0         BUM DESA MUTIARA JAYA KAMPUNG PAYA     ACEH  ACEH SELATAN   \n",
       "1     BUM DESA MADAT LAMKUTA PASI KUALA BA'U     ACEH  ACEH SELATAN   \n",
       "2              BUM DESA MAKMUE MEUTANI KAPEH     ACEH  ACEH SELATAN   \n",
       "3            BUM DESA GASEH BEUSAJAN PULO IE     ACEH  ACEH SELATAN   \n",
       "4  BUM DESA USAHA BARU GAMPONG PASI MEURAPAT     ACEH  ACEH SELATAN   \n",
       "\n",
       "       Kecamatan             Desa                             Status  Kategori  \n",
       "0    KLUET UTARA     KAMPUNG PAYA  Dokumen Badan Hukum Terverifikasi  BUM Desa  \n",
       "1    KLUET UTARA  PASI KUALA BA'U  Dokumen Badan Hukum Terverifikasi  BUM Desa  \n",
       "2  KLUET SELATAN            KAPEH  Dokumen Badan Hukum Terverifikasi  BUM Desa  \n",
       "3  KLUET SELATAN          PULO IE  Dokumen Badan Hukum Terverifikasi  BUM Desa  \n",
       "4  KLUET SELATAN    PASI MEURAPAT  Dokumen Badan Hukum Terverifikasi  BUM Desa  "
      ]
     },
     "metadata": {},
     "output_type": "display_data"
    },
    {
     "name": "stdout",
     "output_type": "stream",
     "text": [
      "\n",
      "\n",
      "DataFrame: 17_bumdesa-kategori-usaha\n"
     ]
    },
    {
     "data": {
      "text/html": [
       "<div>\n",
       "<style scoped>\n",
       "    .dataframe tbody tr th:only-of-type {\n",
       "        vertical-align: middle;\n",
       "    }\n",
       "\n",
       "    .dataframe tbody tr th {\n",
       "        vertical-align: top;\n",
       "    }\n",
       "\n",
       "    .dataframe thead th {\n",
       "        text-align: right;\n",
       "    }\n",
       "</style>\n",
       "<table border=\"1\" class=\"dataframe\">\n",
       "  <thead>\n",
       "    <tr style=\"text-align: right;\">\n",
       "      <th></th>\n",
       "      <th>Provinsi</th>\n",
       "      <th>Kabupaten</th>\n",
       "      <th>Kecamatan</th>\n",
       "      <th>Desa</th>\n",
       "      <th>Nama_BUMDes</th>\n",
       "      <th>ket_kbli</th>\n",
       "      <th>Tipe_BUMDes</th>\n",
       "    </tr>\n",
       "  </thead>\n",
       "  <tbody>\n",
       "    <tr>\n",
       "      <th>0</th>\n",
       "      <td>ACEH</td>\n",
       "      <td>ACEH SELATAN</td>\n",
       "      <td>KLUET UTARA</td>\n",
       "      <td>KAMPUNG PAYA</td>\n",
       "      <td>BUM Desa MUTIARA JAYA KAMPUNG PAYA</td>\n",
       "      <td>PENAMPUNGAN DAN PENYALURAN AIR BAKU 244</td>\n",
       "      <td>BUM Desa</td>\n",
       "    </tr>\n",
       "    <tr>\n",
       "      <th>1</th>\n",
       "      <td>ACEH</td>\n",
       "      <td>ACEH SELATAN</td>\n",
       "      <td>KLUET UTARA</td>\n",
       "      <td>KAMPUNG PAYA</td>\n",
       "      <td>BUM Desa MUTIARA JAYA KAMPUNG PAYA</td>\n",
       "      <td>AKTIVITAS PENYEWAAN DAN SEWA GUNA USAHA TANPA ...</td>\n",
       "      <td>BUM Desa</td>\n",
       "    </tr>\n",
       "    <tr>\n",
       "      <th>2</th>\n",
       "      <td>ACEH</td>\n",
       "      <td>ACEH SELATAN</td>\n",
       "      <td>KLUET UTARA</td>\n",
       "      <td>PASI KUALA BA'U</td>\n",
       "      <td>BUM Desa MADAT LAMKUTA PASI KUALA BA'U</td>\n",
       "      <td>PERDAGANGAN ECERAN KOPI, GULA PASIR DAN GULA M...</td>\n",
       "      <td>BUM Desa</td>\n",
       "    </tr>\n",
       "    <tr>\n",
       "      <th>3</th>\n",
       "      <td>ACEH</td>\n",
       "      <td>ACEH SELATAN</td>\n",
       "      <td>KLUET UTARA</td>\n",
       "      <td>PASI KUALA BA'U</td>\n",
       "      <td>BUM Desa MADAT LAMKUTA PASI KUALA BA'U</td>\n",
       "      <td>UNIT SIMPAN PINJAM KOPERASI PRIMER (USP KOPERA...</td>\n",
       "      <td>BUM Desa</td>\n",
       "    </tr>\n",
       "    <tr>\n",
       "      <th>4</th>\n",
       "      <td>ACEH</td>\n",
       "      <td>ACEH SELATAN</td>\n",
       "      <td>KLUET SELATAN</td>\n",
       "      <td>KAPEH</td>\n",
       "      <td>BUM Desa Makmue Meutani KAPEH</td>\n",
       "      <td>INDUSTRI PENGGILINGAN PADI DAN PENYOSOHAN BERA...</td>\n",
       "      <td>BUM Desa</td>\n",
       "    </tr>\n",
       "  </tbody>\n",
       "</table>\n",
       "</div>"
      ],
      "text/plain": [
       "  Provinsi     Kabupaten      Kecamatan             Desa  \\\n",
       "0     ACEH  ACEH SELATAN    KLUET UTARA     KAMPUNG PAYA   \n",
       "1     ACEH  ACEH SELATAN    KLUET UTARA     KAMPUNG PAYA   \n",
       "2     ACEH  ACEH SELATAN    KLUET UTARA  PASI KUALA BA'U   \n",
       "3     ACEH  ACEH SELATAN    KLUET UTARA  PASI KUALA BA'U   \n",
       "4     ACEH  ACEH SELATAN  KLUET SELATAN            KAPEH   \n",
       "\n",
       "                              Nama_BUMDes  \\\n",
       "0      BUM Desa MUTIARA JAYA KAMPUNG PAYA   \n",
       "1      BUM Desa MUTIARA JAYA KAMPUNG PAYA   \n",
       "2  BUM Desa MADAT LAMKUTA PASI KUALA BA'U   \n",
       "3  BUM Desa MADAT LAMKUTA PASI KUALA BA'U   \n",
       "4           BUM Desa Makmue Meutani KAPEH   \n",
       "\n",
       "                                            ket_kbli Tipe_BUMDes  \n",
       "0            PENAMPUNGAN DAN PENYALURAN AIR BAKU 244    BUM Desa  \n",
       "1  AKTIVITAS PENYEWAAN DAN SEWA GUNA USAHA TANPA ...    BUM Desa  \n",
       "2  PERDAGANGAN ECERAN KOPI, GULA PASIR DAN GULA M...    BUM Desa  \n",
       "3  UNIT SIMPAN PINJAM KOPERASI PRIMER (USP KOPERA...    BUM Desa  \n",
       "4  INDUSTRI PENGGILINGAN PADI DAN PENYOSOHAN BERA...    BUM Desa  "
      ]
     },
     "metadata": {},
     "output_type": "display_data"
    },
    {
     "name": "stdout",
     "output_type": "stream",
     "text": [
      "\n",
      "\n",
      "DataFrame: 18_jumlah-tenaga-kerja-di-badan-usaha-milik-desa-bumdes\n"
     ]
    },
    {
     "data": {
      "text/html": [
       "<div>\n",
       "<style scoped>\n",
       "    .dataframe tbody tr th:only-of-type {\n",
       "        vertical-align: middle;\n",
       "    }\n",
       "\n",
       "    .dataframe tbody tr th {\n",
       "        vertical-align: top;\n",
       "    }\n",
       "\n",
       "    .dataframe thead th {\n",
       "        text-align: right;\n",
       "    }\n",
       "</style>\n",
       "<table border=\"1\" class=\"dataframe\">\n",
       "  <thead>\n",
       "    <tr style=\"text-align: right;\">\n",
       "      <th></th>\n",
       "      <th>Kode_Prov</th>\n",
       "      <th>PROVINSI</th>\n",
       "      <th>KABUPATEN</th>\n",
       "      <th>KECAMATAN</th>\n",
       "      <th>Kode_Desa</th>\n",
       "      <th>DESA</th>\n",
       "      <th>NAMA_BUMDESA</th>\n",
       "      <th>Tenaga_Kerja</th>\n",
       "    </tr>\n",
       "  </thead>\n",
       "  <tbody>\n",
       "    <tr>\n",
       "      <th>0</th>\n",
       "      <td>11.0</td>\n",
       "      <td>ACEH</td>\n",
       "      <td>ACEH SELATAN</td>\n",
       "      <td>KLUET UTARA</td>\n",
       "      <td>1.101022e+09</td>\n",
       "      <td>FAJAR HARAPAN</td>\n",
       "      <td>BUM DESA RIMBA UTAMA FAJAR HARAPAN</td>\n",
       "      <td>NaN</td>\n",
       "    </tr>\n",
       "    <tr>\n",
       "      <th>1</th>\n",
       "      <td>11.0</td>\n",
       "      <td>ACEH</td>\n",
       "      <td>ACEH SELATAN</td>\n",
       "      <td>KLUET UTARA</td>\n",
       "      <td>1.101022e+09</td>\n",
       "      <td>PASI KUALA ASAHAN</td>\n",
       "      <td>BUM DESA GIAT BERSAMA PASI KUALA ASAHAN</td>\n",
       "      <td>3.0</td>\n",
       "    </tr>\n",
       "    <tr>\n",
       "      <th>2</th>\n",
       "      <td>11.0</td>\n",
       "      <td>ACEH</td>\n",
       "      <td>ACEH SELATAN</td>\n",
       "      <td>KLUET UTARA</td>\n",
       "      <td>1.101022e+09</td>\n",
       "      <td>GUNUNG PULO</td>\n",
       "      <td>BUM DESA RAMPAK SERANGKAI GUNUNG PULO</td>\n",
       "      <td>3.0</td>\n",
       "    </tr>\n",
       "    <tr>\n",
       "      <th>3</th>\n",
       "      <td>11.0</td>\n",
       "      <td>ACEH</td>\n",
       "      <td>ACEH SELATAN</td>\n",
       "      <td>KLUET UTARA</td>\n",
       "      <td>1.101022e+09</td>\n",
       "      <td>PULO IE I</td>\n",
       "      <td>BUM DESA JASA TAHIRO PULO IE I</td>\n",
       "      <td>3.0</td>\n",
       "    </tr>\n",
       "    <tr>\n",
       "      <th>4</th>\n",
       "      <td>11.0</td>\n",
       "      <td>ACEH</td>\n",
       "      <td>ACEH SELATAN</td>\n",
       "      <td>KLUET UTARA</td>\n",
       "      <td>1.101022e+09</td>\n",
       "      <td>JAMBO MANYANG</td>\n",
       "      <td>BUM DESA JAMBO ASAHAN JAMBO MANYANG</td>\n",
       "      <td>3.0</td>\n",
       "    </tr>\n",
       "  </tbody>\n",
       "</table>\n",
       "</div>"
      ],
      "text/plain": [
       "   Kode_Prov PROVINSI     KABUPATEN    KECAMATAN     Kode_Desa  \\\n",
       "0       11.0     ACEH  ACEH SELATAN  KLUET UTARA  1.101022e+09   \n",
       "1       11.0     ACEH  ACEH SELATAN  KLUET UTARA  1.101022e+09   \n",
       "2       11.0     ACEH  ACEH SELATAN  KLUET UTARA  1.101022e+09   \n",
       "3       11.0     ACEH  ACEH SELATAN  KLUET UTARA  1.101022e+09   \n",
       "4       11.0     ACEH  ACEH SELATAN  KLUET UTARA  1.101022e+09   \n",
       "\n",
       "                DESA                             NAMA_BUMDESA  Tenaga_Kerja  \n",
       "0      FAJAR HARAPAN       BUM DESA RIMBA UTAMA FAJAR HARAPAN           NaN  \n",
       "1  PASI KUALA ASAHAN  BUM DESA GIAT BERSAMA PASI KUALA ASAHAN           3.0  \n",
       "2        GUNUNG PULO    BUM DESA RAMPAK SERANGKAI GUNUNG PULO           3.0  \n",
       "3          PULO IE I           BUM DESA JASA TAHIRO PULO IE I           3.0  \n",
       "4      JAMBO MANYANG      BUM DESA JAMBO ASAHAN JAMBO MANYANG           3.0  "
      ]
     },
     "metadata": {},
     "output_type": "display_data"
    },
    {
     "name": "stdout",
     "output_type": "stream",
     "text": [
      "\n",
      "\n",
      "DataFrame: 19_jumlah-bumdesa-dan-bumdesa-bersama-nasional\n"
     ]
    },
    {
     "data": {
      "text/html": [
       "<div>\n",
       "<style scoped>\n",
       "    .dataframe tbody tr th:only-of-type {\n",
       "        vertical-align: middle;\n",
       "    }\n",
       "\n",
       "    .dataframe tbody tr th {\n",
       "        vertical-align: top;\n",
       "    }\n",
       "\n",
       "    .dataframe thead th {\n",
       "        text-align: right;\n",
       "    }\n",
       "</style>\n",
       "<table border=\"1\" class=\"dataframe\">\n",
       "  <thead>\n",
       "    <tr style=\"text-align: right;\">\n",
       "      <th></th>\n",
       "      <th>Nama_BUMDes</th>\n",
       "      <th>Provinsi</th>\n",
       "      <th>Kabupaten</th>\n",
       "      <th>Kecamatan</th>\n",
       "      <th>Desa</th>\n",
       "      <th>Status</th>\n",
       "      <th>Kategori</th>\n",
       "    </tr>\n",
       "  </thead>\n",
       "  <tbody>\n",
       "    <tr>\n",
       "      <th>0</th>\n",
       "      <td>BUM DESA MUTIARA JAYA KAMPUNG PAYA</td>\n",
       "      <td>ACEH</td>\n",
       "      <td>ACEH SELATAN</td>\n",
       "      <td>KLUET UTARA</td>\n",
       "      <td>KAMPUNG PAYA</td>\n",
       "      <td>Dokumen Badan Hukum Terverifikasi</td>\n",
       "      <td>BUM Desa</td>\n",
       "    </tr>\n",
       "    <tr>\n",
       "      <th>1</th>\n",
       "      <td>BUM DESA MADAT LAMKUTA PASI KUALA BA'U</td>\n",
       "      <td>ACEH</td>\n",
       "      <td>ACEH SELATAN</td>\n",
       "      <td>KLUET UTARA</td>\n",
       "      <td>PASI KUALA BA'U</td>\n",
       "      <td>Dokumen Badan Hukum Terverifikasi</td>\n",
       "      <td>BUM Desa</td>\n",
       "    </tr>\n",
       "    <tr>\n",
       "      <th>2</th>\n",
       "      <td>BUM DESA MAKMUE MEUTANI KAPEH</td>\n",
       "      <td>ACEH</td>\n",
       "      <td>ACEH SELATAN</td>\n",
       "      <td>KLUET SELATAN</td>\n",
       "      <td>KAPEH</td>\n",
       "      <td>Dokumen Badan Hukum Terverifikasi</td>\n",
       "      <td>BUM Desa</td>\n",
       "    </tr>\n",
       "    <tr>\n",
       "      <th>3</th>\n",
       "      <td>BUM DESA GASEH BEUSAJAN PULO IE</td>\n",
       "      <td>ACEH</td>\n",
       "      <td>ACEH SELATAN</td>\n",
       "      <td>KLUET SELATAN</td>\n",
       "      <td>PULO IE</td>\n",
       "      <td>Dokumen Badan Hukum Terverifikasi</td>\n",
       "      <td>BUM Desa</td>\n",
       "    </tr>\n",
       "    <tr>\n",
       "      <th>4</th>\n",
       "      <td>BUM DESA USAHA BARU GAMPONG PASI MEURAPAT</td>\n",
       "      <td>ACEH</td>\n",
       "      <td>ACEH SELATAN</td>\n",
       "      <td>KLUET SELATAN</td>\n",
       "      <td>PASI MEURAPAT</td>\n",
       "      <td>Dokumen Badan Hukum Terverifikasi</td>\n",
       "      <td>BUM Desa</td>\n",
       "    </tr>\n",
       "  </tbody>\n",
       "</table>\n",
       "</div>"
      ],
      "text/plain": [
       "                                 Nama_BUMDes Provinsi     Kabupaten  \\\n",
       "0         BUM DESA MUTIARA JAYA KAMPUNG PAYA     ACEH  ACEH SELATAN   \n",
       "1     BUM DESA MADAT LAMKUTA PASI KUALA BA'U     ACEH  ACEH SELATAN   \n",
       "2              BUM DESA MAKMUE MEUTANI KAPEH     ACEH  ACEH SELATAN   \n",
       "3            BUM DESA GASEH BEUSAJAN PULO IE     ACEH  ACEH SELATAN   \n",
       "4  BUM DESA USAHA BARU GAMPONG PASI MEURAPAT     ACEH  ACEH SELATAN   \n",
       "\n",
       "       Kecamatan             Desa                             Status  Kategori  \n",
       "0    KLUET UTARA     KAMPUNG PAYA  Dokumen Badan Hukum Terverifikasi  BUM Desa  \n",
       "1    KLUET UTARA  PASI KUALA BA'U  Dokumen Badan Hukum Terverifikasi  BUM Desa  \n",
       "2  KLUET SELATAN            KAPEH  Dokumen Badan Hukum Terverifikasi  BUM Desa  \n",
       "3  KLUET SELATAN          PULO IE  Dokumen Badan Hukum Terverifikasi  BUM Desa  \n",
       "4  KLUET SELATAN    PASI MEURAPAT  Dokumen Badan Hukum Terverifikasi  BUM Desa  "
      ]
     },
     "metadata": {},
     "output_type": "display_data"
    },
    {
     "name": "stdout",
     "output_type": "stream",
     "text": [
      "\n",
      "\n",
      "DataFrame: 20_jumlah-desa-penerima-bantuan-pow\n"
     ]
    },
    {
     "data": {
      "text/html": [
       "<div>\n",
       "<style scoped>\n",
       "    .dataframe tbody tr th:only-of-type {\n",
       "        vertical-align: middle;\n",
       "    }\n",
       "\n",
       "    .dataframe tbody tr th {\n",
       "        vertical-align: top;\n",
       "    }\n",
       "\n",
       "    .dataframe thead th {\n",
       "        text-align: right;\n",
       "    }\n",
       "</style>\n",
       "<table border=\"1\" class=\"dataframe\">\n",
       "  <thead>\n",
       "    <tr style=\"text-align: right;\">\n",
       "      <th></th>\n",
       "      <th>KODE_PROVINSI</th>\n",
       "      <th>NAMA_PROVINSI</th>\n",
       "      <th>KODE_KAB</th>\n",
       "      <th>NAMA_KABUPATEN</th>\n",
       "      <th>JUMLAH_DESA</th>\n",
       "      <th>NOMINAL_BANTUAN</th>\n",
       "      <th>JENIS_BANTUAN</th>\n",
       "    </tr>\n",
       "  </thead>\n",
       "  <tbody>\n",
       "    <tr>\n",
       "      <th>0</th>\n",
       "      <td>11.0</td>\n",
       "      <td>ACEH</td>\n",
       "      <td>1106.0</td>\n",
       "      <td>ACEH BESAR</td>\n",
       "      <td>1.0</td>\n",
       "      <td>400,000,000</td>\n",
       "      <td>Pembangunan Homestay, dan Pembangunan sarana p...</td>\n",
       "    </tr>\n",
       "    <tr>\n",
       "      <th>1</th>\n",
       "      <td>11.0</td>\n",
       "      <td>ACEH</td>\n",
       "      <td>1104.0</td>\n",
       "      <td>ACEH TENGAH</td>\n",
       "      <td>1.0</td>\n",
       "      <td>400,000,000</td>\n",
       "      <td>Pembangunan Balai Kesenian dan Bangunan Penduk...</td>\n",
       "    </tr>\n",
       "    <tr>\n",
       "      <th>2</th>\n",
       "      <td>11.0</td>\n",
       "      <td>ACEH</td>\n",
       "      <td>1107.0</td>\n",
       "      <td>PIDIE</td>\n",
       "      <td>1.0</td>\n",
       "      <td>400,000,000</td>\n",
       "      <td>Pembangunan Toilet Umum, Pembangunan Gazebo, d...</td>\n",
       "    </tr>\n",
       "    <tr>\n",
       "      <th>3</th>\n",
       "      <td>11.0</td>\n",
       "      <td>ACEH</td>\n",
       "      <td>1111.0</td>\n",
       "      <td>BIREUEN</td>\n",
       "      <td>1.0</td>\n",
       "      <td>400,000,000</td>\n",
       "      <td>Pembangunan Gazebo dan Pembangunan Kios</td>\n",
       "    </tr>\n",
       "    <tr>\n",
       "      <th>4</th>\n",
       "      <td>36.0</td>\n",
       "      <td>BANTEN</td>\n",
       "      <td>3604.0</td>\n",
       "      <td>SERANG</td>\n",
       "      <td>1.0</td>\n",
       "      <td>400,000,000</td>\n",
       "      <td>Pembangunan Saung/Gazebo, Pembangunan Toilet Umum</td>\n",
       "    </tr>\n",
       "  </tbody>\n",
       "</table>\n",
       "</div>"
      ],
      "text/plain": [
       "   KODE_PROVINSI NAMA_PROVINSI  KODE_KAB NAMA_KABUPATEN  JUMLAH_DESA  \\\n",
       "0           11.0          ACEH    1106.0     ACEH BESAR          1.0   \n",
       "1           11.0          ACEH    1104.0    ACEH TENGAH          1.0   \n",
       "2           11.0          ACEH    1107.0          PIDIE          1.0   \n",
       "3           11.0          ACEH    1111.0        BIREUEN          1.0   \n",
       "4           36.0        BANTEN    3604.0         SERANG          1.0   \n",
       "\n",
       "  NOMINAL_BANTUAN                                      JENIS_BANTUAN  \n",
       "0    400,000,000   Pembangunan Homestay, dan Pembangunan sarana p...  \n",
       "1    400,000,000   Pembangunan Balai Kesenian dan Bangunan Penduk...  \n",
       "2    400,000,000   Pembangunan Toilet Umum, Pembangunan Gazebo, d...  \n",
       "3    400,000,000             Pembangunan Gazebo dan Pembangunan Kios  \n",
       "4    400,000,000   Pembangunan Saung/Gazebo, Pembangunan Toilet Umum  "
      ]
     },
     "metadata": {},
     "output_type": "display_data"
    },
    {
     "name": "stdout",
     "output_type": "stream",
     "text": [
      "\n",
      "\n",
      "DataFrame: 21_Jumlah Desa Manfaat SP\n"
     ]
    },
    {
     "data": {
      "text/html": [
       "<div>\n",
       "<style scoped>\n",
       "    .dataframe tbody tr th:only-of-type {\n",
       "        vertical-align: middle;\n",
       "    }\n",
       "\n",
       "    .dataframe tbody tr th {\n",
       "        vertical-align: top;\n",
       "    }\n",
       "\n",
       "    .dataframe thead th {\n",
       "        text-align: right;\n",
       "    }\n",
       "</style>\n",
       "<table border=\"1\" class=\"dataframe\">\n",
       "  <thead>\n",
       "    <tr style=\"text-align: right;\">\n",
       "      <th></th>\n",
       "      <th>ï»¿_id</th>\n",
       "      <th>Id_prov</th>\n",
       "      <th>Nama_prov</th>\n",
       "      <th>Bak/Tong Sampah</th>\n",
       "      <th>Balai Kemasyarakatan</th>\n",
       "      <th>Bangunan Air Bersih</th>\n",
       "      <th>Bangunan Irigasi</th>\n",
       "      <th>Bangunan Olahraga</th>\n",
       "      <th>Bangunan Polindes</th>\n",
       "      <th>Bangunan Posyandu</th>\n",
       "      <th>...</th>\n",
       "      <th>Sarpras Pendukung TK / PAUD</th>\n",
       "      <th>Sumur</th>\n",
       "      <th>Sumur Resapan / Biofori</th>\n",
       "      <th>Taman bermain / Ruang terbuka Hijau</th>\n",
       "      <th>Tambatan Perahu</th>\n",
       "      <th>Tembok Penahan Tanah</th>\n",
       "      <th>Tempat Pembuangan Sampah</th>\n",
       "      <th>Tempat Pengolahan Sampah</th>\n",
       "      <th>Tempat Penjemuran Tanaman Pangan</th>\n",
       "      <th>Grand Total</th>\n",
       "    </tr>\n",
       "  </thead>\n",
       "  <tbody>\n",
       "    <tr>\n",
       "      <th>0</th>\n",
       "      <td>1</td>\n",
       "      <td>11</td>\n",
       "      <td>ACEH</td>\n",
       "      <td>10.0</td>\n",
       "      <td>1177</td>\n",
       "      <td>376</td>\n",
       "      <td>93.0</td>\n",
       "      <td>244.0</td>\n",
       "      <td>68.0</td>\n",
       "      <td>179</td>\n",
       "      <td>...</td>\n",
       "      <td>202</td>\n",
       "      <td>128</td>\n",
       "      <td>11.0</td>\n",
       "      <td>31</td>\n",
       "      <td>20.0</td>\n",
       "      <td>495.0</td>\n",
       "      <td>7.0</td>\n",
       "      <td>2.0</td>\n",
       "      <td>12.0</td>\n",
       "      <td>22161</td>\n",
       "    </tr>\n",
       "    <tr>\n",
       "      <th>1</th>\n",
       "      <td>2</td>\n",
       "      <td>12</td>\n",
       "      <td>SUMATERA UTARA</td>\n",
       "      <td>25.0</td>\n",
       "      <td>263</td>\n",
       "      <td>462</td>\n",
       "      <td>54.0</td>\n",
       "      <td>47.0</td>\n",
       "      <td>22.0</td>\n",
       "      <td>47</td>\n",
       "      <td>...</td>\n",
       "      <td>100</td>\n",
       "      <td>193</td>\n",
       "      <td>5.0</td>\n",
       "      <td>22</td>\n",
       "      <td>14.0</td>\n",
       "      <td>430.0</td>\n",
       "      <td>6.0</td>\n",
       "      <td>11.0</td>\n",
       "      <td>4.0</td>\n",
       "      <td>15446</td>\n",
       "    </tr>\n",
       "    <tr>\n",
       "      <th>2</th>\n",
       "      <td>3</td>\n",
       "      <td>13</td>\n",
       "      <td>SUMATERA BARAT</td>\n",
       "      <td>9.0</td>\n",
       "      <td>45</td>\n",
       "      <td>48</td>\n",
       "      <td>35.0</td>\n",
       "      <td>28.0</td>\n",
       "      <td>50.0</td>\n",
       "      <td>65</td>\n",
       "      <td>...</td>\n",
       "      <td>107</td>\n",
       "      <td>7</td>\n",
       "      <td>1.0</td>\n",
       "      <td>10</td>\n",
       "      <td>2.0</td>\n",
       "      <td>43.0</td>\n",
       "      <td>4.0</td>\n",
       "      <td>4.0</td>\n",
       "      <td>4.0</td>\n",
       "      <td>4186</td>\n",
       "    </tr>\n",
       "    <tr>\n",
       "      <th>3</th>\n",
       "      <td>4</td>\n",
       "      <td>14</td>\n",
       "      <td>RIAU</td>\n",
       "      <td>2.0</td>\n",
       "      <td>79</td>\n",
       "      <td>177</td>\n",
       "      <td>7.0</td>\n",
       "      <td>95.0</td>\n",
       "      <td>25.0</td>\n",
       "      <td>199</td>\n",
       "      <td>...</td>\n",
       "      <td>135</td>\n",
       "      <td>185</td>\n",
       "      <td>2.0</td>\n",
       "      <td>37</td>\n",
       "      <td>39.0</td>\n",
       "      <td>126.0</td>\n",
       "      <td>1.0</td>\n",
       "      <td>1.0</td>\n",
       "      <td>1.0</td>\n",
       "      <td>6980</td>\n",
       "    </tr>\n",
       "    <tr>\n",
       "      <th>4</th>\n",
       "      <td>5</td>\n",
       "      <td>15</td>\n",
       "      <td>JAMBI</td>\n",
       "      <td>10.0</td>\n",
       "      <td>90</td>\n",
       "      <td>159</td>\n",
       "      <td>18.0</td>\n",
       "      <td>107.0</td>\n",
       "      <td>29.0</td>\n",
       "      <td>85</td>\n",
       "      <td>...</td>\n",
       "      <td>135</td>\n",
       "      <td>111</td>\n",
       "      <td>1.0</td>\n",
       "      <td>18</td>\n",
       "      <td>19.0</td>\n",
       "      <td>58.0</td>\n",
       "      <td>13.0</td>\n",
       "      <td>12.0</td>\n",
       "      <td>1.0</td>\n",
       "      <td>4729</td>\n",
       "    </tr>\n",
       "  </tbody>\n",
       "</table>\n",
       "<p>5 rows × 69 columns</p>\n",
       "</div>"
      ],
      "text/plain": [
       "   ï»¿_id Id_prov       Nama_prov  Bak/Tong Sampah  Balai Kemasyarakatan  \\\n",
       "0       1      11            ACEH             10.0                  1177   \n",
       "1       2      12  SUMATERA UTARA             25.0                   263   \n",
       "2       3      13  SUMATERA BARAT              9.0                    45   \n",
       "3       4      14            RIAU              2.0                    79   \n",
       "4       5      15           JAMBI             10.0                    90   \n",
       "\n",
       "   Bangunan Air Bersih  Bangunan Irigasi  Bangunan Olahraga  \\\n",
       "0                  376              93.0              244.0   \n",
       "1                  462              54.0               47.0   \n",
       "2                   48              35.0               28.0   \n",
       "3                  177               7.0               95.0   \n",
       "4                  159              18.0              107.0   \n",
       "\n",
       "   Bangunan Polindes  Bangunan Posyandu  ...  Sarpras Pendukung TK / PAUD  \\\n",
       "0               68.0                179  ...                          202   \n",
       "1               22.0                 47  ...                          100   \n",
       "2               50.0                 65  ...                          107   \n",
       "3               25.0                199  ...                          135   \n",
       "4               29.0                 85  ...                          135   \n",
       "\n",
       "   Sumur  Sumur Resapan / Biofori  Taman bermain / Ruang terbuka Hijau  \\\n",
       "0    128                     11.0                                   31   \n",
       "1    193                      5.0                                   22   \n",
       "2      7                      1.0                                   10   \n",
       "3    185                      2.0                                   37   \n",
       "4    111                      1.0                                   18   \n",
       "\n",
       "   Tambatan Perahu  Tembok Penahan Tanah  Tempat Pembuangan Sampah  \\\n",
       "0             20.0                 495.0                       7.0   \n",
       "1             14.0                 430.0                       6.0   \n",
       "2              2.0                  43.0                       4.0   \n",
       "3             39.0                 126.0                       1.0   \n",
       "4             19.0                  58.0                      13.0   \n",
       "\n",
       "   Tempat Pengolahan Sampah  Tempat Penjemuran Tanaman Pangan  Grand Total  \n",
       "0                       2.0                              12.0        22161  \n",
       "1                      11.0                               4.0        15446  \n",
       "2                       4.0                               4.0         4186  \n",
       "3                       1.0                               1.0         6980  \n",
       "4                      12.0                               1.0         4729  \n",
       "\n",
       "[5 rows x 69 columns]"
      ]
     },
     "metadata": {},
     "output_type": "display_data"
    },
    {
     "name": "stdout",
     "output_type": "stream",
     "text": [
      "\n",
      "\n",
      "DataFrame: 22_Jumlah Desa Status Kemajuan\n"
     ]
    },
    {
     "data": {
      "text/html": [
       "<div>\n",
       "<style scoped>\n",
       "    .dataframe tbody tr th:only-of-type {\n",
       "        vertical-align: middle;\n",
       "    }\n",
       "\n",
       "    .dataframe tbody tr th {\n",
       "        vertical-align: top;\n",
       "    }\n",
       "\n",
       "    .dataframe thead th {\n",
       "        text-align: right;\n",
       "    }\n",
       "</style>\n",
       "<table border=\"1\" class=\"dataframe\">\n",
       "  <thead>\n",
       "    <tr style=\"text-align: right;\">\n",
       "      <th></th>\n",
       "      <th>ï»¿_id</th>\n",
       "      <th>KODE PROVINSI</th>\n",
       "      <th>NAMA PROVINSI</th>\n",
       "      <th>KODE KAB</th>\n",
       "      <th>NAMA KABUPATEN</th>\n",
       "      <th>DESA\\nMANDIRI</th>\n",
       "      <th>DESA\\nMAJU</th>\n",
       "      <th>DESA\\nBERKEMBANG</th>\n",
       "      <th>DESA\\nTERTINGGAL</th>\n",
       "      <th>DESA SANGAT TERTINGGAL</th>\n",
       "      <th>TIDAK MEMENUHI KRITERIA (tidak melakukan pengukuran berdasarkan</th>\n",
       "      <th>TOTAL DESA</th>\n",
       "    </tr>\n",
       "  </thead>\n",
       "  <tbody>\n",
       "    <tr>\n",
       "      <th>0</th>\n",
       "      <td>1</td>\n",
       "      <td>11.0</td>\n",
       "      <td>ACEH</td>\n",
       "      <td>1105.0</td>\n",
       "      <td>ACEH BARAT</td>\n",
       "      <td>21.0</td>\n",
       "      <td>57.0</td>\n",
       "      <td>188.0</td>\n",
       "      <td>54.0</td>\n",
       "      <td>1.0</td>\n",
       "      <td>1</td>\n",
       "      <td>322.0</td>\n",
       "    </tr>\n",
       "    <tr>\n",
       "      <th>1</th>\n",
       "      <td>2</td>\n",
       "      <td>11.0</td>\n",
       "      <td>ACEH</td>\n",
       "      <td>1112.0</td>\n",
       "      <td>ACEH BARAT DAYA</td>\n",
       "      <td>7.0</td>\n",
       "      <td>30.0</td>\n",
       "      <td>112.0</td>\n",
       "      <td>3.0</td>\n",
       "      <td>0.0</td>\n",
       "      <td>0</td>\n",
       "      <td>152.0</td>\n",
       "    </tr>\n",
       "    <tr>\n",
       "      <th>2</th>\n",
       "      <td>3</td>\n",
       "      <td>11.0</td>\n",
       "      <td>ACEH</td>\n",
       "      <td>1106.0</td>\n",
       "      <td>ACEH BESAR</td>\n",
       "      <td>45.0</td>\n",
       "      <td>191.0</td>\n",
       "      <td>355.0</td>\n",
       "      <td>12.0</td>\n",
       "      <td>0.0</td>\n",
       "      <td>1</td>\n",
       "      <td>604.0</td>\n",
       "    </tr>\n",
       "    <tr>\n",
       "      <th>3</th>\n",
       "      <td>4</td>\n",
       "      <td>11.0</td>\n",
       "      <td>ACEH</td>\n",
       "      <td>1114.0</td>\n",
       "      <td>ACEH JAYA</td>\n",
       "      <td>12.0</td>\n",
       "      <td>28.0</td>\n",
       "      <td>115.0</td>\n",
       "      <td>15.0</td>\n",
       "      <td>2.0</td>\n",
       "      <td>0</td>\n",
       "      <td>172.0</td>\n",
       "    </tr>\n",
       "    <tr>\n",
       "      <th>4</th>\n",
       "      <td>5</td>\n",
       "      <td>11.0</td>\n",
       "      <td>ACEH</td>\n",
       "      <td>1101.0</td>\n",
       "      <td>ACEH SELATAN</td>\n",
       "      <td>13.0</td>\n",
       "      <td>37.0</td>\n",
       "      <td>159.0</td>\n",
       "      <td>49.0</td>\n",
       "      <td>2.0</td>\n",
       "      <td>0</td>\n",
       "      <td>260.0</td>\n",
       "    </tr>\n",
       "  </tbody>\n",
       "</table>\n",
       "</div>"
      ],
      "text/plain": [
       "   ï»¿_id  KODE PROVINSI NAMA PROVINSI  KODE KAB   NAMA KABUPATEN  \\\n",
       "0       1           11.0          ACEH    1105.0       ACEH BARAT   \n",
       "1       2           11.0          ACEH    1112.0  ACEH BARAT DAYA   \n",
       "2       3           11.0          ACEH    1106.0       ACEH BESAR   \n",
       "3       4           11.0          ACEH    1114.0        ACEH JAYA   \n",
       "4       5           11.0          ACEH    1101.0     ACEH SELATAN   \n",
       "\n",
       "   DESA\\nMANDIRI  DESA\\nMAJU  DESA\\nBERKEMBANG  DESA\\nTERTINGGAL  \\\n",
       "0           21.0        57.0             188.0              54.0   \n",
       "1            7.0        30.0             112.0               3.0   \n",
       "2           45.0       191.0             355.0              12.0   \n",
       "3           12.0        28.0             115.0              15.0   \n",
       "4           13.0        37.0             159.0              49.0   \n",
       "\n",
       "   DESA SANGAT TERTINGGAL  \\\n",
       "0                     1.0   \n",
       "1                     0.0   \n",
       "2                     0.0   \n",
       "3                     2.0   \n",
       "4                     2.0   \n",
       "\n",
       "   TIDAK MEMENUHI KRITERIA (tidak melakukan pengukuran berdasarkan  TOTAL DESA  \n",
       "0                                                  1                     322.0  \n",
       "1                                                  0                     152.0  \n",
       "2                                                  1                     604.0  \n",
       "3                                                  0                     172.0  \n",
       "4                                                  0                     260.0  "
      ]
     },
     "metadata": {},
     "output_type": "display_data"
    },
    {
     "name": "stdout",
     "output_type": "stream",
     "text": [
      "\n",
      "\n"
     ]
    }
   ],
   "source": [
    "# Melihat data yang telah dibuka\n",
    "for name, df in dataframes.items():\n",
    "    print(f\"DataFrame: {name}\")\n",
    "    display(df.head())\n",
    "    print(\"\\n\")"
   ]
  },
  {
   "cell_type": "markdown",
   "id": "ddb8ac3b",
   "metadata": {},
   "source": [
    "Mayoritas kolom data dari BPS belum terbaca dengan baik sehingga diperbaiki terlebih dahulu berdasarkan sumber data"
   ]
  },
  {
   "cell_type": "markdown",
   "id": "e6845e54",
   "metadata": {},
   "source": [
    "## 2. Analisis Data (EDA)"
   ]
  },
  {
   "cell_type": "markdown",
   "id": "ebede7fa",
   "metadata": {},
   "source": [
    "### Data Cleaning"
   ]
  },
  {
   "cell_type": "code",
   "execution_count": 5,
   "id": "4a4842af",
   "metadata": {},
   "outputs": [],
   "source": [
    "# Mapping untuk mengubah nama kolom\n",
    "peta_kolom = {\n",
    "    '01_Jumlah Desa Mandiri Menurut Provinsi, 2019': {\n",
    "        'ï»¿38 Provinsi': 'Provinsi',\n",
    "        'Unnamed: 1': 'Jumlah Desa Mandiri Menurut Provinsi (Desa)_2019'\n",
    "    },\n",
    "    '01_Jumlah Desa Mandiri Menurut Provinsi, 2020': {\n",
    "        'ï»¿38 Provinsi': 'Provinsi',\n",
    "        'Unnamed: 1': 'Jumlah Desa Mandiri Menurut Provinsi (Desa)_2020'\n",
    "    },\n",
    "    '01_Jumlah Desa Mandiri Menurut Provinsi, 2021': {\n",
    "        'ï»¿38 Provinsi': 'Provinsi',\n",
    "        'Unnamed: 1': 'Jumlah Desa Mandiri Menurut Provinsi (Desa)_2021'\n",
    "    },\n",
    "    '02_Jumlah Desa Tertinggal menurut Provinsi, 2019': {\n",
    "        'ï»¿38 Provinsi': 'Provinsi',\n",
    "        'Unnamed: 1': 'Desa Sangat Tertinggal_2019',\n",
    "        'Unnamed: 2': 'Desa Tertinggal_2019',\n",
    "        'Unnamed: 3': 'Jumlah_2019'\n",
    "    },\n",
    "    '02_Jumlah Desa Tertinggal menurut Provinsi, 2020': {\n",
    "        'ï»¿38 Provinsi': 'Provinsi',\n",
    "        'Unnamed: 1': 'Desa Sangat Tertinggal_2020',\n",
    "        'Unnamed: 2': 'Desa Tertinggal_2020',\n",
    "        'Unnamed: 3': 'Jumlah_2020'\n",
    "    },\n",
    "    '02_Jumlah Desa Tertinggal menurut Provinsi, 2021': {\n",
    "        'ï»¿38 Provinsi': 'Provinsi',\n",
    "        'Unnamed: 1': 'Desa Sangat Tertinggal_2021',\n",
    "        'Unnamed: 2': 'Desa Tertinggal_2021',\n",
    "        'Unnamed: 3': 'Jumlah_2021'\n",
    "    },\n",
    "    '03_Jumlah Desa Menurut Provinsi dan Letak Geografi, 2024': {\n",
    "        'ï»¿38 Provinsi': 'Provinsi',\n",
    "        'Unnamed: 1': 'Tepi Laut_2024',\n",
    "        'Unnamed: 2': 'Bukan Tepi Laut_2024'\n",
    "    },\n",
    "    '04_Jumlah Desa yang Memiliki Fasilitas Sekolah Menurut Provinsi dan Tingkat Pendidikan, 2024': {\n",
    "        'ï»¿38 Provinsi': 'Provinsi',\n",
    "        'Unnamed: 1': 'SD_2024',\n",
    "        'Unnamed: 2': 'SMP_2024',\n",
    "        'Unnamed: 3': 'SMU_2024',\n",
    "        'Unnamed: 4': 'SMK_2024',\n",
    "        'Unnamed: 5': 'Perguruan Tinggi_2024'\n",
    "    },\n",
    "    '05_Jumlah Desa_Kelurahan Yang Memiliki Sarana Kesehatan Menurut Provinsi, 2018': {\n",
    "        'ï»¿38 Provinsi': 'Provinsi',\n",
    "        'Unnamed: 1': 'Rumah Sakit_2018',\n",
    "        'Unnamed: 2': 'Rumah Sakit Bersalin_2018',\n",
    "        'Unnamed: 3': 'Poliklinik_2018',\n",
    "        'Unnamed: 4': 'Puskesmas_2018',\n",
    "        'Unnamed: 5': 'Puskesmas Pembantu_2018',\n",
    "        'Unnamed: 6': 'Apotek_2018'\n",
    "    },\n",
    "    '06_Banyaknya Desa_Kelurahan yang Memiliki Fasilitas Internet di Kantor Desa_Lurah menurut Provinsi dan Klasifikasi Daerah, 2021': {\n",
    "        'ï»¿38 Provinsi': 'Provinsi',\n",
    "        'Unnamed: 1': 'Perkotaan_2021',\n",
    "        'Unnamed: 2': 'Pedesaan_2021',\n",
    "        'Unnamed: 3': 'Perkotaan+Perdesaan_2021'\n",
    "    },\n",
    "    '07_Banyaknya Desa_Kelurahan yang Memiliki Menara Base Transceiver Station (BTS) menurut Provinsi dan Klasifikasi Daerah, 2021': {\n",
    "        'ï»¿38 Provinsi': 'Provinsi',\n",
    "        'Unnamed: 1': 'Perkotaan_2021',\n",
    "        'Unnamed: 2': 'Pedesaan_2021',\n",
    "        'Unnamed: 3': 'Perkotaan+Perdesaan_2021'\n",
    "    },\n",
    "    '08_Banyaknya Desa_Kelurahan yang Memiliki Menara BTS Menurut Provinsi dan Penerimaan Sinyal Telepon Selular (Perdesaan), 2021': {\n",
    "        'ï»¿38 Provinsi': 'Provinsi',\n",
    "        'Unnamed: 1': 'Ada Sinyal Kuat_2021',\n",
    "        'Unnamed: 2': 'Ada Sinyal Lemah_2021',\n",
    "        'Unnamed: 3': 'Tidak Ada Sinyal_2021'\n",
    "    },\n",
    "    '09_Banyaknya Desa_Kelurahan yang Menerima Sinyal Telepon Selular Menurut Provinsi (Sinyal Kuat), 2021': {\n",
    "        'ï»¿38 Provinsi': 'Provinsi',\n",
    "        'Unnamed: 1': 'Perkotaan_2021',\n",
    "        'Unnamed: 2': 'Pedesaan_2021',\n",
    "        'Unnamed: 3': 'Perkotaan+Perdesaan_2021'\n",
    "    },\n",
    "    '10_Banyaknya Desa_Kelurahan yang Menerima Sinyal Telepon Selular Menurut Provinsi (Sinyal Lemah), 2021': {\n",
    "        'ï»¿38 Provinsi': 'Provinsi',\n",
    "        'Unnamed: 1': 'Perkotaan_2021',\n",
    "        'Unnamed: 2': 'Pedesaan_2021',\n",
    "        'Unnamed: 3': 'Perkotaan+Perdesaan_2021'\n",
    "    },\n",
    "    '11_Banyaknya Desa_Kelurahan yang Tidak Memiliki Menara BTS Menurut Provinsi dan Penerimaan Sinyal Telepon Selular (Perdesaan), 2021': {\n",
    "        'ï»¿38 Provinsi': 'Provinsi',\n",
    "        'Unnamed: 1': 'Ada Sinyal Kuat_2021',\n",
    "        'Unnamed: 2': 'Ada Sinyal Lemah_2021',\n",
    "        'Unnamed: 3': 'Tidak Ada Sinyal_2021'\n",
    "    },\n",
    "    '12_Jumlah Desa_Kelurahan Menurut Provinsi, 2024': {\n",
    "        'ï»¿Provinsi': 'Provinsi',\n",
    "        'Jumlah Desa': 'Jumlah Desa_2024'\n",
    "    },\n",
    "    '13_jumlah-pendamping-desa-yang-diberdayakan': {\n",
    "        '\\nTAPM_Kabupaten_Kota': 'TAPM_Kabupaten_Kota',\n",
    "        '\\nPD': 'PD',\n",
    "        '\\n PLD': 'PLD'\n",
    "    },\n",
    "    '21_Jumlah Desa Manfaat SP': {\n",
    "        'ï»¿_id': 'id',\n",
    "    },\n",
    "    '22_Jumlah Desa Status Kemajuan': {\n",
    "        'ï»¿_id': 'id',\n",
    "        'DESA\\nMANDIRI': 'DESA MANDIRI',\n",
    "        'DESA\\nMAJU': 'DESA MAJU',\n",
    "        'DESA\\nBERKEMBANG': 'DESA BERKEMBANG',\n",
    "        'DESA\\nTERTINGGAL': 'DESA TERTINGGAL'\n",
    "    }\n",
    "}"
   ]
  },
  {
   "cell_type": "code",
   "execution_count": 6,
   "id": "5ff89b0c",
   "metadata": {},
   "outputs": [
    {
     "name": "stdout",
     "output_type": "stream",
     "text": [
      "Kolom untuk DataFrame '01_Jumlah Desa Mandiri Menurut Provinsi, 2019' berhasil diubah.\n",
      "Kolom untuk DataFrame '01_Jumlah Desa Mandiri Menurut Provinsi, 2020' berhasil diubah.\n",
      "Kolom untuk DataFrame '01_Jumlah Desa Mandiri Menurut Provinsi, 2021' berhasil diubah.\n",
      "Kolom untuk DataFrame '02_Jumlah Desa Tertinggal menurut Provinsi, 2019' berhasil diubah.\n",
      "Kolom untuk DataFrame '02_Jumlah Desa Tertinggal menurut Provinsi, 2020' berhasil diubah.\n",
      "Kolom untuk DataFrame '02_Jumlah Desa Tertinggal menurut Provinsi, 2021' berhasil diubah.\n",
      "Kolom untuk DataFrame '03_Jumlah Desa Menurut Provinsi dan Letak Geografi, 2024' berhasil diubah.\n",
      "Kolom untuk DataFrame '04_Jumlah Desa yang Memiliki Fasilitas Sekolah Menurut Provinsi dan Tingkat Pendidikan, 2024' berhasil diubah.\n",
      "Kolom untuk DataFrame '05_Jumlah Desa_Kelurahan Yang Memiliki Sarana Kesehatan Menurut Provinsi, 2018' berhasil diubah.\n",
      "Kolom untuk DataFrame '06_Banyaknya Desa_Kelurahan yang Memiliki Fasilitas Internet di Kantor Desa_Lurah menurut Provinsi dan Klasifikasi Daerah, 2021' berhasil diubah.\n",
      "Kolom untuk DataFrame '07_Banyaknya Desa_Kelurahan yang Memiliki Menara Base Transceiver Station (BTS) menurut Provinsi dan Klasifikasi Daerah, 2021' berhasil diubah.\n",
      "Kolom untuk DataFrame '08_Banyaknya Desa_Kelurahan yang Memiliki Menara BTS Menurut Provinsi dan Penerimaan Sinyal Telepon Selular (Perdesaan), 2021' berhasil diubah.\n",
      "Kolom untuk DataFrame '09_Banyaknya Desa_Kelurahan yang Menerima Sinyal Telepon Selular Menurut Provinsi (Sinyal Kuat), 2021' berhasil diubah.\n",
      "Kolom untuk DataFrame '10_Banyaknya Desa_Kelurahan yang Menerima Sinyal Telepon Selular Menurut Provinsi (Sinyal Lemah), 2021' berhasil diubah.\n",
      "Kolom untuk DataFrame '11_Banyaknya Desa_Kelurahan yang Tidak Memiliki Menara BTS Menurut Provinsi dan Penerimaan Sinyal Telepon Selular (Perdesaan), 2021' berhasil diubah.\n",
      "Kolom untuk DataFrame '12_Jumlah Desa_Kelurahan Menurut Provinsi, 2024' berhasil diubah.\n",
      "Kolom untuk DataFrame '13_jumlah-pendamping-desa-yang-diberdayakan' berhasil diubah.\n",
      "Kolom untuk DataFrame '21_Jumlah Desa Manfaat SP' berhasil diubah.\n",
      "Kolom untuk DataFrame '22_Jumlah Desa Status Kemajuan' berhasil diubah.\n"
     ]
    }
   ],
   "source": [
    "# Penggantian nama kolom untuk setiap dataframe\n",
    "for nama, df in dataframes.items():\n",
    "    if nama in peta_kolom:\n",
    "        df.rename(columns=peta_kolom[nama], inplace=True)\n",
    "        print(f\"Kolom untuk DataFrame '{nama}' berhasil diubah.\")"
   ]
  },
  {
   "cell_type": "markdown",
   "id": "ae467147",
   "metadata": {},
   "source": [
    "#### Cek Missing Value"
   ]
  },
  {
   "cell_type": "code",
   "execution_count": 7,
   "id": "508ec226",
   "metadata": {},
   "outputs": [
    {
     "name": "stdout",
     "output_type": "stream",
     "text": [
      "Jumlah missing value untuk df 01_Jumlah Desa Mandiri Menurut Provinsi, 2019:\n"
     ]
    },
    {
     "data": {
      "text/plain": [
       "Provinsi                                            2\n",
       "Jumlah Desa Mandiri Menurut Provinsi (Desa)_2019    0\n",
       "dtype: int64"
      ]
     },
     "metadata": {},
     "output_type": "display_data"
    },
    {
     "name": "stdout",
     "output_type": "stream",
     "text": [
      "Jumlah missing value untuk df 01_Jumlah Desa Mandiri Menurut Provinsi, 2020:\n"
     ]
    },
    {
     "data": {
      "text/plain": [
       "Provinsi                                            2\n",
       "Jumlah Desa Mandiri Menurut Provinsi (Desa)_2020    0\n",
       "dtype: int64"
      ]
     },
     "metadata": {},
     "output_type": "display_data"
    },
    {
     "name": "stdout",
     "output_type": "stream",
     "text": [
      "Jumlah missing value untuk df 01_Jumlah Desa Mandiri Menurut Provinsi, 2021:\n"
     ]
    },
    {
     "data": {
      "text/plain": [
       "Provinsi                                            2\n",
       "Jumlah Desa Mandiri Menurut Provinsi (Desa)_2021    0\n",
       "dtype: int64"
      ]
     },
     "metadata": {},
     "output_type": "display_data"
    },
    {
     "name": "stdout",
     "output_type": "stream",
     "text": [
      "Jumlah missing value untuk df 02_Jumlah Desa Tertinggal menurut Provinsi, 2019:\n"
     ]
    },
    {
     "data": {
      "text/plain": [
       "Provinsi                       3\n",
       "Desa Sangat Tertinggal_2019    0\n",
       "Desa Tertinggal_2019           1\n",
       "Jumlah_2019                    1\n",
       "dtype: int64"
      ]
     },
     "metadata": {},
     "output_type": "display_data"
    },
    {
     "name": "stdout",
     "output_type": "stream",
     "text": [
      "Jumlah missing value untuk df 02_Jumlah Desa Tertinggal menurut Provinsi, 2020:\n"
     ]
    },
    {
     "data": {
      "text/plain": [
       "Provinsi                       3\n",
       "Desa Sangat Tertinggal_2020    0\n",
       "Desa Tertinggal_2020           1\n",
       "Jumlah_2020                    1\n",
       "dtype: int64"
      ]
     },
     "metadata": {},
     "output_type": "display_data"
    },
    {
     "name": "stdout",
     "output_type": "stream",
     "text": [
      "Jumlah missing value untuk df 02_Jumlah Desa Tertinggal menurut Provinsi, 2021:\n"
     ]
    },
    {
     "data": {
      "text/plain": [
       "Provinsi                       3\n",
       "Desa Sangat Tertinggal_2021    0\n",
       "Desa Tertinggal_2021           1\n",
       "Jumlah_2021                    1\n",
       "dtype: int64"
      ]
     },
     "metadata": {},
     "output_type": "display_data"
    },
    {
     "name": "stdout",
     "output_type": "stream",
     "text": [
      "Jumlah missing value untuk df 03_Jumlah Desa Menurut Provinsi dan Letak Geografi, 2024:\n"
     ]
    },
    {
     "data": {
      "text/plain": [
       "Provinsi                3\n",
       "Tepi Laut_2024          0\n",
       "Bukan Tepi Laut_2024    1\n",
       "dtype: int64"
      ]
     },
     "metadata": {},
     "output_type": "display_data"
    },
    {
     "name": "stdout",
     "output_type": "stream",
     "text": [
      "Jumlah missing value untuk df 04_Jumlah Desa yang Memiliki Fasilitas Sekolah Menurut Provinsi dan Tingkat Pendidikan, 2024:\n"
     ]
    },
    {
     "data": {
      "text/plain": [
       "Provinsi                 3\n",
       "SD_2024                  0\n",
       "SMP_2024                 1\n",
       "SMU_2024                 1\n",
       "SMK_2024                 1\n",
       "Perguruan Tinggi_2024    1\n",
       "dtype: int64"
      ]
     },
     "metadata": {},
     "output_type": "display_data"
    },
    {
     "name": "stdout",
     "output_type": "stream",
     "text": [
      "Jumlah missing value untuk df 05_Jumlah Desa_Kelurahan Yang Memiliki Sarana Kesehatan Menurut Provinsi, 2018:\n"
     ]
    },
    {
     "data": {
      "text/plain": [
       "Provinsi                     3\n",
       "Rumah Sakit_2018             0\n",
       "Rumah Sakit Bersalin_2018    1\n",
       "Poliklinik_2018              1\n",
       "Puskesmas_2018               1\n",
       "Puskesmas Pembantu_2018      1\n",
       "Apotek_2018                  1\n",
       "dtype: int64"
      ]
     },
     "metadata": {},
     "output_type": "display_data"
    },
    {
     "name": "stdout",
     "output_type": "stream",
     "text": [
      "Jumlah missing value untuk df 06_Banyaknya Desa_Kelurahan yang Memiliki Fasilitas Internet di Kantor Desa_Lurah menurut Provinsi dan Klasifikasi Daerah, 2021:\n"
     ]
    },
    {
     "data": {
      "text/plain": [
       "Provinsi                    3\n",
       "Perkotaan_2021              0\n",
       "Pedesaan_2021               1\n",
       "Perkotaan+Perdesaan_2021    1\n",
       "dtype: int64"
      ]
     },
     "metadata": {},
     "output_type": "display_data"
    },
    {
     "name": "stdout",
     "output_type": "stream",
     "text": [
      "Jumlah missing value untuk df 07_Banyaknya Desa_Kelurahan yang Memiliki Menara Base Transceiver Station (BTS) menurut Provinsi dan Klasifikasi Daerah, 2021:\n"
     ]
    },
    {
     "data": {
      "text/plain": [
       "Provinsi                    3\n",
       "Perkotaan_2021              0\n",
       "Pedesaan_2021               1\n",
       "Perkotaan+Perdesaan_2021    1\n",
       "dtype: int64"
      ]
     },
     "metadata": {},
     "output_type": "display_data"
    },
    {
     "name": "stdout",
     "output_type": "stream",
     "text": [
      "Jumlah missing value untuk df 08_Banyaknya Desa_Kelurahan yang Memiliki Menara BTS Menurut Provinsi dan Penerimaan Sinyal Telepon Selular (Perdesaan), 2021:\n"
     ]
    },
    {
     "data": {
      "text/plain": [
       "Provinsi                 3\n",
       "Ada Sinyal Kuat_2021     0\n",
       "Ada Sinyal Lemah_2021    1\n",
       "Tidak Ada Sinyal_2021    1\n",
       "dtype: int64"
      ]
     },
     "metadata": {},
     "output_type": "display_data"
    },
    {
     "name": "stdout",
     "output_type": "stream",
     "text": [
      "Jumlah missing value untuk df 09_Banyaknya Desa_Kelurahan yang Menerima Sinyal Telepon Selular Menurut Provinsi (Sinyal Kuat), 2021:\n"
     ]
    },
    {
     "data": {
      "text/plain": [
       "Provinsi                    3\n",
       "Perkotaan_2021              0\n",
       "Pedesaan_2021               1\n",
       "Perkotaan+Perdesaan_2021    1\n",
       "dtype: int64"
      ]
     },
     "metadata": {},
     "output_type": "display_data"
    },
    {
     "name": "stdout",
     "output_type": "stream",
     "text": [
      "Jumlah missing value untuk df 10_Banyaknya Desa_Kelurahan yang Menerima Sinyal Telepon Selular Menurut Provinsi (Sinyal Lemah), 2021:\n"
     ]
    },
    {
     "data": {
      "text/plain": [
       "Provinsi                    3\n",
       "Perkotaan_2021              0\n",
       "Pedesaan_2021               1\n",
       "Perkotaan+Perdesaan_2021    1\n",
       "dtype: int64"
      ]
     },
     "metadata": {},
     "output_type": "display_data"
    },
    {
     "name": "stdout",
     "output_type": "stream",
     "text": [
      "Jumlah missing value untuk df 11_Banyaknya Desa_Kelurahan yang Tidak Memiliki Menara BTS Menurut Provinsi dan Penerimaan Sinyal Telepon Selular (Perdesaan), 2021:\n"
     ]
    },
    {
     "data": {
      "text/plain": [
       "Provinsi                 3\n",
       "Ada Sinyal Kuat_2021     0\n",
       "Ada Sinyal Lemah_2021    1\n",
       "Tidak Ada Sinyal_2021    1\n",
       "dtype: int64"
      ]
     },
     "metadata": {},
     "output_type": "display_data"
    },
    {
     "name": "stdout",
     "output_type": "stream",
     "text": [
      "Jumlah missing value untuk df 12_Jumlah Desa_Kelurahan Menurut Provinsi, 2024:\n"
     ]
    },
    {
     "data": {
      "text/plain": [
       "Provinsi            1\n",
       "Jumlah Desa_2024    3\n",
       "dtype: int64"
      ]
     },
     "metadata": {},
     "output_type": "display_data"
    },
    {
     "name": "stdout",
     "output_type": "stream",
     "text": [
      "Jumlah missing value untuk df 13_jumlah-pendamping-desa-yang-diberdayakan:\n"
     ]
    },
    {
     "data": {
      "text/plain": [
       "No                      0\n",
       "Provinsi                1\n",
       "Waktu                   1\n",
       " TAPM_Pusat            37\n",
       " TAPM_Provinsi          1\n",
       "TAPM_Kabupaten_Kota     1\n",
       "PD                      1\n",
       "PLD                     1\n",
       "Total                   0\n",
       "dtype: int64"
      ]
     },
     "metadata": {},
     "output_type": "display_data"
    },
    {
     "name": "stdout",
     "output_type": "stream",
     "text": [
      "Jumlah missing value untuk df 14_data-jumlah-masyarakat-desa-yang-diberikan-pelatihan-tahun-2024:\n"
     ]
    },
    {
     "data": {
      "text/plain": [
       "NO                    0\n",
       "NAMA_BALAI            0\n",
       "JENIS_PELATIHAN       0\n",
       "WAKTU_PELAKSANAAN     0\n",
       "ID_PROVINSI           0\n",
       "PROVINSI              0\n",
       "ID_KABUPATEN          2\n",
       "KABUPATEN             0\n",
       "ID_KECAMATAN         17\n",
       "KECAMATAN             0\n",
       "ID_DESA              94\n",
       "DESA                  0\n",
       " JUMLAH               0\n",
       "dtype: int64"
      ]
     },
     "metadata": {},
     "output_type": "display_data"
    },
    {
     "name": "stdout",
     "output_type": "stream",
     "text": [
      "Jumlah missing value untuk df 15_jumlah-jenis-usaha-dan-status-badan-hukum-bumdesa-bumdesa-bersama:\n"
     ]
    },
    {
     "data": {
      "text/plain": [
       "Provinsi       0\n",
       "Kabupaten      0\n",
       "Kecamatan      0\n",
       "Desa           0\n",
       "Nama_BUMDes    0\n",
       "ket_kbli       0\n",
       "status         0\n",
       "Tipe_BUMDes    0\n",
       "dtype: int64"
      ]
     },
     "metadata": {},
     "output_type": "display_data"
    },
    {
     "name": "stdout",
     "output_type": "stream",
     "text": [
      "Jumlah missing value untuk df 16_jumlah-bumdesa-dan-bumdesa-bersama-yang-berbadan-hukum:\n"
     ]
    },
    {
     "data": {
      "text/plain": [
       "Nama_BUMDes    0\n",
       "Provinsi       0\n",
       "Kabupaten      0\n",
       "Kecamatan      1\n",
       "Desa           0\n",
       "Status         0\n",
       "Kategori       0\n",
       "dtype: int64"
      ]
     },
     "metadata": {},
     "output_type": "display_data"
    },
    {
     "name": "stdout",
     "output_type": "stream",
     "text": [
      "Jumlah missing value untuk df 17_bumdesa-kategori-usaha:\n"
     ]
    },
    {
     "data": {
      "text/plain": [
       "Provinsi       0\n",
       "Kabupaten      0\n",
       "Kecamatan      0\n",
       "Desa           0\n",
       "Nama_BUMDes    0\n",
       "ket_kbli       0\n",
       "Tipe_BUMDes    0\n",
       "dtype: int64"
      ]
     },
     "metadata": {},
     "output_type": "display_data"
    },
    {
     "name": "stdout",
     "output_type": "stream",
     "text": [
      "Jumlah missing value untuk df 18_jumlah-tenaga-kerja-di-badan-usaha-milik-desa-bumdes:\n"
     ]
    },
    {
     "data": {
      "text/plain": [
       "Kode_Prov          2\n",
       "PROVINSI           2\n",
       "KABUPATEN          2\n",
       "KECAMATAN          2\n",
       "Kode_Desa          2\n",
       "DESA               2\n",
       "NAMA_BUMDESA       2\n",
       "Tenaga_Kerja    6959\n",
       "dtype: int64"
      ]
     },
     "metadata": {},
     "output_type": "display_data"
    },
    {
     "name": "stdout",
     "output_type": "stream",
     "text": [
      "Jumlah missing value untuk df 19_jumlah-bumdesa-dan-bumdesa-bersama-nasional:\n"
     ]
    },
    {
     "data": {
      "text/plain": [
       "Nama_BUMDes    0\n",
       "Provinsi       0\n",
       "Kabupaten      0\n",
       "Kecamatan      1\n",
       "Desa           0\n",
       "Status         0\n",
       "Kategori       0\n",
       "dtype: int64"
      ]
     },
     "metadata": {},
     "output_type": "display_data"
    },
    {
     "name": "stdout",
     "output_type": "stream",
     "text": [
      "Jumlah missing value untuk df 20_jumlah-desa-penerima-bantuan-pow:\n"
     ]
    },
    {
     "data": {
      "text/plain": [
       "KODE_PROVINSI      1\n",
       "NAMA_PROVINSI      1\n",
       "KODE_KAB           1\n",
       "NAMA_KABUPATEN     1\n",
       "JUMLAH_DESA        1\n",
       "NOMINAL_BANTUAN    1\n",
       "JENIS_BANTUAN      2\n",
       "dtype: int64"
      ]
     },
     "metadata": {},
     "output_type": "display_data"
    },
    {
     "name": "stdout",
     "output_type": "stream",
     "text": [
      "Jumlah missing value untuk df 21_Jumlah Desa Manfaat SP:\n"
     ]
    },
    {
     "data": {
      "text/plain": [
       "id                                  0\n",
       "Id_prov                             0\n",
       "Nama_prov                           1\n",
       "Bak/Tong Sampah                     4\n",
       "Balai Kemasyarakatan                0\n",
       "                                   ..\n",
       "Tembok Penahan Tanah                1\n",
       "Tempat Pembuangan Sampah            4\n",
       "Tempat Pengolahan Sampah            7\n",
       "Tempat Penjemuran Tanaman Pangan    6\n",
       "Grand Total                         0\n",
       "Length: 69, dtype: int64"
      ]
     },
     "metadata": {},
     "output_type": "display_data"
    },
    {
     "name": "stdout",
     "output_type": "stream",
     "text": [
      "Jumlah missing value untuk df 22_Jumlah Desa Status Kemajuan:\n"
     ]
    },
    {
     "data": {
      "text/plain": [
       "id                                                                 0\n",
       "KODE PROVINSI                                                      1\n",
       "NAMA PROVINSI                                                      0\n",
       "KODE KAB                                                           1\n",
       "NAMA KABUPATEN                                                     1\n",
       "DESA MANDIRI                                                       0\n",
       "DESA MAJU                                                          0\n",
       "DESA BERKEMBANG                                                    0\n",
       "DESA TERTINGGAL                                                    0\n",
       "DESA SANGAT TERTINGGAL                                             0\n",
       "TIDAK MEMENUHI KRITERIA (tidak melakukan pengukuran berdasarkan    0\n",
       "TOTAL DESA                                                         0\n",
       "dtype: int64"
      ]
     },
     "metadata": {},
     "output_type": "display_data"
    }
   ],
   "source": [
    "# Cek Missing Value\n",
    "for name, df in dataframes.items():\n",
    "    print(f\"Jumlah missing value untuk df {name}:\")\n",
    "    display(df.isna().sum())"
   ]
  },
  {
   "cell_type": "code",
   "execution_count": 8,
   "id": "c4f889c0",
   "metadata": {},
   "outputs": [],
   "source": [
    "# Hapus data yang nilainya null pada kolom Provinsi (beda format header/tidak digunakan)\n",
    "province_column = ['Provinsi', 'Provinsi ', 'PROVINSI', 'NAMA_PROVINSI', 'NAMA PROVINSI', 'Nama_prov']\n",
    "for name, df in dataframes.items():\n",
    "    for column in province_column:\n",
    "        if column in df.columns:\n",
    "            dataframes[name] = df.dropna(subset=column)\n"
   ]
  },
  {
   "cell_type": "code",
   "execution_count": 9,
   "id": "0816e1f2",
   "metadata": {},
   "outputs": [
    {
     "name": "stdout",
     "output_type": "stream",
     "text": [
      "Tipe Data untuk df 01_Jumlah Desa Mandiri Menurut Provinsi, 2019:\n"
     ]
    },
    {
     "data": {
      "text/plain": [
       "Provinsi                                            object\n",
       "Jumlah Desa Mandiri Menurut Provinsi (Desa)_2019    object\n",
       "dtype: object"
      ]
     },
     "metadata": {},
     "output_type": "display_data"
    },
    {
     "name": "stdout",
     "output_type": "stream",
     "text": [
      "Tipe Data untuk df 01_Jumlah Desa Mandiri Menurut Provinsi, 2020:\n"
     ]
    },
    {
     "data": {
      "text/plain": [
       "Provinsi                                            object\n",
       "Jumlah Desa Mandiri Menurut Provinsi (Desa)_2020    object\n",
       "dtype: object"
      ]
     },
     "metadata": {},
     "output_type": "display_data"
    },
    {
     "name": "stdout",
     "output_type": "stream",
     "text": [
      "Tipe Data untuk df 01_Jumlah Desa Mandiri Menurut Provinsi, 2021:\n"
     ]
    },
    {
     "data": {
      "text/plain": [
       "Provinsi                                            object\n",
       "Jumlah Desa Mandiri Menurut Provinsi (Desa)_2021    object\n",
       "dtype: object"
      ]
     },
     "metadata": {},
     "output_type": "display_data"
    },
    {
     "name": "stdout",
     "output_type": "stream",
     "text": [
      "Tipe Data untuk df 02_Jumlah Desa Tertinggal menurut Provinsi, 2019:\n"
     ]
    },
    {
     "data": {
      "text/plain": [
       "Provinsi                       object\n",
       "Desa Sangat Tertinggal_2019    object\n",
       "Desa Tertinggal_2019           object\n",
       "Jumlah_2019                    object\n",
       "dtype: object"
      ]
     },
     "metadata": {},
     "output_type": "display_data"
    },
    {
     "name": "stdout",
     "output_type": "stream",
     "text": [
      "Tipe Data untuk df 02_Jumlah Desa Tertinggal menurut Provinsi, 2020:\n"
     ]
    },
    {
     "data": {
      "text/plain": [
       "Provinsi                       object\n",
       "Desa Sangat Tertinggal_2020    object\n",
       "Desa Tertinggal_2020           object\n",
       "Jumlah_2020                    object\n",
       "dtype: object"
      ]
     },
     "metadata": {},
     "output_type": "display_data"
    },
    {
     "name": "stdout",
     "output_type": "stream",
     "text": [
      "Tipe Data untuk df 02_Jumlah Desa Tertinggal menurut Provinsi, 2021:\n"
     ]
    },
    {
     "data": {
      "text/plain": [
       "Provinsi                       object\n",
       "Desa Sangat Tertinggal_2021    object\n",
       "Desa Tertinggal_2021           object\n",
       "Jumlah_2021                    object\n",
       "dtype: object"
      ]
     },
     "metadata": {},
     "output_type": "display_data"
    },
    {
     "name": "stdout",
     "output_type": "stream",
     "text": [
      "Tipe Data untuk df 03_Jumlah Desa Menurut Provinsi dan Letak Geografi, 2024:\n"
     ]
    },
    {
     "data": {
      "text/plain": [
       "Provinsi                object\n",
       "Tepi Laut_2024          object\n",
       "Bukan Tepi Laut_2024    object\n",
       "dtype: object"
      ]
     },
     "metadata": {},
     "output_type": "display_data"
    },
    {
     "name": "stdout",
     "output_type": "stream",
     "text": [
      "Tipe Data untuk df 04_Jumlah Desa yang Memiliki Fasilitas Sekolah Menurut Provinsi dan Tingkat Pendidikan, 2024:\n"
     ]
    },
    {
     "data": {
      "text/plain": [
       "Provinsi                 object\n",
       "SD_2024                  object\n",
       "SMP_2024                 object\n",
       "SMU_2024                 object\n",
       "SMK_2024                 object\n",
       "Perguruan Tinggi_2024    object\n",
       "dtype: object"
      ]
     },
     "metadata": {},
     "output_type": "display_data"
    },
    {
     "name": "stdout",
     "output_type": "stream",
     "text": [
      "Tipe Data untuk df 05_Jumlah Desa_Kelurahan Yang Memiliki Sarana Kesehatan Menurut Provinsi, 2018:\n"
     ]
    },
    {
     "data": {
      "text/plain": [
       "Provinsi                     object\n",
       "Rumah Sakit_2018             object\n",
       "Rumah Sakit Bersalin_2018    object\n",
       "Poliklinik_2018              object\n",
       "Puskesmas_2018               object\n",
       "Puskesmas Pembantu_2018      object\n",
       "Apotek_2018                  object\n",
       "dtype: object"
      ]
     },
     "metadata": {},
     "output_type": "display_data"
    },
    {
     "name": "stdout",
     "output_type": "stream",
     "text": [
      "Tipe Data untuk df 06_Banyaknya Desa_Kelurahan yang Memiliki Fasilitas Internet di Kantor Desa_Lurah menurut Provinsi dan Klasifikasi Daerah, 2021:\n"
     ]
    },
    {
     "data": {
      "text/plain": [
       "Provinsi                    object\n",
       "Perkotaan_2021              object\n",
       "Pedesaan_2021               object\n",
       "Perkotaan+Perdesaan_2021    object\n",
       "dtype: object"
      ]
     },
     "metadata": {},
     "output_type": "display_data"
    },
    {
     "name": "stdout",
     "output_type": "stream",
     "text": [
      "Tipe Data untuk df 07_Banyaknya Desa_Kelurahan yang Memiliki Menara Base Transceiver Station (BTS) menurut Provinsi dan Klasifikasi Daerah, 2021:\n"
     ]
    },
    {
     "data": {
      "text/plain": [
       "Provinsi                    object\n",
       "Perkotaan_2021              object\n",
       "Pedesaan_2021               object\n",
       "Perkotaan+Perdesaan_2021    object\n",
       "dtype: object"
      ]
     },
     "metadata": {},
     "output_type": "display_data"
    },
    {
     "name": "stdout",
     "output_type": "stream",
     "text": [
      "Tipe Data untuk df 08_Banyaknya Desa_Kelurahan yang Memiliki Menara BTS Menurut Provinsi dan Penerimaan Sinyal Telepon Selular (Perdesaan), 2021:\n"
     ]
    },
    {
     "data": {
      "text/plain": [
       "Provinsi                 object\n",
       "Ada Sinyal Kuat_2021     object\n",
       "Ada Sinyal Lemah_2021    object\n",
       "Tidak Ada Sinyal_2021    object\n",
       "dtype: object"
      ]
     },
     "metadata": {},
     "output_type": "display_data"
    },
    {
     "name": "stdout",
     "output_type": "stream",
     "text": [
      "Tipe Data untuk df 09_Banyaknya Desa_Kelurahan yang Menerima Sinyal Telepon Selular Menurut Provinsi (Sinyal Kuat), 2021:\n"
     ]
    },
    {
     "data": {
      "text/plain": [
       "Provinsi                    object\n",
       "Perkotaan_2021              object\n",
       "Pedesaan_2021               object\n",
       "Perkotaan+Perdesaan_2021    object\n",
       "dtype: object"
      ]
     },
     "metadata": {},
     "output_type": "display_data"
    },
    {
     "name": "stdout",
     "output_type": "stream",
     "text": [
      "Tipe Data untuk df 10_Banyaknya Desa_Kelurahan yang Menerima Sinyal Telepon Selular Menurut Provinsi (Sinyal Lemah), 2021:\n"
     ]
    },
    {
     "data": {
      "text/plain": [
       "Provinsi                    object\n",
       "Perkotaan_2021              object\n",
       "Pedesaan_2021               object\n",
       "Perkotaan+Perdesaan_2021    object\n",
       "dtype: object"
      ]
     },
     "metadata": {},
     "output_type": "display_data"
    },
    {
     "name": "stdout",
     "output_type": "stream",
     "text": [
      "Tipe Data untuk df 11_Banyaknya Desa_Kelurahan yang Tidak Memiliki Menara BTS Menurut Provinsi dan Penerimaan Sinyal Telepon Selular (Perdesaan), 2021:\n"
     ]
    },
    {
     "data": {
      "text/plain": [
       "Provinsi                 object\n",
       "Ada Sinyal Kuat_2021     object\n",
       "Ada Sinyal Lemah_2021    object\n",
       "Tidak Ada Sinyal_2021    object\n",
       "dtype: object"
      ]
     },
     "metadata": {},
     "output_type": "display_data"
    },
    {
     "name": "stdout",
     "output_type": "stream",
     "text": [
      "Tipe Data untuk df 12_Jumlah Desa_Kelurahan Menurut Provinsi, 2024:\n"
     ]
    },
    {
     "data": {
      "text/plain": [
       "Provinsi             object\n",
       "Jumlah Desa_2024    float64\n",
       "dtype: object"
      ]
     },
     "metadata": {},
     "output_type": "display_data"
    },
    {
     "name": "stdout",
     "output_type": "stream",
     "text": [
      "Tipe Data untuk df 13_jumlah-pendamping-desa-yang-diberdayakan:\n"
     ]
    },
    {
     "data": {
      "text/plain": [
       "No                      object\n",
       "Provinsi                object\n",
       "Waktu                   object\n",
       " TAPM_Pusat            float64\n",
       " TAPM_Provinsi         float64\n",
       "TAPM_Kabupaten_Kota     object\n",
       "PD                      object\n",
       "PLD                     object\n",
       "Total                   object\n",
       "dtype: object"
      ]
     },
     "metadata": {},
     "output_type": "display_data"
    },
    {
     "name": "stdout",
     "output_type": "stream",
     "text": [
      "Tipe Data untuk df 14_data-jumlah-masyarakat-desa-yang-diberikan-pelatihan-tahun-2024:\n"
     ]
    },
    {
     "data": {
      "text/plain": [
       "NO                     int64\n",
       "NAMA_BALAI            object\n",
       "JENIS_PELATIHAN       object\n",
       "WAKTU_PELAKSANAAN     object\n",
       "ID_PROVINSI            int64\n",
       "PROVINSI              object\n",
       "ID_KABUPATEN         float64\n",
       "KABUPATEN             object\n",
       "ID_KECAMATAN         float64\n",
       "KECAMATAN             object\n",
       "ID_DESA              float64\n",
       "DESA                  object\n",
       " JUMLAH                int64\n",
       "dtype: object"
      ]
     },
     "metadata": {},
     "output_type": "display_data"
    },
    {
     "name": "stdout",
     "output_type": "stream",
     "text": [
      "Tipe Data untuk df 15_jumlah-jenis-usaha-dan-status-badan-hukum-bumdesa-bumdesa-bersama:\n"
     ]
    },
    {
     "data": {
      "text/plain": [
       "Provinsi       object\n",
       "Kabupaten      object\n",
       "Kecamatan      object\n",
       "Desa           object\n",
       "Nama_BUMDes    object\n",
       "ket_kbli       object\n",
       "status         object\n",
       "Tipe_BUMDes    object\n",
       "dtype: object"
      ]
     },
     "metadata": {},
     "output_type": "display_data"
    },
    {
     "name": "stdout",
     "output_type": "stream",
     "text": [
      "Tipe Data untuk df 16_jumlah-bumdesa-dan-bumdesa-bersama-yang-berbadan-hukum:\n"
     ]
    },
    {
     "data": {
      "text/plain": [
       "Nama_BUMDes    object\n",
       "Provinsi       object\n",
       "Kabupaten      object\n",
       "Kecamatan      object\n",
       "Desa           object\n",
       "Status         object\n",
       "Kategori       object\n",
       "dtype: object"
      ]
     },
     "metadata": {},
     "output_type": "display_data"
    },
    {
     "name": "stdout",
     "output_type": "stream",
     "text": [
      "Tipe Data untuk df 17_bumdesa-kategori-usaha:\n"
     ]
    },
    {
     "data": {
      "text/plain": [
       "Provinsi       object\n",
       "Kabupaten      object\n",
       "Kecamatan      object\n",
       "Desa           object\n",
       "Nama_BUMDes    object\n",
       "ket_kbli       object\n",
       "Tipe_BUMDes    object\n",
       "dtype: object"
      ]
     },
     "metadata": {},
     "output_type": "display_data"
    },
    {
     "name": "stdout",
     "output_type": "stream",
     "text": [
      "Tipe Data untuk df 18_jumlah-tenaga-kerja-di-badan-usaha-milik-desa-bumdes:\n"
     ]
    },
    {
     "data": {
      "text/plain": [
       "Kode_Prov       float64\n",
       "PROVINSI         object\n",
       "KABUPATEN        object\n",
       "KECAMATAN        object\n",
       "Kode_Desa       float64\n",
       "DESA             object\n",
       "NAMA_BUMDESA     object\n",
       "Tenaga_Kerja    float64\n",
       "dtype: object"
      ]
     },
     "metadata": {},
     "output_type": "display_data"
    },
    {
     "name": "stdout",
     "output_type": "stream",
     "text": [
      "Tipe Data untuk df 19_jumlah-bumdesa-dan-bumdesa-bersama-nasional:\n"
     ]
    },
    {
     "data": {
      "text/plain": [
       "Nama_BUMDes    object\n",
       "Provinsi       object\n",
       "Kabupaten      object\n",
       "Kecamatan      object\n",
       "Desa           object\n",
       "Status         object\n",
       "Kategori       object\n",
       "dtype: object"
      ]
     },
     "metadata": {},
     "output_type": "display_data"
    },
    {
     "name": "stdout",
     "output_type": "stream",
     "text": [
      "Tipe Data untuk df 20_jumlah-desa-penerima-bantuan-pow:\n"
     ]
    },
    {
     "data": {
      "text/plain": [
       "KODE_PROVINSI      float64\n",
       "NAMA_PROVINSI       object\n",
       "KODE_KAB           float64\n",
       "NAMA_KABUPATEN      object\n",
       "JUMLAH_DESA        float64\n",
       "NOMINAL_BANTUAN     object\n",
       "JENIS_BANTUAN       object\n",
       "dtype: object"
      ]
     },
     "metadata": {},
     "output_type": "display_data"
    },
    {
     "name": "stdout",
     "output_type": "stream",
     "text": [
      "Tipe Data untuk df 21_Jumlah Desa Manfaat SP:\n"
     ]
    },
    {
     "data": {
      "text/plain": [
       "id                                    int64\n",
       "Id_prov                              object\n",
       "Nama_prov                            object\n",
       "Bak/Tong Sampah                     float64\n",
       "Balai Kemasyarakatan                  int64\n",
       "                                     ...   \n",
       "Tembok Penahan Tanah                float64\n",
       "Tempat Pembuangan Sampah            float64\n",
       "Tempat Pengolahan Sampah            float64\n",
       "Tempat Penjemuran Tanaman Pangan    float64\n",
       "Grand Total                           int64\n",
       "Length: 69, dtype: object"
      ]
     },
     "metadata": {},
     "output_type": "display_data"
    },
    {
     "name": "stdout",
     "output_type": "stream",
     "text": [
      "Tipe Data untuk df 22_Jumlah Desa Status Kemajuan:\n"
     ]
    },
    {
     "data": {
      "text/plain": [
       "id                                                                   int64\n",
       "KODE PROVINSI                                                      float64\n",
       "NAMA PROVINSI                                                       object\n",
       "KODE KAB                                                           float64\n",
       "NAMA KABUPATEN                                                      object\n",
       "DESA MANDIRI                                                       float64\n",
       "DESA MAJU                                                          float64\n",
       "DESA BERKEMBANG                                                    float64\n",
       "DESA TERTINGGAL                                                    float64\n",
       "DESA SANGAT TERTINGGAL                                             float64\n",
       "TIDAK MEMENUHI KRITERIA (tidak melakukan pengukuran berdasarkan      int64\n",
       "TOTAL DESA                                                         float64\n",
       "dtype: object"
      ]
     },
     "metadata": {},
     "output_type": "display_data"
    }
   ],
   "source": [
    "# Cek Tipe Data\n",
    "for name, df in dataframes.items():\n",
    "    print(f\"Tipe Data untuk df {name}:\")\n",
    "    display(df.dtypes)"
   ]
  },
  {
   "cell_type": "code",
   "execution_count": 10,
   "id": "a0b66b47",
   "metadata": {},
   "outputs": [],
   "source": [
    "# Mapping untuk mengubah tipe data\n",
    "peta_tipe_data_numerik = {\n",
    "    '01_Jumlah Desa Mandiri Menurut Provinsi, 2019': [\n",
    "        'Jumlah Desa Mandiri Menurut Provinsi (Desa)_2019'\n",
    "    ],\n",
    "    '01_Jumlah Desa Mandiri Menurut Provinsi, 2020': [\n",
    "        'Jumlah Desa Mandiri Menurut Provinsi (Desa)_2020'\n",
    "    ],\n",
    "    '01_Jumlah Desa Mandiri Menurut Provinsi, 2021': [\n",
    "        'Jumlah Desa Mandiri Menurut Provinsi (Desa)_2021'\n",
    "    ],\n",
    "    '02_Jumlah Desa Tertinggal menurut Provinsi, 2019': [\n",
    "        'Desa Sangat Tertinggal_2019',\n",
    "        'Desa Tertinggal_2019',\n",
    "        'Jumlah_2019'\n",
    "    ],\n",
    "    '02_Jumlah Desa Tertinggal menurut Provinsi, 2020': [\n",
    "        'Desa Sangat Tertinggal_2020',\n",
    "        'Desa Tertinggal_2020',\n",
    "        'Jumlah_2020'\n",
    "    ],\n",
    "    '02_Jumlah Desa Tertinggal menurut Provinsi, 2021': [\n",
    "        'Desa Sangat Tertinggal_2021',\n",
    "        'Desa Tertinggal_2021',\n",
    "        'Jumlah_2021'\n",
    "    ],\n",
    "    '03_Jumlah Desa Menurut Provinsi dan Letak Geografi, 2024': [\n",
    "        'Tepi Laut_2024',\n",
    "        'Bukan Tepi Laut_2024'\n",
    "    ],\n",
    "    '04_Jumlah Desa yang Memiliki Fasilitas Sekolah Menurut Provinsi dan Tingkat Pendidikan, 2024': [\n",
    "        'SD_2024',\n",
    "        'SMP_2024',\n",
    "        'SMU_2024',\n",
    "        'SMK_2024',\n",
    "        'Perguruan Tinggi_2024'\n",
    "    ],\n",
    "    '05_Jumlah Desa_Kelurahan Yang Memiliki Sarana Kesehatan Menurut Provinsi, 2018': [\n",
    "        'Rumah Sakit_2018',\n",
    "        'Rumah Sakit Bersalin_2018',\n",
    "        'Poliklinik_2018',\n",
    "        'Puskesmas_2018',\n",
    "        'Puskesmas Pembantu_2018',\n",
    "        'Apotek_2018'\n",
    "    ],\n",
    "    '06_Banyaknya Desa_Kelurahan yang Memiliki Fasilitas Internet di Kantor Desa_Lurah menurut Provinsi dan Klasifikasi Daerah, 2021': [\n",
    "        'Perkotaan_2021',\n",
    "        'Pedesaan_2021',\n",
    "        'Perkotaan+Perdesaan_2021'\n",
    "    ],\n",
    "    '07_Banyaknya Desa_Kelurahan yang Memiliki Menara Base Transceiver Station (BTS) menurut Provinsi dan Klasifikasi Daerah, 2021': [\n",
    "        'Perkotaan_2021',\n",
    "        'Pedesaan_2021',\n",
    "        'Perkotaan+Perdesaan_2021'\n",
    "    ],\n",
    "    '08_Banyaknya Desa_Kelurahan yang Memiliki Menara BTS Menurut Provinsi dan Penerimaan Sinyal Telepon Selular (Perdesaan), 2021': [\n",
    "        'Ada Sinyal Kuat_2021',\n",
    "        'Ada Sinyal Lemah_2021',\n",
    "        'Tidak Ada Sinyal_2021'\n",
    "    ],\n",
    "    '09_Banyaknya Desa_Kelurahan yang Menerima Sinyal Telepon Selular Menurut Provinsi (Sinyal Kuat), 2021': [\n",
    "        'Perkotaan_2021',\n",
    "        'Pedesaan_2021',\n",
    "        'Perkotaan+Perdesaan_2021'\n",
    "    ],\n",
    "    '10_Banyaknya Desa_Kelurahan yang Menerima Sinyal Telepon Selular Menurut Provinsi (Sinyal Lemah), 2021': [\n",
    "        'Perkotaan_2021',\n",
    "        'Pedesaan_2021',\n",
    "        'Perkotaan+Perdesaan_2021'\n",
    "    ],\n",
    "    '11_Banyaknya Desa_Kelurahan yang Tidak Memiliki Menara BTS Menurut Provinsi dan Penerimaan Sinyal Telepon Selular (Perdesaan), 2021': [\n",
    "        'Ada Sinyal Kuat_2021',\n",
    "        'Ada Sinyal Lemah_2021',\n",
    "        'Tidak Ada Sinyal_2021'\n",
    "    ],\n",
    "    '13_jumlah-pendamping-desa-yang-diberdayakan': [\n",
    "        'TAPM_Kabupaten_Kota',\n",
    "        'PD',\n",
    "        'PLD',\n",
    "        'Total'\n",
    "    ],\n",
    "    '20_jumlah-desa-penerima-bantuan-pow': [\n",
    "        'NOMINAL_BANTUAN'\n",
    "    ]\n",
    "}"
   ]
  },
  {
   "cell_type": "code",
   "execution_count": 11,
   "id": "e4d42487",
   "metadata": {},
   "outputs": [
    {
     "name": "stdout",
     "output_type": "stream",
     "text": [
      "DataFrame '01_Jumlah Desa Mandiri Menurut Provinsi, 2019', Kolom 'Jumlah Desa Mandiri Menurut Provinsi (Desa)_2019' berhasil diubah menjadi numerik\n",
      "DataFrame '01_Jumlah Desa Mandiri Menurut Provinsi, 2020', Kolom 'Jumlah Desa Mandiri Menurut Provinsi (Desa)_2020' berhasil diubah menjadi numerik\n",
      "DataFrame '01_Jumlah Desa Mandiri Menurut Provinsi, 2021', Kolom 'Jumlah Desa Mandiri Menurut Provinsi (Desa)_2021' berhasil diubah menjadi numerik\n",
      "DataFrame '02_Jumlah Desa Tertinggal menurut Provinsi, 2019', Kolom 'Desa Sangat Tertinggal_2019' berhasil diubah menjadi numerik\n",
      "DataFrame '02_Jumlah Desa Tertinggal menurut Provinsi, 2019', Kolom 'Desa Tertinggal_2019' berhasil diubah menjadi numerik\n",
      "DataFrame '02_Jumlah Desa Tertinggal menurut Provinsi, 2019', Kolom 'Jumlah_2019' berhasil diubah menjadi numerik\n",
      "DataFrame '02_Jumlah Desa Tertinggal menurut Provinsi, 2020', Kolom 'Desa Sangat Tertinggal_2020' berhasil diubah menjadi numerik\n",
      "DataFrame '02_Jumlah Desa Tertinggal menurut Provinsi, 2020', Kolom 'Desa Tertinggal_2020' berhasil diubah menjadi numerik\n",
      "DataFrame '02_Jumlah Desa Tertinggal menurut Provinsi, 2020', Kolom 'Jumlah_2020' berhasil diubah menjadi numerik\n",
      "DataFrame '02_Jumlah Desa Tertinggal menurut Provinsi, 2021', Kolom 'Desa Sangat Tertinggal_2021' berhasil diubah menjadi numerik\n",
      "DataFrame '02_Jumlah Desa Tertinggal menurut Provinsi, 2021', Kolom 'Desa Tertinggal_2021' berhasil diubah menjadi numerik\n",
      "DataFrame '02_Jumlah Desa Tertinggal menurut Provinsi, 2021', Kolom 'Jumlah_2021' berhasil diubah menjadi numerik\n"
     ]
    },
    {
     "name": "stdout",
     "output_type": "stream",
     "text": [
      "DataFrame '03_Jumlah Desa Menurut Provinsi dan Letak Geografi, 2024', Kolom 'Tepi Laut_2024' berhasil diubah menjadi numerik\n",
      "DataFrame '03_Jumlah Desa Menurut Provinsi dan Letak Geografi, 2024', Kolom 'Bukan Tepi Laut_2024' berhasil diubah menjadi numerik\n",
      "DataFrame '04_Jumlah Desa yang Memiliki Fasilitas Sekolah Menurut Provinsi dan Tingkat Pendidikan, 2024', Kolom 'SD_2024' berhasil diubah menjadi numerik\n",
      "DataFrame '04_Jumlah Desa yang Memiliki Fasilitas Sekolah Menurut Provinsi dan Tingkat Pendidikan, 2024', Kolom 'SMP_2024' berhasil diubah menjadi numerik\n",
      "DataFrame '04_Jumlah Desa yang Memiliki Fasilitas Sekolah Menurut Provinsi dan Tingkat Pendidikan, 2024', Kolom 'SMU_2024' berhasil diubah menjadi numerik\n",
      "DataFrame '04_Jumlah Desa yang Memiliki Fasilitas Sekolah Menurut Provinsi dan Tingkat Pendidikan, 2024', Kolom 'SMK_2024' berhasil diubah menjadi numerik\n",
      "DataFrame '04_Jumlah Desa yang Memiliki Fasilitas Sekolah Menurut Provinsi dan Tingkat Pendidikan, 2024', Kolom 'Perguruan Tinggi_2024' berhasil diubah menjadi numerik\n",
      "DataFrame '05_Jumlah Desa_Kelurahan Yang Memiliki Sarana Kesehatan Menurut Provinsi, 2018', Kolom 'Rumah Sakit_2018' berhasil diubah menjadi numerik\n",
      "DataFrame '05_Jumlah Desa_Kelurahan Yang Memiliki Sarana Kesehatan Menurut Provinsi, 2018', Kolom 'Rumah Sakit Bersalin_2018' berhasil diubah menjadi numerik\n",
      "DataFrame '05_Jumlah Desa_Kelurahan Yang Memiliki Sarana Kesehatan Menurut Provinsi, 2018', Kolom 'Poliklinik_2018' berhasil diubah menjadi numerik\n",
      "DataFrame '05_Jumlah Desa_Kelurahan Yang Memiliki Sarana Kesehatan Menurut Provinsi, 2018', Kolom 'Puskesmas_2018' berhasil diubah menjadi numerik\n",
      "DataFrame '05_Jumlah Desa_Kelurahan Yang Memiliki Sarana Kesehatan Menurut Provinsi, 2018', Kolom 'Puskesmas Pembantu_2018' berhasil diubah menjadi numerik\n",
      "DataFrame '05_Jumlah Desa_Kelurahan Yang Memiliki Sarana Kesehatan Menurut Provinsi, 2018', Kolom 'Apotek_2018' berhasil diubah menjadi numerik\n",
      "DataFrame '06_Banyaknya Desa_Kelurahan yang Memiliki Fasilitas Internet di Kantor Desa_Lurah menurut Provinsi dan Klasifikasi Daerah, 2021', Kolom 'Perkotaan_2021' berhasil diubah menjadi numerik\n",
      "DataFrame '06_Banyaknya Desa_Kelurahan yang Memiliki Fasilitas Internet di Kantor Desa_Lurah menurut Provinsi dan Klasifikasi Daerah, 2021', Kolom 'Pedesaan_2021' berhasil diubah menjadi numerik\n",
      "DataFrame '06_Banyaknya Desa_Kelurahan yang Memiliki Fasilitas Internet di Kantor Desa_Lurah menurut Provinsi dan Klasifikasi Daerah, 2021', Kolom 'Perkotaan+Perdesaan_2021' berhasil diubah menjadi numerik\n",
      "DataFrame '07_Banyaknya Desa_Kelurahan yang Memiliki Menara Base Transceiver Station (BTS) menurut Provinsi dan Klasifikasi Daerah, 2021', Kolom 'Perkotaan_2021' berhasil diubah menjadi numerik\n",
      "DataFrame '07_Banyaknya Desa_Kelurahan yang Memiliki Menara Base Transceiver Station (BTS) menurut Provinsi dan Klasifikasi Daerah, 2021', Kolom 'Pedesaan_2021' berhasil diubah menjadi numerik\n",
      "DataFrame '07_Banyaknya Desa_Kelurahan yang Memiliki Menara Base Transceiver Station (BTS) menurut Provinsi dan Klasifikasi Daerah, 2021', Kolom 'Perkotaan+Perdesaan_2021' berhasil diubah menjadi numerik\n",
      "DataFrame '08_Banyaknya Desa_Kelurahan yang Memiliki Menara BTS Menurut Provinsi dan Penerimaan Sinyal Telepon Selular (Perdesaan), 2021', Kolom 'Ada Sinyal Kuat_2021' berhasil diubah menjadi numerik\n",
      "DataFrame '08_Banyaknya Desa_Kelurahan yang Memiliki Menara BTS Menurut Provinsi dan Penerimaan Sinyal Telepon Selular (Perdesaan), 2021', Kolom 'Ada Sinyal Lemah_2021' berhasil diubah menjadi numerik\n",
      "DataFrame '08_Banyaknya Desa_Kelurahan yang Memiliki Menara BTS Menurut Provinsi dan Penerimaan Sinyal Telepon Selular (Perdesaan), 2021', Kolom 'Tidak Ada Sinyal_2021' berhasil diubah menjadi numerik\n",
      "DataFrame '09_Banyaknya Desa_Kelurahan yang Menerima Sinyal Telepon Selular Menurut Provinsi (Sinyal Kuat), 2021', Kolom 'Perkotaan_2021' berhasil diubah menjadi numerik\n",
      "DataFrame '09_Banyaknya Desa_Kelurahan yang Menerima Sinyal Telepon Selular Menurut Provinsi (Sinyal Kuat), 2021', Kolom 'Pedesaan_2021' berhasil diubah menjadi numerik\n",
      "DataFrame '09_Banyaknya Desa_Kelurahan yang Menerima Sinyal Telepon Selular Menurut Provinsi (Sinyal Kuat), 2021', Kolom 'Perkotaan+Perdesaan_2021' berhasil diubah menjadi numerik\n",
      "DataFrame '10_Banyaknya Desa_Kelurahan yang Menerima Sinyal Telepon Selular Menurut Provinsi (Sinyal Lemah), 2021', Kolom 'Perkotaan_2021' berhasil diubah menjadi numerik\n",
      "DataFrame '10_Banyaknya Desa_Kelurahan yang Menerima Sinyal Telepon Selular Menurut Provinsi (Sinyal Lemah), 2021', Kolom 'Pedesaan_2021' berhasil diubah menjadi numerik\n",
      "DataFrame '10_Banyaknya Desa_Kelurahan yang Menerima Sinyal Telepon Selular Menurut Provinsi (Sinyal Lemah), 2021', Kolom 'Perkotaan+Perdesaan_2021' berhasil diubah menjadi numerik\n",
      "DataFrame '11_Banyaknya Desa_Kelurahan yang Tidak Memiliki Menara BTS Menurut Provinsi dan Penerimaan Sinyal Telepon Selular (Perdesaan), 2021', Kolom 'Ada Sinyal Kuat_2021' berhasil diubah menjadi numerik\n",
      "DataFrame '11_Banyaknya Desa_Kelurahan yang Tidak Memiliki Menara BTS Menurut Provinsi dan Penerimaan Sinyal Telepon Selular (Perdesaan), 2021', Kolom 'Ada Sinyal Lemah_2021' berhasil diubah menjadi numerik\n",
      "DataFrame '11_Banyaknya Desa_Kelurahan yang Tidak Memiliki Menara BTS Menurut Provinsi dan Penerimaan Sinyal Telepon Selular (Perdesaan), 2021', Kolom 'Tidak Ada Sinyal_2021' berhasil diubah menjadi numerik\n",
      "DataFrame '13_jumlah-pendamping-desa-yang-diberdayakan', Kolom 'TAPM_Kabupaten_Kota' berhasil diubah menjadi numerik\n",
      "DataFrame '13_jumlah-pendamping-desa-yang-diberdayakan', Kolom 'PD' berhasil diubah menjadi numerik\n",
      "DataFrame '13_jumlah-pendamping-desa-yang-diberdayakan', Kolom 'PLD' berhasil diubah menjadi numerik\n",
      "DataFrame '20_jumlah-desa-penerima-bantuan-pow', Kolom 'NOMINAL_BANTUAN' berhasil diubah menjadi numerik\n"
     ]
    }
   ],
   "source": [
    "# Penggantian tipe data untuk setiap dataframe menjadi numerik\n",
    "for nama, df in dataframes.items():\n",
    "    if nama in peta_tipe_data_numerik:\n",
    "        mapping_tipe = peta_tipe_data_numerik[nama]\n",
    "        # Lakukan iterasi untuk setiap kolom yang akan diubah \n",
    "        for kolom in mapping_tipe:\n",
    "            if kolom in df.columns:\n",
    "                try:\n",
    "                    df[kolom] = pd.to_numeric(df[kolom], errors='coerce')\n",
    "                    print(f\"DataFrame '{nama}', Kolom '{kolom}' berhasil diubah menjadi numerik\")\n",
    "                except Exception as e:\n",
    "                    print(f\"Gagal mengubah kolom '{kolom}' di DataFrame '{nama}': {e}\")\n",
    "    # Isi kolom lainnya dengan nilai nol sebagai penanda data kosong termasuk data bernilai strip '-'\n",
    "    df.fillna(0, inplace=True)\n",
    "    df.drop_duplicates(inplace=True)"
   ]
  },
  {
   "cell_type": "markdown",
   "id": "2ebbe5d2",
   "metadata": {},
   "source": [
    "Dataframe yang telah dilakukan cleaning disimpan dalam format csv untuk dilakukan analisis selanjutnya"
   ]
  },
  {
   "cell_type": "code",
   "execution_count": 12,
   "id": "66a557c9",
   "metadata": {},
   "outputs": [
    {
     "name": "stdout",
     "output_type": "stream",
     "text": [
      "DataFrame '01_Jumlah Desa Mandiri Menurut Provinsi, 2019' berhasil disimpan sebagai 'data\\processed\\01_Jumlah Desa Mandiri Menurut Provinsi, 2019-processed.csv'\n",
      "DataFrame '01_Jumlah Desa Mandiri Menurut Provinsi, 2020' berhasil disimpan sebagai 'data\\processed\\01_Jumlah Desa Mandiri Menurut Provinsi, 2020-processed.csv'\n",
      "DataFrame '01_Jumlah Desa Mandiri Menurut Provinsi, 2021' berhasil disimpan sebagai 'data\\processed\\01_Jumlah Desa Mandiri Menurut Provinsi, 2021-processed.csv'\n",
      "DataFrame '02_Jumlah Desa Tertinggal menurut Provinsi, 2019' berhasil disimpan sebagai 'data\\processed\\02_Jumlah Desa Tertinggal menurut Provinsi, 2019-processed.csv'\n",
      "DataFrame '02_Jumlah Desa Tertinggal menurut Provinsi, 2020' berhasil disimpan sebagai 'data\\processed\\02_Jumlah Desa Tertinggal menurut Provinsi, 2020-processed.csv'\n",
      "DataFrame '02_Jumlah Desa Tertinggal menurut Provinsi, 2021' berhasil disimpan sebagai 'data\\processed\\02_Jumlah Desa Tertinggal menurut Provinsi, 2021-processed.csv'\n",
      "DataFrame '03_Jumlah Desa Menurut Provinsi dan Letak Geografi, 2024' berhasil disimpan sebagai 'data\\processed\\03_Jumlah Desa Menurut Provinsi dan Letak Geografi, 2024-processed.csv'\n",
      "DataFrame '04_Jumlah Desa yang Memiliki Fasilitas Sekolah Menurut Provinsi dan Tingkat Pendidikan, 2024' berhasil disimpan sebagai 'data\\processed\\04_Jumlah Desa yang Memiliki Fasilitas Sekolah Menurut Provinsi dan Tingkat Pendidikan, 2024-processed.csv'\n",
      "DataFrame '05_Jumlah Desa_Kelurahan Yang Memiliki Sarana Kesehatan Menurut Provinsi, 2018' berhasil disimpan sebagai 'data\\processed\\05_Jumlah Desa_Kelurahan Yang Memiliki Sarana Kesehatan Menurut Provinsi, 2018-processed.csv'\n",
      "DataFrame '06_Banyaknya Desa_Kelurahan yang Memiliki Fasilitas Internet di Kantor Desa_Lurah menurut Provinsi dan Klasifikasi Daerah, 2021' berhasil disimpan sebagai 'data\\processed\\06_Banyaknya Desa_Kelurahan yang Memiliki Fasilitas Internet di Kantor Desa_Lurah menurut Provinsi dan Klasifikasi Daerah, 2021-processed.csv'\n",
      "DataFrame '07_Banyaknya Desa_Kelurahan yang Memiliki Menara Base Transceiver Station (BTS) menurut Provinsi dan Klasifikasi Daerah, 2021' berhasil disimpan sebagai 'data\\processed\\07_Banyaknya Desa_Kelurahan yang Memiliki Menara Base Transceiver Station (BTS) menurut Provinsi dan Klasifikasi Daerah, 2021-processed.csv'\n",
      "DataFrame '08_Banyaknya Desa_Kelurahan yang Memiliki Menara BTS Menurut Provinsi dan Penerimaan Sinyal Telepon Selular (Perdesaan), 2021' berhasil disimpan sebagai 'data\\processed\\08_Banyaknya Desa_Kelurahan yang Memiliki Menara BTS Menurut Provinsi dan Penerimaan Sinyal Telepon Selular (Perdesaan), 2021-processed.csv'\n",
      "DataFrame '09_Banyaknya Desa_Kelurahan yang Menerima Sinyal Telepon Selular Menurut Provinsi (Sinyal Kuat), 2021' berhasil disimpan sebagai 'data\\processed\\09_Banyaknya Desa_Kelurahan yang Menerima Sinyal Telepon Selular Menurut Provinsi (Sinyal Kuat), 2021-processed.csv'\n",
      "DataFrame '10_Banyaknya Desa_Kelurahan yang Menerima Sinyal Telepon Selular Menurut Provinsi (Sinyal Lemah), 2021' berhasil disimpan sebagai 'data\\processed\\10_Banyaknya Desa_Kelurahan yang Menerima Sinyal Telepon Selular Menurut Provinsi (Sinyal Lemah), 2021-processed.csv'\n",
      "DataFrame '11_Banyaknya Desa_Kelurahan yang Tidak Memiliki Menara BTS Menurut Provinsi dan Penerimaan Sinyal Telepon Selular (Perdesaan), 2021' berhasil disimpan sebagai 'data\\processed\\11_Banyaknya Desa_Kelurahan yang Tidak Memiliki Menara BTS Menurut Provinsi dan Penerimaan Sinyal Telepon Selular (Perdesaan), 2021-processed.csv'\n",
      "DataFrame '12_Jumlah Desa_Kelurahan Menurut Provinsi, 2024' berhasil disimpan sebagai 'data\\processed\\12_Jumlah Desa_Kelurahan Menurut Provinsi, 2024-processed.csv'\n",
      "DataFrame '13_jumlah-pendamping-desa-yang-diberdayakan' berhasil disimpan sebagai 'data\\processed\\13_jumlah-pendamping-desa-yang-diberdayakan-processed.csv'\n",
      "DataFrame '14_data-jumlah-masyarakat-desa-yang-diberikan-pelatihan-tahun-2024' berhasil disimpan sebagai 'data\\processed\\14_data-jumlah-masyarakat-desa-yang-diberikan-pelatihan-tahun-2024-processed.csv'\n",
      "DataFrame '15_jumlah-jenis-usaha-dan-status-badan-hukum-bumdesa-bumdesa-bersama' berhasil disimpan sebagai 'data\\processed\\15_jumlah-jenis-usaha-dan-status-badan-hukum-bumdesa-bumdesa-bersama-processed.csv'\n",
      "DataFrame '16_jumlah-bumdesa-dan-bumdesa-bersama-yang-berbadan-hukum' berhasil disimpan sebagai 'data\\processed\\16_jumlah-bumdesa-dan-bumdesa-bersama-yang-berbadan-hukum-processed.csv'\n",
      "DataFrame '17_bumdesa-kategori-usaha' berhasil disimpan sebagai 'data\\processed\\17_bumdesa-kategori-usaha-processed.csv'\n",
      "DataFrame '18_jumlah-tenaga-kerja-di-badan-usaha-milik-desa-bumdes' berhasil disimpan sebagai 'data\\processed\\18_jumlah-tenaga-kerja-di-badan-usaha-milik-desa-bumdes-processed.csv'\n",
      "DataFrame '19_jumlah-bumdesa-dan-bumdesa-bersama-nasional' berhasil disimpan sebagai 'data\\processed\\19_jumlah-bumdesa-dan-bumdesa-bersama-nasional-processed.csv'\n",
      "DataFrame '20_jumlah-desa-penerima-bantuan-pow' berhasil disimpan sebagai 'data\\processed\\20_jumlah-desa-penerima-bantuan-pow-processed.csv'\n",
      "DataFrame '21_Jumlah Desa Manfaat SP' berhasil disimpan sebagai 'data\\processed\\21_Jumlah Desa Manfaat SP-processed.csv'\n",
      "DataFrame '22_Jumlah Desa Status Kemajuan' berhasil disimpan sebagai 'data\\processed\\22_Jumlah Desa Status Kemajuan-processed.csv'\n"
     ]
    }
   ],
   "source": [
    "output_folder = 'data\\\\processed'\n",
    "if not os.path.exists(output_folder):\n",
    "    os.makedirs(output_folder)\n",
    "\n",
    "# Simpan Processed Data\n",
    "for name, df in dataframes.items():\n",
    "    nama_file_baru = f\"{name}-processed.csv\"\n",
    "    path_lengkap = os.path.join(output_folder, nama_file_baru)\n",
    "    df.to_csv(path_lengkap, index=False)\n",
    "    print(f\"DataFrame '{name}' berhasil disimpan sebagai '{path_lengkap}'\")"
   ]
  },
  {
   "cell_type": "code",
   "execution_count": null,
   "id": "6bdbf452",
   "metadata": {},
   "outputs": [],
   "source": []
  }
 ],
 "metadata": {
  "kernelspec": {
   "display_name": "base",
   "language": "python",
   "name": "python3"
  },
  "language_info": {
   "codemirror_mode": {
    "name": "ipython",
    "version": 3
   },
   "file_extension": ".py",
   "mimetype": "text/x-python",
   "name": "python",
   "nbconvert_exporter": "python",
   "pygments_lexer": "ipython3",
   "version": "3.13.5"
  }
 },
 "nbformat": 4,
 "nbformat_minor": 5
}
